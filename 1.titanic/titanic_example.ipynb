{
  "nbformat": 4,
  "nbformat_minor": 0,
  "metadata": {
    "colab": {
      "name": "titanic_example.ipynb",
      "provenance": [],
      "collapsed_sections": []
    },
    "kernelspec": {
      "name": "python3",
      "display_name": "Python 3"
    },
    "language_info": {
      "name": "python"
    }
  },
  "cells": [
    {
      "cell_type": "code",
      "metadata": {
        "colab": {
          "base_uri": "https://localhost:8080/"
        },
        "id": "vsFQbCN0K8kc",
        "outputId": "18d42348-0fa6-44b2-dd08-ad44b0c2d016"
      },
      "source": [
        "from google.colab import drive\n",
        "drive.mount('/gdrive', force_remount=True)"
      ],
      "execution_count": 2,
      "outputs": [
        {
          "output_type": "stream",
          "text": [
            "Mounted at /gdrive\n"
          ],
          "name": "stdout"
        }
      ]
    },
    {
      "cell_type": "code",
      "metadata": {
        "colab": {
          "base_uri": "https://localhost:8080/"
        },
        "id": "Z8QEAKZgOW3P",
        "outputId": "030b208b-34c0-48b4-fa66-088bb05f636d"
      },
      "source": [
        "!ls \"/gdrive/My Drive/colab/titanic\""
      ],
      "execution_count": null,
      "outputs": [
        {
          "output_type": "stream",
          "text": [
            "gender_submission.csv  test.csv  train.csv\n"
          ],
          "name": "stdout"
        }
      ]
    },
    {
      "cell_type": "code",
      "metadata": {
        "colab": {
          "base_uri": "https://localhost:8080/",
          "height": 197
        },
        "id": "rEtaiPOXOuWP",
        "outputId": "d0161829-2a77-42a7-880e-177654120da0"
      },
      "source": [
        "import pandas as pd                 \n",
        "import matplotlib.pyplot as plt  # 시각화를 위한 라이브러리\n",
        "import numpy as np                 # 벡터 및 행렬 연산을 위한 라이브러리\n",
        "import seaborn as sns              # 고급 시각화 라이브러리mport pandas as pd          \n",
        "import warnings\n",
        "warnings.filterwarnings('ignore')\n",
        "plt.style.use('fivethirtyeight')\n",
        "%matplotlib inline\n",
        "titanic = pd.read_csv(\"/gdrive/My Drive/colab/titanic/train.csv\")\n",
        "\n",
        "titanic.head()"
      ],
      "execution_count": 3,
      "outputs": [
        {
          "output_type": "execute_result",
          "data": {
            "text/html": [
              "<div>\n",
              "<style scoped>\n",
              "    .dataframe tbody tr th:only-of-type {\n",
              "        vertical-align: middle;\n",
              "    }\n",
              "\n",
              "    .dataframe tbody tr th {\n",
              "        vertical-align: top;\n",
              "    }\n",
              "\n",
              "    .dataframe thead th {\n",
              "        text-align: right;\n",
              "    }\n",
              "</style>\n",
              "<table border=\"1\" class=\"dataframe\">\n",
              "  <thead>\n",
              "    <tr style=\"text-align: right;\">\n",
              "      <th></th>\n",
              "      <th>PassengerId</th>\n",
              "      <th>Survived</th>\n",
              "      <th>Pclass</th>\n",
              "      <th>Name</th>\n",
              "      <th>Sex</th>\n",
              "      <th>Age</th>\n",
              "      <th>SibSp</th>\n",
              "      <th>Parch</th>\n",
              "      <th>Ticket</th>\n",
              "      <th>Fare</th>\n",
              "      <th>Cabin</th>\n",
              "      <th>Embarked</th>\n",
              "    </tr>\n",
              "  </thead>\n",
              "  <tbody>\n",
              "    <tr>\n",
              "      <th>0</th>\n",
              "      <td>1</td>\n",
              "      <td>0</td>\n",
              "      <td>3</td>\n",
              "      <td>Braund, Mr. Owen Harris</td>\n",
              "      <td>male</td>\n",
              "      <td>22.0</td>\n",
              "      <td>1</td>\n",
              "      <td>0</td>\n",
              "      <td>A/5 21171</td>\n",
              "      <td>7.2500</td>\n",
              "      <td>NaN</td>\n",
              "      <td>S</td>\n",
              "    </tr>\n",
              "    <tr>\n",
              "      <th>1</th>\n",
              "      <td>2</td>\n",
              "      <td>1</td>\n",
              "      <td>1</td>\n",
              "      <td>Cumings, Mrs. John Bradley (Florence Briggs Th...</td>\n",
              "      <td>female</td>\n",
              "      <td>38.0</td>\n",
              "      <td>1</td>\n",
              "      <td>0</td>\n",
              "      <td>PC 17599</td>\n",
              "      <td>71.2833</td>\n",
              "      <td>C85</td>\n",
              "      <td>C</td>\n",
              "    </tr>\n",
              "    <tr>\n",
              "      <th>2</th>\n",
              "      <td>3</td>\n",
              "      <td>1</td>\n",
              "      <td>3</td>\n",
              "      <td>Heikkinen, Miss. Laina</td>\n",
              "      <td>female</td>\n",
              "      <td>26.0</td>\n",
              "      <td>0</td>\n",
              "      <td>0</td>\n",
              "      <td>STON/O2. 3101282</td>\n",
              "      <td>7.9250</td>\n",
              "      <td>NaN</td>\n",
              "      <td>S</td>\n",
              "    </tr>\n",
              "    <tr>\n",
              "      <th>3</th>\n",
              "      <td>4</td>\n",
              "      <td>1</td>\n",
              "      <td>1</td>\n",
              "      <td>Futrelle, Mrs. Jacques Heath (Lily May Peel)</td>\n",
              "      <td>female</td>\n",
              "      <td>35.0</td>\n",
              "      <td>1</td>\n",
              "      <td>0</td>\n",
              "      <td>113803</td>\n",
              "      <td>53.1000</td>\n",
              "      <td>C123</td>\n",
              "      <td>S</td>\n",
              "    </tr>\n",
              "    <tr>\n",
              "      <th>4</th>\n",
              "      <td>5</td>\n",
              "      <td>0</td>\n",
              "      <td>3</td>\n",
              "      <td>Allen, Mr. William Henry</td>\n",
              "      <td>male</td>\n",
              "      <td>35.0</td>\n",
              "      <td>0</td>\n",
              "      <td>0</td>\n",
              "      <td>373450</td>\n",
              "      <td>8.0500</td>\n",
              "      <td>NaN</td>\n",
              "      <td>S</td>\n",
              "    </tr>\n",
              "  </tbody>\n",
              "</table>\n",
              "</div>"
            ],
            "text/plain": [
              "   PassengerId  Survived  Pclass  ...     Fare Cabin  Embarked\n",
              "0            1         0       3  ...   7.2500   NaN         S\n",
              "1            2         1       1  ...  71.2833   C85         C\n",
              "2            3         1       3  ...   7.9250   NaN         S\n",
              "3            4         1       1  ...  53.1000  C123         S\n",
              "4            5         0       3  ...   8.0500   NaN         S\n",
              "\n",
              "[5 rows x 12 columns]"
            ]
          },
          "metadata": {
            "tags": []
          },
          "execution_count": 3
        }
      ]
    },
    {
      "cell_type": "code",
      "metadata": {
        "colab": {
          "base_uri": "https://localhost:8080/"
        },
        "id": "UqGMRPbGPVAB",
        "outputId": "b7c4ec05-d576-4c29-f386-0c147d63e608"
      },
      "source": [
        "titanic.info()\n"
      ],
      "execution_count": 4,
      "outputs": [
        {
          "output_type": "stream",
          "text": [
            "<class 'pandas.core.frame.DataFrame'>\n",
            "RangeIndex: 891 entries, 0 to 890\n",
            "Data columns (total 12 columns):\n",
            " #   Column       Non-Null Count  Dtype  \n",
            "---  ------       --------------  -----  \n",
            " 0   PassengerId  891 non-null    int64  \n",
            " 1   Survived     891 non-null    int64  \n",
            " 2   Pclass       891 non-null    int64  \n",
            " 3   Name         891 non-null    object \n",
            " 4   Sex          891 non-null    object \n",
            " 5   Age          714 non-null    float64\n",
            " 6   SibSp        891 non-null    int64  \n",
            " 7   Parch        891 non-null    int64  \n",
            " 8   Ticket       891 non-null    object \n",
            " 9   Fare         891 non-null    float64\n",
            " 10  Cabin        204 non-null    object \n",
            " 11  Embarked     889 non-null    object \n",
            "dtypes: float64(2), int64(5), object(5)\n",
            "memory usage: 83.7+ KB\n"
          ],
          "name": "stdout"
        }
      ]
    },
    {
      "cell_type": "markdown",
      "metadata": {
        "id": "ai8-Q0EFQas2"
      },
      "source": [
        "survived 생존여부 (0= No,1= Yes)\n",
        "\n",
        "pclass 등석 (1= 1등석, 2= 2등석, 3= 3등석)\n",
        "\n",
        "sex 성별\n",
        "\n",
        "Age 나이\n",
        "\n",
        "sibsp 같이 탑승한 형제자매 또는 배우자 인원수\n",
        "\n",
        "parch 같이 탑승한 부모 또는 어린이 수\n",
        "\n",
        "ticket 티켓 번호\n",
        "\n",
        "fare 요금\n",
        "\n",
        "cabin 선실 번호\n",
        "\n",
        "embarked 중간 정착 항구 C = Cherbourg, Q = Queenstown, S = Southampton"
      ]
    },
    {
      "cell_type": "code",
      "metadata": {
        "colab": {
          "base_uri": "https://localhost:8080/"
        },
        "id": "x86CY-qyQ7hR",
        "outputId": "fa55c1bc-fd54-4cda-ff61-01d3ae065bbc"
      },
      "source": [
        "titanic['Pclass'].value_counts()\n",
        "# 각 등석의 사람 수"
      ],
      "execution_count": 5,
      "outputs": [
        {
          "output_type": "execute_result",
          "data": {
            "text/plain": [
              "3    491\n",
              "1    216\n",
              "2    184\n",
              "Name: Pclass, dtype: int64"
            ]
          },
          "metadata": {
            "tags": []
          },
          "execution_count": 5
        }
      ]
    },
    {
      "cell_type": "code",
      "metadata": {
        "colab": {
          "base_uri": "https://localhost:8080/"
        },
        "id": "2BzaWpO3RKHX",
        "outputId": "3687d6a8-8584-476c-eb96-0fb2ffaff7aa"
      },
      "source": [
        "titanic['Cabin'].value_counts()\n",
        "# 선실번호 사람 수\n",
        "# 너무 많은 선실번호로 분석 기준을 잡기 어려움"
      ],
      "execution_count": 6,
      "outputs": [
        {
          "output_type": "execute_result",
          "data": {
            "text/plain": [
              "B96 B98        4\n",
              "G6             4\n",
              "C23 C25 C27    4\n",
              "D              3\n",
              "C22 C26        3\n",
              "              ..\n",
              "D9             1\n",
              "D49            1\n",
              "E46            1\n",
              "C7             1\n",
              "E77            1\n",
              "Name: Cabin, Length: 147, dtype: int64"
            ]
          },
          "metadata": {
            "tags": []
          },
          "execution_count": 6
        }
      ]
    },
    {
      "cell_type": "code",
      "metadata": {
        "colab": {
          "base_uri": "https://localhost:8080/"
        },
        "id": "wAGtlUlNRTN5",
        "outputId": "3931e796-3454-49ea-ef27-65872ba629f3"
      },
      "source": [
        "titanic['Embarked'].value_counts()\n",
        "# 중간정착 항구별 사람 수"
      ],
      "execution_count": 7,
      "outputs": [
        {
          "output_type": "execute_result",
          "data": {
            "text/plain": [
              "S    644\n",
              "C    168\n",
              "Q     77\n",
              "Name: Embarked, dtype: int64"
            ]
          },
          "metadata": {
            "tags": []
          },
          "execution_count": 7
        }
      ]
    },
    {
      "cell_type": "code",
      "metadata": {
        "colab": {
          "base_uri": "https://localhost:8080/"
        },
        "id": "vdK76AcepJ0f",
        "outputId": "8c35ea0b-9853-42b9-8170-a40299b8caf9"
      },
      "source": [
        "titanic.isnull().sum()"
      ],
      "execution_count": 8,
      "outputs": [
        {
          "output_type": "execute_result",
          "data": {
            "text/plain": [
              "PassengerId      0\n",
              "Survived         0\n",
              "Pclass           0\n",
              "Name             0\n",
              "Sex              0\n",
              "Age            177\n",
              "SibSp            0\n",
              "Parch            0\n",
              "Ticket           0\n",
              "Fare             0\n",
              "Cabin          687\n",
              "Embarked         2\n",
              "dtype: int64"
            ]
          },
          "metadata": {
            "tags": []
          },
          "execution_count": 8
        }
      ]
    },
    {
      "cell_type": "markdown",
      "metadata": {
        "id": "57vnxARtTt9p"
      },
      "source": [
        "데이터 누락 찾기!\n",
        "\n",
        "누락 데이터가 존재하면 기계학습 과정에서 문제 발생할 수 있음\n",
        "\n",
        "titanic.info()에서 확인\n",
        "\n",
        "맨 처음 info에서는 Age, Cabin, Embarked에서 데이터 누락이 확인되었지만,\n",
        "\n",
        "무의미한 데이터를 제거한 후 남은 Age와 Embarked에 대해서 데이터 누락을 처리해줘야함"
      ]
    },
    {
      "cell_type": "code",
      "metadata": {
        "colab": {
          "base_uri": "https://localhost:8080/",
          "height": 350
        },
        "id": "A558QYo1phBW",
        "outputId": "6cc918a3-7ed6-46f2-afe8-b79e0ce3c8f9"
      },
      "source": [
        "# 생존을 기준으로 차트 나타내기\n",
        "f, ax = plt.subplots(1,2,figsize=(10,5))\n",
        "\n",
        "titanic['Survived'].value_counts().plot.pie(explode=[0,0.1], autopct='%1.1f%%', ax=ax[0], shadow = True)\n",
        "ax[0].set_title('Survived')\n",
        "ax[0].set_ylabel('')\n",
        "sns.countplot('Survived', data=titanic, ax=ax[1])\n",
        "ax[1].set_title('Survived')\n",
        "plt.show()"
      ],
      "execution_count": 9,
      "outputs": [
        {
          "output_type": "display_data",
          "data": {
            "image/png": "[encoded data removed]",
            "text/plain": [
              "<Figure size 720x360 with 2 Axes>"
            ]
          },
          "metadata": {
            "tags": [],
            "needs_background": "light"
          }
        }
      ]
    },
    {
      "cell_type": "code",
      "metadata": {
        "colab": {
          "base_uri": "https://localhost:8080/"
        },
        "id": "LYWQ_t1Oq39a",
        "outputId": "3d4f86a4-aae3-4c79-a0c4-4e012605d36d"
      },
      "source": [
        "# 성별로 생존 여부 나타내기\n",
        "titanic.groupby(['Sex', 'Survived'])['Survived'].count()"
      ],
      "execution_count": 10,
      "outputs": [
        {
          "output_type": "execute_result",
          "data": {
            "text/plain": [
              "Sex     Survived\n",
              "female  0            81\n",
              "        1           233\n",
              "male    0           468\n",
              "        1           109\n",
              "Name: Survived, dtype: int64"
            ]
          },
          "metadata": {
            "tags": []
          },
          "execution_count": 10
        }
      ]
    },
    {
      "cell_type": "code",
      "metadata": {
        "colab": {
          "base_uri": "https://localhost:8080/",
          "height": 733
        },
        "id": "inKulX1QrFuv",
        "outputId": "45278425-a0ce-4f79-bf34-140435728b6a"
      },
      "source": [
        "# 성별로 생존 여부 나타내기 성별로 생존 여부 나타내기\n",
        "f, ax = plt.subplots(1,2, figsize=(10,5))\n",
        "titanic[['Sex', 'Survived']].groupby(['Sex']).mean().plot.bar(ax=ax[0])\n",
        "ax[0].set_title('Survived & Sex')\n",
        "sns.countplot('Sex',hue='Survived', data=titanic, ax=ax[1])\n",
        "ax[1].set_title('Sex = Survived & dead')\n",
        "plt.show()\n",
        "f, ax = plt.subplots(1,2, figsize=(10,5))\n",
        "titanic[['Sex', 'Survived']].groupby(['Sex']).mean().plot.bar(ax=ax[0])\n",
        "ax[0].set_title('Survived & Sex')\n",
        "sns.countplot('Sex',hue='Survived', data=titanic, ax=ax[1])\n",
        "ax[1].set_title('Sex = Survived & dead')\n",
        "plt.show()"
      ],
      "execution_count": 11,
      "outputs": [
        {
          "output_type": "display_data",
          "data": {
            "image/png": "[encoded data removed]",
            "text/plain": [
              "<Figure size 720x360 with 2 Axes>"
            ]
          },
          "metadata": {
            "tags": [],
            "needs_background": "light"
          }
        },
        {
          "output_type": "display_data",
          "data": {
            "image/png": "[encoded data removed]",
            "text/plain": [
              "<Figure size 720x360 with 2 Axes>"
            ]
          },
          "metadata": {
            "tags": [],
            "needs_background": "light"
          }
        }
      ]
    },
    {
      "cell_type": "code",
      "metadata": {
        "colab": {
          "base_uri": "https://localhost:8080/",
          "height": 124
        },
        "id": "Lf_bhmfpsXa0",
        "outputId": "5cbfd10a-a4a1-4407-d274-01c6e626d51d"
      },
      "source": [
        "# 탑승 클래스를 기준으로 데이터 나누기\n",
        "# crosstab으로 (x,y)를 통해 보여줌\n",
        "pd.crosstab(titanic.Pclass, titanic.Survived, margins=True).style.background_gradient(cmap='autumn_r')"
      ],
      "execution_count": 12,
      "outputs": [
        {
          "output_type": "execute_result",
          "data": {
            "text/html": [
              "<style  type=\"text/css\" >\n",
              "#T_72583570_98f0_11eb_90ef_0242ac1c0002row0_col0,#T_72583570_98f0_11eb_90ef_0242ac1c0002row1_col1,#T_72583570_98f0_11eb_90ef_0242ac1c0002row1_col2{\n",
              "            background-color:  #ffff00;\n",
              "            color:  #000000;\n",
              "        }#T_72583570_98f0_11eb_90ef_0242ac1c0002row0_col1{\n",
              "            background-color:  #ffce00;\n",
              "            color:  #000000;\n",
              "        }#T_72583570_98f0_11eb_90ef_0242ac1c0002row0_col2{\n",
              "            background-color:  #fff400;\n",
              "            color:  #000000;\n",
              "        }#T_72583570_98f0_11eb_90ef_0242ac1c0002row1_col0{\n",
              "            background-color:  #fff600;\n",
              "            color:  #000000;\n",
              "        }#T_72583570_98f0_11eb_90ef_0242ac1c0002row2_col0{\n",
              "            background-color:  #ff6000;\n",
              "            color:  #000000;\n",
              "        }#T_72583570_98f0_11eb_90ef_0242ac1c0002row2_col1{\n",
              "            background-color:  #ffdf00;\n",
              "            color:  #000000;\n",
              "        }#T_72583570_98f0_11eb_90ef_0242ac1c0002row2_col2{\n",
              "            background-color:  #ff9000;\n",
              "            color:  #000000;\n",
              "        }#T_72583570_98f0_11eb_90ef_0242ac1c0002row3_col0,#T_72583570_98f0_11eb_90ef_0242ac1c0002row3_col1,#T_72583570_98f0_11eb_90ef_0242ac1c0002row3_col2{\n",
              "            background-color:  #ff0000;\n",
              "            color:  #f1f1f1;\n",
              "        }</style><table id=\"T_72583570_98f0_11eb_90ef_0242ac1c0002\" ><thead>    <tr>        <th class=\"index_name level0\" >Survived</th>        <th class=\"col_heading level0 col0\" >0</th>        <th class=\"col_heading level0 col1\" >1</th>        <th class=\"col_heading level0 col2\" >All</th>    </tr>    <tr>        <th class=\"index_name level0\" >Pclass</th>        <th class=\"blank\" ></th>        <th class=\"blank\" ></th>        <th class=\"blank\" ></th>    </tr></thead><tbody>\n",
              "                <tr>\n",
              "                        <th id=\"T_72583570_98f0_11eb_90ef_0242ac1c0002level0_row0\" class=\"row_heading level0 row0\" >1</th>\n",
              "                        <td id=\"T_72583570_98f0_11eb_90ef_0242ac1c0002row0_col0\" class=\"data row0 col0\" >80</td>\n",
              "                        <td id=\"T_72583570_98f0_11eb_90ef_0242ac1c0002row0_col1\" class=\"data row0 col1\" >136</td>\n",
              "                        <td id=\"T_72583570_98f0_11eb_90ef_0242ac1c0002row0_col2\" class=\"data row0 col2\" >216</td>\n",
              "            </tr>\n",
              "            <tr>\n",
              "                        <th id=\"T_72583570_98f0_11eb_90ef_0242ac1c0002level0_row1\" class=\"row_heading level0 row1\" >2</th>\n",
              "                        <td id=\"T_72583570_98f0_11eb_90ef_0242ac1c0002row1_col0\" class=\"data row1 col0\" >97</td>\n",
              "                        <td id=\"T_72583570_98f0_11eb_90ef_0242ac1c0002row1_col1\" class=\"data row1 col1\" >87</td>\n",
              "                        <td id=\"T_72583570_98f0_11eb_90ef_0242ac1c0002row1_col2\" class=\"data row1 col2\" >184</td>\n",
              "            </tr>\n",
              "            <tr>\n",
              "                        <th id=\"T_72583570_98f0_11eb_90ef_0242ac1c0002level0_row2\" class=\"row_heading level0 row2\" >3</th>\n",
              "                        <td id=\"T_72583570_98f0_11eb_90ef_0242ac1c0002row2_col0\" class=\"data row2 col0\" >372</td>\n",
              "                        <td id=\"T_72583570_98f0_11eb_90ef_0242ac1c0002row2_col1\" class=\"data row2 col1\" >119</td>\n",
              "                        <td id=\"T_72583570_98f0_11eb_90ef_0242ac1c0002row2_col2\" class=\"data row2 col2\" >491</td>\n",
              "            </tr>\n",
              "            <tr>\n",
              "                        <th id=\"T_72583570_98f0_11eb_90ef_0242ac1c0002level0_row3\" class=\"row_heading level0 row3\" >All</th>\n",
              "                        <td id=\"T_72583570_98f0_11eb_90ef_0242ac1c0002row3_col0\" class=\"data row3 col0\" >549</td>\n",
              "                        <td id=\"T_72583570_98f0_11eb_90ef_0242ac1c0002row3_col1\" class=\"data row3 col1\" >342</td>\n",
              "                        <td id=\"T_72583570_98f0_11eb_90ef_0242ac1c0002row3_col2\" class=\"data row3 col2\" >891</td>\n",
              "            </tr>\n",
              "    </tbody></table>"
            ],
            "text/plain": [
              "<pandas.io.formats.style.Styler at 0x7f827168d3d0>"
            ]
          },
          "metadata": {
            "tags": []
          },
          "execution_count": 12
        }
      ]
    },
    {
      "cell_type": "code",
      "metadata": {
        "colab": {
          "base_uri": "https://localhost:8080/",
          "height": 350
        },
        "id": "JYT7XkGWunOG",
        "outputId": "e70e2e18-f936-4c2b-c4b1-58d896da714e"
      },
      "source": [
        "f, ax = plt.subplots(1,2, figsize=(10,5)) \n",
        "titanic['Pclass'].value_counts().plot.bar(color=['blue','yellow','green'], ax=ax[0]) \n",
        "ax[0].set_title('Number of Passengers By Pclass') \n",
        "ax[0].set_ylabel('Count')\n",
        "\n",
        "sns.countplot('Pclass', hue='Survived', data=titanic, ax=ax[1]) \n",
        "ax[1].set_title('Pclass = Survived & Dead') \n",
        "plt.show()"
      ],
      "execution_count": 13,
      "outputs": [
        {
          "output_type": "display_data",
          "data": {
            "image/png": "[encoded data removed]",
            "text/plain": [
              "<Figure size 720x360 with 2 Axes>"
            ]
          },
          "metadata": {
            "tags": [],
            "needs_background": "light"
          }
        }
      ]
    },
    {
      "cell_type": "code",
      "metadata": {
        "colab": {
          "base_uri": "https://localhost:8080/",
          "height": 142
        },
        "id": "ks3Lkf6xujbX",
        "outputId": "61b375c7-3900-4f25-836b-666b84665290"
      },
      "source": [
        "pd.crosstab([titanic.Sex,titanic.Survived], titanic.Pclass, margins=True).style.background_gradient(cmap='winter_r')"
      ],
      "execution_count": 14,
      "outputs": [
        {
          "output_type": "execute_result",
          "data": {
            "text/html": [
              "<style  type=\"text/css\" >\n",
              "#T_7593deba_98f0_11eb_90ef_0242ac1c0002row0_col0,#T_7593deba_98f0_11eb_90ef_0242ac1c0002row0_col1,#T_7593deba_98f0_11eb_90ef_0242ac1c0002row0_col3,#T_7593deba_98f0_11eb_90ef_0242ac1c0002row3_col2{\n",
              "            background-color:  #00ff80;\n",
              "            color:  #000000;\n",
              "        }#T_7593deba_98f0_11eb_90ef_0242ac1c0002row0_col2,#T_7593deba_98f0_11eb_90ef_0242ac1c0002row1_col2{\n",
              "            background-color:  #00f186;\n",
              "            color:  #000000;\n",
              "        }#T_7593deba_98f0_11eb_90ef_0242ac1c0002row1_col0{\n",
              "            background-color:  #0096b4;\n",
              "            color:  #000000;\n",
              "        }#T_7593deba_98f0_11eb_90ef_0242ac1c0002row1_col1{\n",
              "            background-color:  #00a3ae;\n",
              "            color:  #000000;\n",
              "        }#T_7593deba_98f0_11eb_90ef_0242ac1c0002row1_col3{\n",
              "            background-color:  #00cf98;\n",
              "            color:  #000000;\n",
              "        }#T_7593deba_98f0_11eb_90ef_0242ac1c0002row2_col0{\n",
              "            background-color:  #00a7ac;\n",
              "            color:  #000000;\n",
              "        }#T_7593deba_98f0_11eb_90ef_0242ac1c0002row2_col1,#T_7593deba_98f0_11eb_90ef_0242ac1c0002row2_col3{\n",
              "            background-color:  #0085bc;\n",
              "            color:  #000000;\n",
              "        }#T_7593deba_98f0_11eb_90ef_0242ac1c0002row2_col2{\n",
              "            background-color:  #006ec8;\n",
              "            color:  #f1f1f1;\n",
              "        }#T_7593deba_98f0_11eb_90ef_0242ac1c0002row3_col0{\n",
              "            background-color:  #00cd98;\n",
              "            color:  #000000;\n",
              "        }#T_7593deba_98f0_11eb_90ef_0242ac1c0002row3_col1{\n",
              "            background-color:  #00f087;\n",
              "            color:  #000000;\n",
              "        }#T_7593deba_98f0_11eb_90ef_0242ac1c0002row3_col3{\n",
              "            background-color:  #00f784;\n",
              "            color:  #000000;\n",
              "        }#T_7593deba_98f0_11eb_90ef_0242ac1c0002row4_col0,#T_7593deba_98f0_11eb_90ef_0242ac1c0002row4_col1,#T_7593deba_98f0_11eb_90ef_0242ac1c0002row4_col2,#T_7593deba_98f0_11eb_90ef_0242ac1c0002row4_col3{\n",
              "            background-color:  #0000ff;\n",
              "            color:  #f1f1f1;\n",
              "        }</style><table id=\"T_7593deba_98f0_11eb_90ef_0242ac1c0002\" ><thead>    <tr>        <th class=\"blank\" ></th>        <th class=\"index_name level0\" >Pclass</th>        <th class=\"col_heading level0 col0\" >1</th>        <th class=\"col_heading level0 col1\" >2</th>        <th class=\"col_heading level0 col2\" >3</th>        <th class=\"col_heading level0 col3\" >All</th>    </tr>    <tr>        <th class=\"index_name level0\" >Sex</th>        <th class=\"index_name level1\" >Survived</th>        <th class=\"blank\" ></th>        <th class=\"blank\" ></th>        <th class=\"blank\" ></th>        <th class=\"blank\" ></th>    </tr></thead><tbody>\n",
              "                <tr>\n",
              "                        <th id=\"T_7593deba_98f0_11eb_90ef_0242ac1c0002level0_row0\" class=\"row_heading level0 row0\" rowspan=2>female</th>\n",
              "                        <th id=\"T_7593deba_98f0_11eb_90ef_0242ac1c0002level1_row0\" class=\"row_heading level1 row0\" >0</th>\n",
              "                        <td id=\"T_7593deba_98f0_11eb_90ef_0242ac1c0002row0_col0\" class=\"data row0 col0\" >3</td>\n",
              "                        <td id=\"T_7593deba_98f0_11eb_90ef_0242ac1c0002row0_col1\" class=\"data row0 col1\" >6</td>\n",
              "                        <td id=\"T_7593deba_98f0_11eb_90ef_0242ac1c0002row0_col2\" class=\"data row0 col2\" >72</td>\n",
              "                        <td id=\"T_7593deba_98f0_11eb_90ef_0242ac1c0002row0_col3\" class=\"data row0 col3\" >81</td>\n",
              "            </tr>\n",
              "            <tr>\n",
              "                                <th id=\"T_7593deba_98f0_11eb_90ef_0242ac1c0002level1_row1\" class=\"row_heading level1 row1\" >1</th>\n",
              "                        <td id=\"T_7593deba_98f0_11eb_90ef_0242ac1c0002row1_col0\" class=\"data row1 col0\" >91</td>\n",
              "                        <td id=\"T_7593deba_98f0_11eb_90ef_0242ac1c0002row1_col1\" class=\"data row1 col1\" >70</td>\n",
              "                        <td id=\"T_7593deba_98f0_11eb_90ef_0242ac1c0002row1_col2\" class=\"data row1 col2\" >72</td>\n",
              "                        <td id=\"T_7593deba_98f0_11eb_90ef_0242ac1c0002row1_col3\" class=\"data row1 col3\" >233</td>\n",
              "            </tr>\n",
              "            <tr>\n",
              "                        <th id=\"T_7593deba_98f0_11eb_90ef_0242ac1c0002level0_row2\" class=\"row_heading level0 row2\" rowspan=2>male</th>\n",
              "                        <th id=\"T_7593deba_98f0_11eb_90ef_0242ac1c0002level1_row2\" class=\"row_heading level1 row2\" >0</th>\n",
              "                        <td id=\"T_7593deba_98f0_11eb_90ef_0242ac1c0002row2_col0\" class=\"data row2 col0\" >77</td>\n",
              "                        <td id=\"T_7593deba_98f0_11eb_90ef_0242ac1c0002row2_col1\" class=\"data row2 col1\" >91</td>\n",
              "                        <td id=\"T_7593deba_98f0_11eb_90ef_0242ac1c0002row2_col2\" class=\"data row2 col2\" >300</td>\n",
              "                        <td id=\"T_7593deba_98f0_11eb_90ef_0242ac1c0002row2_col3\" class=\"data row2 col3\" >468</td>\n",
              "            </tr>\n",
              "            <tr>\n",
              "                                <th id=\"T_7593deba_98f0_11eb_90ef_0242ac1c0002level1_row3\" class=\"row_heading level1 row3\" >1</th>\n",
              "                        <td id=\"T_7593deba_98f0_11eb_90ef_0242ac1c0002row3_col0\" class=\"data row3 col0\" >45</td>\n",
              "                        <td id=\"T_7593deba_98f0_11eb_90ef_0242ac1c0002row3_col1\" class=\"data row3 col1\" >17</td>\n",
              "                        <td id=\"T_7593deba_98f0_11eb_90ef_0242ac1c0002row3_col2\" class=\"data row3 col2\" >47</td>\n",
              "                        <td id=\"T_7593deba_98f0_11eb_90ef_0242ac1c0002row3_col3\" class=\"data row3 col3\" >109</td>\n",
              "            </tr>\n",
              "            <tr>\n",
              "                        <th id=\"T_7593deba_98f0_11eb_90ef_0242ac1c0002level0_row4\" class=\"row_heading level0 row4\" >All</th>\n",
              "                        <th id=\"T_7593deba_98f0_11eb_90ef_0242ac1c0002level1_row4\" class=\"row_heading level1 row4\" ></th>\n",
              "                        <td id=\"T_7593deba_98f0_11eb_90ef_0242ac1c0002row4_col0\" class=\"data row4 col0\" >216</td>\n",
              "                        <td id=\"T_7593deba_98f0_11eb_90ef_0242ac1c0002row4_col1\" class=\"data row4 col1\" >184</td>\n",
              "                        <td id=\"T_7593deba_98f0_11eb_90ef_0242ac1c0002row4_col2\" class=\"data row4 col2\" >491</td>\n",
              "                        <td id=\"T_7593deba_98f0_11eb_90ef_0242ac1c0002row4_col3\" class=\"data row4 col3\" >891</td>\n",
              "            </tr>\n",
              "    </tbody></table>"
            ],
            "text/plain": [
              "<pandas.io.formats.style.Styler at 0x7f827173b5d0>"
            ]
          },
          "metadata": {
            "tags": []
          },
          "execution_count": 14
        }
      ]
    },
    {
      "cell_type": "code",
      "metadata": {
        "colab": {
          "base_uri": "https://localhost:8080/",
          "height": 385
        },
        "id": "Lcqpx7Ikuwj7",
        "outputId": "c5c5c382-db0b-4261-f67a-c9ebc40f95ae"
      },
      "source": [
        "sns.factorplot('Pclass','Survived', hue='Sex', data=titanic)\n",
        "plt.show()"
      ],
      "execution_count": 15,
      "outputs": [
        {
          "output_type": "display_data",
          "data": {
            "image/png": "[encoded data removed]",
            "text/plain": [
              "<Figure size 430.5x360 with 1 Axes>"
            ]
          },
          "metadata": {
            "tags": [],
            "needs_background": "light"
          }
        }
      ]
    },
    {
      "cell_type": "markdown",
      "metadata": {
        "id": "VagHBLrBvM6n"
      },
      "source": [
        "위의 그래프를 보면, 클래스 여부 상관 없이 여성이 더 많이 살아남았다.\n",
        "\n",
        "여성 생존자 중 3등석 여성 생존자 수는 1,2등석 여성 생존자 수보다 현저히 적은걸 알 수 있다."
      ]
    },
    {
      "cell_type": "code",
      "metadata": {
        "colab": {
          "base_uri": "https://localhost:8080/",
          "height": 622
        },
        "id": "JWObDmL5vott",
        "outputId": "daee8315-48f7-4902-9485-6bace2203a77"
      },
      "source": [
        "# 연령별로 분석하기\n",
        "f, ax = plt.subplots(1,2, figsize = (20,10))\n",
        "sns.violinplot('Pclass', 'Age', hue='Survived', data=titanic, split=True, ax=ax[0])\n",
        "ax[0].set_title('Pclass & Age, Survived')\n",
        "ax[0].set_yticks(range(0,110,10))\n",
        "sns.violinplot('Sex','Age', hue='Survived', split=True, data=titanic, ax=ax[1])\n",
        "ax[1].set_title('Sex & Age, Survived')\n",
        "ax[1].set_yticks(range(0,110,10))\n",
        "plt.show()"
      ],
      "execution_count": 16,
      "outputs": [
        {
          "output_type": "display_data",
          "data": {
            "image/png": "[encoded data removed]",
            "text/plain": [
              "<Figure size 1440x720 with 2 Axes>"
            ]
          },
          "metadata": {
            "tags": [],
            "needs_background": "light"
          }
        }
      ]
    },
    {
      "cell_type": "markdown",
      "metadata": {
        "id": "CaiIx1mnw3nm"
      },
      "source": [
        "연령별로 분석하기\n",
        "\n",
        "연령은 연속적입 값이기 때문에 yticks 또는 xticks를 사용\n",
        "\n",
        "seaborn에 violinplot 또는 distplot 사용"
      ]
    },
    {
      "cell_type": "code",
      "metadata": {
        "id": "YybbQOVsxHNh"
      },
      "source": [
        "titanic['Initial'] = 0\n",
        "for data in titanic:\n",
        "  titanic['Initial'] = titanic.Name.str.extract('([A-Za-z]+)\\.')\n"
      ],
      "execution_count": 17,
      "outputs": []
    },
    {
      "cell_type": "code",
      "metadata": {
        "colab": {
          "base_uri": "https://localhost:8080/"
        },
        "id": "FlkHqVJ4xs-4",
        "outputId": "ef4efca1-1d61-42b7-d45d-babb381b6e1a"
      },
      "source": [
        "titanic['Initial'].head(10)"
      ],
      "execution_count": 18,
      "outputs": [
        {
          "output_type": "execute_result",
          "data": {
            "text/plain": [
              "0        Mr\n",
              "1       Mrs\n",
              "2      Miss\n",
              "3       Mrs\n",
              "4        Mr\n",
              "5        Mr\n",
              "6        Mr\n",
              "7    Master\n",
              "8       Mrs\n",
              "9       Mrs\n",
              "Name: Initial, dtype: object"
            ]
          },
          "metadata": {
            "tags": []
          },
          "execution_count": 18
        }
      ]
    },
    {
      "cell_type": "code",
      "metadata": {
        "colab": {
          "base_uri": "https://localhost:8080/"
        },
        "id": "r3PW5DTNx2Zq",
        "outputId": "9651ca64-f973-4c45-84d6-6343e916b404"
      },
      "source": [
        "titanic['Initial'].value_counts()"
      ],
      "execution_count": 19,
      "outputs": [
        {
          "output_type": "execute_result",
          "data": {
            "text/plain": [
              "Mr          517\n",
              "Miss        182\n",
              "Mrs         125\n",
              "Master       40\n",
              "Dr            7\n",
              "Rev           6\n",
              "Major         2\n",
              "Mlle          2\n",
              "Col           2\n",
              "Sir           1\n",
              "Don           1\n",
              "Capt          1\n",
              "Countess      1\n",
              "Jonkheer      1\n",
              "Ms            1\n",
              "Lady          1\n",
              "Mme           1\n",
              "Name: Initial, dtype: int64"
            ]
          },
          "metadata": {
            "tags": []
          },
          "execution_count": 19
        }
      ]
    },
    {
      "cell_type": "code",
      "metadata": {
        "id": "ewdfz0pkyY0k"
      },
      "source": [
        "titanic['Initial'].replace(['Mlle','Mme','Ms','Dr','Major','Lady','Countess','Jonkheer','Col','Rev','Capt','Sir','Don'],['Miss','Miss','Miss','Mr','Mr','Mrs','Mrs','Other','Other','Other','Mr','Mr','Mr'],inplace=True)"
      ],
      "execution_count": 20,
      "outputs": []
    },
    {
      "cell_type": "code",
      "metadata": {
        "colab": {
          "base_uri": "https://localhost:8080/"
        },
        "id": "eucXevB_z5Fv",
        "outputId": "6206a28d-b23a-46d1-80a4-ffc1be664971"
      },
      "source": [
        "titanic['Initial'].value_counts()"
      ],
      "execution_count": 21,
      "outputs": [
        {
          "output_type": "execute_result",
          "data": {
            "text/plain": [
              "Mr        529\n",
              "Miss      186\n",
              "Mrs       127\n",
              "Master     40\n",
              "Other       9\n",
              "Name: Initial, dtype: int64"
            ]
          },
          "metadata": {
            "tags": []
          },
          "execution_count": 21
        }
      ]
    },
    {
      "cell_type": "code",
      "metadata": {
        "colab": {
          "base_uri": "https://localhost:8080/"
        },
        "id": "oxZW7SGN0xsO",
        "outputId": "c0cedca9-31a1-48b9-e5ff-97d82d4c6a88"
      },
      "source": [
        "titanic.groupby('Initial')['Age'].mean()"
      ],
      "execution_count": 22,
      "outputs": [
        {
          "output_type": "execute_result",
          "data": {
            "text/plain": [
              "Initial\n",
              "Master     4.574167\n",
              "Miss      21.860000\n",
              "Mr        32.739609\n",
              "Mrs       35.981818\n",
              "Other     45.888889\n",
              "Name: Age, dtype: float64"
            ]
          },
          "metadata": {
            "tags": []
          },
          "execution_count": 22
        }
      ]
    },
    {
      "cell_type": "markdown",
      "metadata": {
        "id": "wGOX4jvU1QSC"
      },
      "source": [
        "Age의 Null 값이 많았기 때문에 값을 채워줘야 오류 발생을 줄일 수 있는데,\n",
        "\n",
        "일반적으로 전체 나이의 평균을 대입하기보다, 이니셜 별로 나이를 나누어 평균을 나이 평균을 구해준다"
      ]
    },
    {
      "cell_type": "code",
      "metadata": {
        "id": "SaTH49my15bd"
      },
      "source": [
        "# 데이터 채워주기\n",
        "titanic.loc[(titanic.Age.isnull())&(titanic.Initial=='Mr'),'Age']=33\n",
        "titanic.loc[(titanic.Age.isnull())&(titanic.Initial=='Mrs'),'Age']=36\n",
        "titanic.loc[(titanic.Age.isnull())&(titanic.Initial=='Master'),'Age']=5\n",
        "titanic.loc[(titanic.Age.isnull())&(titanic.Initial=='Miss'),'Age']=22\n",
        "titanic.loc[(titanic.Age.isnull())&(titanic.Initial=='Other'),'Age']=46"
      ],
      "execution_count": 23,
      "outputs": []
    },
    {
      "cell_type": "code",
      "metadata": {
        "colab": {
          "base_uri": "https://localhost:8080/"
        },
        "id": "ZDduO9Fy2g6F",
        "outputId": "666627a2-854e-49ed-d77c-4b52c34d9ed7"
      },
      "source": [
        "titanic.Age.isnull().sum()"
      ],
      "execution_count": 24,
      "outputs": [
        {
          "output_type": "execute_result",
          "data": {
            "text/plain": [
              "0"
            ]
          },
          "metadata": {
            "tags": []
          },
          "execution_count": 24
        }
      ]
    },
    {
      "cell_type": "code",
      "metadata": {
        "colab": {
          "base_uri": "https://localhost:8080/",
          "height": 604
        },
        "id": "Lj3kQ9vM2nqB",
        "outputId": "96af6558-2b04-4188-bfac-5857fa639379"
      },
      "source": [
        "# 살아남은 인원과 살아남지 못한 인원 연령별로 그래프 나타내기\n",
        "f,ax=plt.subplots(1,2,figsize=(20,10))\n",
        "titanic[titanic['Survived']==0].Age.plot.hist(ax=ax[0],bins=20,edgecolor='black',color='red')\n",
        "ax[0].set_title('Survived= 0')\n",
        "x1=list(range(0,85,5))\n",
        "ax[0].set_xticks(x1)\n",
        "titanic[titanic['Survived']==1].Age.plot.hist(ax=ax[1],color='green',bins=20,edgecolor='black')\n",
        "ax[1].set_title('Survived= 1')\n",
        "x2=list(range(0,85,5))\n",
        "ax[1].set_xticks(x2)\n",
        "plt.show()"
      ],
      "execution_count": 25,
      "outputs": [
        {
          "output_type": "display_data",
          "data": {
            "image/png": "[encoded data removed]",
            "text/plain": [
              "<Figure size 1440x720 with 2 Axes>"
            ]
          },
          "metadata": {
            "tags": [],
            "needs_background": "light"
          }
        }
      ]
    },
    {
      "cell_type": "code",
      "metadata": {
        "colab": {
          "base_uri": "https://localhost:8080/",
          "height": 248
        },
        "id": "Isci6rmC3AX0",
        "outputId": "c4a7f444-a66f-4a79-a10e-862b0814e885"
      },
      "source": [
        "pd.crosstab([titanic.Embarked,titanic.Pclass], [titanic.Sex, titanic.Survived], margins=True).style.background_gradient(cmap='summer_r')"
      ],
      "execution_count": 26,
      "outputs": [
        {
          "output_type": "execute_result",
          "data": {
            "text/html": [
              "<style  type=\"text/css\" >\n",
              "#T_88326096_98f0_11eb_90ef_0242ac1c0002row0_col0,#T_88326096_98f0_11eb_90ef_0242ac1c0002row1_col2{\n",
              "            background-color:  #fcfe66;\n",
              "            color:  #000000;\n",
              "        }#T_88326096_98f0_11eb_90ef_0242ac1c0002row0_col1{\n",
              "            background-color:  #d2e866;\n",
              "            color:  #000000;\n",
              "        }#T_88326096_98f0_11eb_90ef_0242ac1c0002row0_col2{\n",
              "            background-color:  #f2f866;\n",
              "            color:  #000000;\n",
              "        }#T_88326096_98f0_11eb_90ef_0242ac1c0002row0_col3{\n",
              "            background-color:  #d8ec66;\n",
              "            color:  #000000;\n",
              "        }#T_88326096_98f0_11eb_90ef_0242ac1c0002row0_col4,#T_88326096_98f0_11eb_90ef_0242ac1c0002row2_col3{\n",
              "            background-color:  #e8f466;\n",
              "            color:  #000000;\n",
              "        }#T_88326096_98f0_11eb_90ef_0242ac1c0002row1_col0,#T_88326096_98f0_11eb_90ef_0242ac1c0002row3_col0,#T_88326096_98f0_11eb_90ef_0242ac1c0002row3_col1,#T_88326096_98f0_11eb_90ef_0242ac1c0002row3_col2,#T_88326096_98f0_11eb_90ef_0242ac1c0002row3_col3,#T_88326096_98f0_11eb_90ef_0242ac1c0002row3_col4,#T_88326096_98f0_11eb_90ef_0242ac1c0002row4_col0,#T_88326096_98f0_11eb_90ef_0242ac1c0002row4_col2,#T_88326096_98f0_11eb_90ef_0242ac1c0002row4_col3,#T_88326096_98f0_11eb_90ef_0242ac1c0002row4_col4{\n",
              "            background-color:  #ffff66;\n",
              "            color:  #000000;\n",
              "        }#T_88326096_98f0_11eb_90ef_0242ac1c0002row1_col1,#T_88326096_98f0_11eb_90ef_0242ac1c0002row6_col0{\n",
              "            background-color:  #f9fc66;\n",
              "            color:  #000000;\n",
              "        }#T_88326096_98f0_11eb_90ef_0242ac1c0002row1_col3,#T_88326096_98f0_11eb_90ef_0242ac1c0002row1_col4{\n",
              "            background-color:  #fbfd66;\n",
              "            color:  #000000;\n",
              "        }#T_88326096_98f0_11eb_90ef_0242ac1c0002row2_col0,#T_88326096_98f0_11eb_90ef_0242ac1c0002row5_col1{\n",
              "            background-color:  #e6f266;\n",
              "            color:  #000000;\n",
              "        }#T_88326096_98f0_11eb_90ef_0242ac1c0002row2_col1{\n",
              "            background-color:  #f0f866;\n",
              "            color:  #000000;\n",
              "        }#T_88326096_98f0_11eb_90ef_0242ac1c0002row2_col2{\n",
              "            background-color:  #eef666;\n",
              "            color:  #000000;\n",
              "        }#T_88326096_98f0_11eb_90ef_0242ac1c0002row2_col4,#T_88326096_98f0_11eb_90ef_0242ac1c0002row7_col0{\n",
              "            background-color:  #edf666;\n",
              "            color:  #000000;\n",
              "        }#T_88326096_98f0_11eb_90ef_0242ac1c0002row4_col1{\n",
              "            background-color:  #fefe66;\n",
              "            color:  #000000;\n",
              "        }#T_88326096_98f0_11eb_90ef_0242ac1c0002row5_col0{\n",
              "            background-color:  #e3f166;\n",
              "            color:  #000000;\n",
              "        }#T_88326096_98f0_11eb_90ef_0242ac1c0002row5_col2{\n",
              "            background-color:  #ecf666;\n",
              "            color:  #000000;\n",
              "        }#T_88326096_98f0_11eb_90ef_0242ac1c0002row5_col3{\n",
              "            background-color:  #f8fc66;\n",
              "            color:  #000000;\n",
              "        }#T_88326096_98f0_11eb_90ef_0242ac1c0002row5_col4{\n",
              "            background-color:  #ebf566;\n",
              "            color:  #000000;\n",
              "        }#T_88326096_98f0_11eb_90ef_0242ac1c0002row6_col1{\n",
              "            background-color:  #cde666;\n",
              "            color:  #000000;\n",
              "        }#T_88326096_98f0_11eb_90ef_0242ac1c0002row6_col2{\n",
              "            background-color:  #e4f266;\n",
              "            color:  #000000;\n",
              "        }#T_88326096_98f0_11eb_90ef_0242ac1c0002row6_col3{\n",
              "            background-color:  #bede66;\n",
              "            color:  #000000;\n",
              "        }#T_88326096_98f0_11eb_90ef_0242ac1c0002row6_col4{\n",
              "            background-color:  #dbed66;\n",
              "            color:  #000000;\n",
              "        }#T_88326096_98f0_11eb_90ef_0242ac1c0002row7_col1{\n",
              "            background-color:  #bdde66;\n",
              "            color:  #000000;\n",
              "        }#T_88326096_98f0_11eb_90ef_0242ac1c0002row7_col2{\n",
              "            background-color:  #d3e966;\n",
              "            color:  #000000;\n",
              "        }#T_88326096_98f0_11eb_90ef_0242ac1c0002row7_col3,#T_88326096_98f0_11eb_90ef_0242ac1c0002row8_col1{\n",
              "            background-color:  #dcee66;\n",
              "            color:  #000000;\n",
              "        }#T_88326096_98f0_11eb_90ef_0242ac1c0002row7_col4{\n",
              "            background-color:  #d1e866;\n",
              "            color:  #000000;\n",
              "        }#T_88326096_98f0_11eb_90ef_0242ac1c0002row8_col0{\n",
              "            background-color:  #52a866;\n",
              "            color:  #000000;\n",
              "        }#T_88326096_98f0_11eb_90ef_0242ac1c0002row8_col2{\n",
              "            background-color:  #81c066;\n",
              "            color:  #000000;\n",
              "        }#T_88326096_98f0_11eb_90ef_0242ac1c0002row8_col3{\n",
              "            background-color:  #b0d866;\n",
              "            color:  #000000;\n",
              "        }#T_88326096_98f0_11eb_90ef_0242ac1c0002row8_col4{\n",
              "            background-color:  #9acc66;\n",
              "            color:  #000000;\n",
              "        }#T_88326096_98f0_11eb_90ef_0242ac1c0002row9_col0,#T_88326096_98f0_11eb_90ef_0242ac1c0002row9_col1,#T_88326096_98f0_11eb_90ef_0242ac1c0002row9_col2,#T_88326096_98f0_11eb_90ef_0242ac1c0002row9_col3,#T_88326096_98f0_11eb_90ef_0242ac1c0002row9_col4{\n",
              "            background-color:  #008066;\n",
              "            color:  #f1f1f1;\n",
              "        }</style><table id=\"T_88326096_98f0_11eb_90ef_0242ac1c0002\" ><thead>    <tr>        <th class=\"blank\" ></th>        <th class=\"index_name level0\" >Sex</th>        <th class=\"col_heading level0 col0\" colspan=2>female</th>        <th class=\"col_heading level0 col2\" colspan=2>male</th>        <th class=\"col_heading level0 col4\" >All</th>    </tr>    <tr>        <th class=\"blank\" ></th>        <th class=\"index_name level1\" >Survived</th>        <th class=\"col_heading level1 col0\" >0</th>        <th class=\"col_heading level1 col1\" >1</th>        <th class=\"col_heading level1 col2\" >0</th>        <th class=\"col_heading level1 col3\" >1</th>        <th class=\"col_heading level1 col4\" ></th>    </tr>    <tr>        <th class=\"index_name level0\" >Embarked</th>        <th class=\"index_name level1\" >Pclass</th>        <th class=\"blank\" ></th>        <th class=\"blank\" ></th>        <th class=\"blank\" ></th>        <th class=\"blank\" ></th>        <th class=\"blank\" ></th>    </tr></thead><tbody>\n",
              "                <tr>\n",
              "                        <th id=\"T_88326096_98f0_11eb_90ef_0242ac1c0002level0_row0\" class=\"row_heading level0 row0\" rowspan=3>C</th>\n",
              "                        <th id=\"T_88326096_98f0_11eb_90ef_0242ac1c0002level1_row0\" class=\"row_heading level1 row0\" >1</th>\n",
              "                        <td id=\"T_88326096_98f0_11eb_90ef_0242ac1c0002row0_col0\" class=\"data row0 col0\" >1</td>\n",
              "                        <td id=\"T_88326096_98f0_11eb_90ef_0242ac1c0002row0_col1\" class=\"data row0 col1\" >42</td>\n",
              "                        <td id=\"T_88326096_98f0_11eb_90ef_0242ac1c0002row0_col2\" class=\"data row0 col2\" >25</td>\n",
              "                        <td id=\"T_88326096_98f0_11eb_90ef_0242ac1c0002row0_col3\" class=\"data row0 col3\" >17</td>\n",
              "                        <td id=\"T_88326096_98f0_11eb_90ef_0242ac1c0002row0_col4\" class=\"data row0 col4\" >85</td>\n",
              "            </tr>\n",
              "            <tr>\n",
              "                                <th id=\"T_88326096_98f0_11eb_90ef_0242ac1c0002level1_row1\" class=\"row_heading level1 row1\" >2</th>\n",
              "                        <td id=\"T_88326096_98f0_11eb_90ef_0242ac1c0002row1_col0\" class=\"data row1 col0\" >0</td>\n",
              "                        <td id=\"T_88326096_98f0_11eb_90ef_0242ac1c0002row1_col1\" class=\"data row1 col1\" >7</td>\n",
              "                        <td id=\"T_88326096_98f0_11eb_90ef_0242ac1c0002row1_col2\" class=\"data row1 col2\" >8</td>\n",
              "                        <td id=\"T_88326096_98f0_11eb_90ef_0242ac1c0002row1_col3\" class=\"data row1 col3\" >2</td>\n",
              "                        <td id=\"T_88326096_98f0_11eb_90ef_0242ac1c0002row1_col4\" class=\"data row1 col4\" >17</td>\n",
              "            </tr>\n",
              "            <tr>\n",
              "                                <th id=\"T_88326096_98f0_11eb_90ef_0242ac1c0002level1_row2\" class=\"row_heading level1 row2\" >3</th>\n",
              "                        <td id=\"T_88326096_98f0_11eb_90ef_0242ac1c0002row2_col0\" class=\"data row2 col0\" >8</td>\n",
              "                        <td id=\"T_88326096_98f0_11eb_90ef_0242ac1c0002row2_col1\" class=\"data row2 col1\" >15</td>\n",
              "                        <td id=\"T_88326096_98f0_11eb_90ef_0242ac1c0002row2_col2\" class=\"data row2 col2\" >33</td>\n",
              "                        <td id=\"T_88326096_98f0_11eb_90ef_0242ac1c0002row2_col3\" class=\"data row2 col3\" >10</td>\n",
              "                        <td id=\"T_88326096_98f0_11eb_90ef_0242ac1c0002row2_col4\" class=\"data row2 col4\" >66</td>\n",
              "            </tr>\n",
              "            <tr>\n",
              "                        <th id=\"T_88326096_98f0_11eb_90ef_0242ac1c0002level0_row3\" class=\"row_heading level0 row3\" rowspan=3>Q</th>\n",
              "                        <th id=\"T_88326096_98f0_11eb_90ef_0242ac1c0002level1_row3\" class=\"row_heading level1 row3\" >1</th>\n",
              "                        <td id=\"T_88326096_98f0_11eb_90ef_0242ac1c0002row3_col0\" class=\"data row3 col0\" >0</td>\n",
              "                        <td id=\"T_88326096_98f0_11eb_90ef_0242ac1c0002row3_col1\" class=\"data row3 col1\" >1</td>\n",
              "                        <td id=\"T_88326096_98f0_11eb_90ef_0242ac1c0002row3_col2\" class=\"data row3 col2\" >1</td>\n",
              "                        <td id=\"T_88326096_98f0_11eb_90ef_0242ac1c0002row3_col3\" class=\"data row3 col3\" >0</td>\n",
              "                        <td id=\"T_88326096_98f0_11eb_90ef_0242ac1c0002row3_col4\" class=\"data row3 col4\" >2</td>\n",
              "            </tr>\n",
              "            <tr>\n",
              "                                <th id=\"T_88326096_98f0_11eb_90ef_0242ac1c0002level1_row4\" class=\"row_heading level1 row4\" >2</th>\n",
              "                        <td id=\"T_88326096_98f0_11eb_90ef_0242ac1c0002row4_col0\" class=\"data row4 col0\" >0</td>\n",
              "                        <td id=\"T_88326096_98f0_11eb_90ef_0242ac1c0002row4_col1\" class=\"data row4 col1\" >2</td>\n",
              "                        <td id=\"T_88326096_98f0_11eb_90ef_0242ac1c0002row4_col2\" class=\"data row4 col2\" >1</td>\n",
              "                        <td id=\"T_88326096_98f0_11eb_90ef_0242ac1c0002row4_col3\" class=\"data row4 col3\" >0</td>\n",
              "                        <td id=\"T_88326096_98f0_11eb_90ef_0242ac1c0002row4_col4\" class=\"data row4 col4\" >3</td>\n",
              "            </tr>\n",
              "            <tr>\n",
              "                                <th id=\"T_88326096_98f0_11eb_90ef_0242ac1c0002level1_row5\" class=\"row_heading level1 row5\" >3</th>\n",
              "                        <td id=\"T_88326096_98f0_11eb_90ef_0242ac1c0002row5_col0\" class=\"data row5 col0\" >9</td>\n",
              "                        <td id=\"T_88326096_98f0_11eb_90ef_0242ac1c0002row5_col1\" class=\"data row5 col1\" >24</td>\n",
              "                        <td id=\"T_88326096_98f0_11eb_90ef_0242ac1c0002row5_col2\" class=\"data row5 col2\" >36</td>\n",
              "                        <td id=\"T_88326096_98f0_11eb_90ef_0242ac1c0002row5_col3\" class=\"data row5 col3\" >3</td>\n",
              "                        <td id=\"T_88326096_98f0_11eb_90ef_0242ac1c0002row5_col4\" class=\"data row5 col4\" >72</td>\n",
              "            </tr>\n",
              "            <tr>\n",
              "                        <th id=\"T_88326096_98f0_11eb_90ef_0242ac1c0002level0_row6\" class=\"row_heading level0 row6\" rowspan=3>S</th>\n",
              "                        <th id=\"T_88326096_98f0_11eb_90ef_0242ac1c0002level1_row6\" class=\"row_heading level1 row6\" >1</th>\n",
              "                        <td id=\"T_88326096_98f0_11eb_90ef_0242ac1c0002row6_col0\" class=\"data row6 col0\" >2</td>\n",
              "                        <td id=\"T_88326096_98f0_11eb_90ef_0242ac1c0002row6_col1\" class=\"data row6 col1\" >46</td>\n",
              "                        <td id=\"T_88326096_98f0_11eb_90ef_0242ac1c0002row6_col2\" class=\"data row6 col2\" >51</td>\n",
              "                        <td id=\"T_88326096_98f0_11eb_90ef_0242ac1c0002row6_col3\" class=\"data row6 col3\" >28</td>\n",
              "                        <td id=\"T_88326096_98f0_11eb_90ef_0242ac1c0002row6_col4\" class=\"data row6 col4\" >127</td>\n",
              "            </tr>\n",
              "            <tr>\n",
              "                                <th id=\"T_88326096_98f0_11eb_90ef_0242ac1c0002level1_row7\" class=\"row_heading level1 row7\" >2</th>\n",
              "                        <td id=\"T_88326096_98f0_11eb_90ef_0242ac1c0002row7_col0\" class=\"data row7 col0\" >6</td>\n",
              "                        <td id=\"T_88326096_98f0_11eb_90ef_0242ac1c0002row7_col1\" class=\"data row7 col1\" >61</td>\n",
              "                        <td id=\"T_88326096_98f0_11eb_90ef_0242ac1c0002row7_col2\" class=\"data row7 col2\" >82</td>\n",
              "                        <td id=\"T_88326096_98f0_11eb_90ef_0242ac1c0002row7_col3\" class=\"data row7 col3\" >15</td>\n",
              "                        <td id=\"T_88326096_98f0_11eb_90ef_0242ac1c0002row7_col4\" class=\"data row7 col4\" >164</td>\n",
              "            </tr>\n",
              "            <tr>\n",
              "                                <th id=\"T_88326096_98f0_11eb_90ef_0242ac1c0002level1_row8\" class=\"row_heading level1 row8\" >3</th>\n",
              "                        <td id=\"T_88326096_98f0_11eb_90ef_0242ac1c0002row8_col0\" class=\"data row8 col0\" >55</td>\n",
              "                        <td id=\"T_88326096_98f0_11eb_90ef_0242ac1c0002row8_col1\" class=\"data row8 col1\" >33</td>\n",
              "                        <td id=\"T_88326096_98f0_11eb_90ef_0242ac1c0002row8_col2\" class=\"data row8 col2\" >231</td>\n",
              "                        <td id=\"T_88326096_98f0_11eb_90ef_0242ac1c0002row8_col3\" class=\"data row8 col3\" >34</td>\n",
              "                        <td id=\"T_88326096_98f0_11eb_90ef_0242ac1c0002row8_col4\" class=\"data row8 col4\" >353</td>\n",
              "            </tr>\n",
              "            <tr>\n",
              "                        <th id=\"T_88326096_98f0_11eb_90ef_0242ac1c0002level0_row9\" class=\"row_heading level0 row9\" >All</th>\n",
              "                        <th id=\"T_88326096_98f0_11eb_90ef_0242ac1c0002level1_row9\" class=\"row_heading level1 row9\" ></th>\n",
              "                        <td id=\"T_88326096_98f0_11eb_90ef_0242ac1c0002row9_col0\" class=\"data row9 col0\" >81</td>\n",
              "                        <td id=\"T_88326096_98f0_11eb_90ef_0242ac1c0002row9_col1\" class=\"data row9 col1\" >231</td>\n",
              "                        <td id=\"T_88326096_98f0_11eb_90ef_0242ac1c0002row9_col2\" class=\"data row9 col2\" >468</td>\n",
              "                        <td id=\"T_88326096_98f0_11eb_90ef_0242ac1c0002row9_col3\" class=\"data row9 col3\" >109</td>\n",
              "                        <td id=\"T_88326096_98f0_11eb_90ef_0242ac1c0002row9_col4\" class=\"data row9 col4\" >889</td>\n",
              "            </tr>\n",
              "    </tbody></table>"
            ],
            "text/plain": [
              "<pandas.io.formats.style.Styler at 0x7f8267637a90>"
            ]
          },
          "metadata": {
            "tags": []
          },
          "execution_count": 26
        }
      ]
    },
    {
      "cell_type": "code",
      "metadata": {
        "colab": {
          "base_uri": "https://localhost:8080/",
          "height": 255
        },
        "id": "d8ohV3boQrIB",
        "outputId": "b35aec35-7cb4-4c03-877b-c9d1cb2fbadc"
      },
      "source": [
        "sns.factorplot('Embarked','Survived', data=titanic)\n",
        "fig = plt.gcf()\n",
        "fig.set_size_inches(5,3)\n",
        "plt.show()"
      ],
      "execution_count": 27,
      "outputs": [
        {
          "output_type": "display_data",
          "data": {
            "image/png": "[encoded data removed]",
            "text/plain": [
              "<Figure size 360x216 with 1 Axes>"
            ]
          },
          "metadata": {
            "tags": [],
            "needs_background": "light"
          }
        }
      ]
    },
    {
      "cell_type": "code",
      "metadata": {
        "colab": {
          "base_uri": "https://localhost:8080/",
          "height": 332
        },
        "id": "u8O5Re74RDR3",
        "outputId": "4774599f-0d48-427c-d9b3-2c733903c914"
      },
      "source": [
        "sns.factorplot('Pclass','Survived',col='Initial',data=titanic)\n",
        "plt.show()"
      ],
      "execution_count": 28,
      "outputs": [
        {
          "output_type": "display_data",
          "data": {
            "image/png": "[encoded data removed]",
            "text/plain": [
              "<Figure size 1800x360 with 5 Axes>"
            ]
          },
          "metadata": {
            "tags": [],
            "needs_background": "light"
          }
        }
      ]
    },
    {
      "cell_type": "code",
      "metadata": {
        "colab": {
          "base_uri": "https://localhost:8080/",
          "height": 894
        },
        "id": "CIJONMLsROWU",
        "outputId": "69230725-9c48-42bd-d11e-f76a1f7c0dc2"
      },
      "source": [
        "f,ax=plt.subplots(2,2,figsize=(20,15))\n",
        "sns.countplot('Embarked',data=titanic,ax=ax[0,0])\n",
        "ax[0,0].set_title('No. Of Passengers Boarded')\n",
        "sns.countplot('Embarked',hue='Sex',data=titanic,ax=ax[0,1])\n",
        "ax[0,1].set_title('Male-Female Split for Embarked')\n",
        "sns.countplot('Embarked',hue='Survived',data=titanic,ax=ax[1,0])\n",
        "ax[1,0].set_title('Embarked vs Survived')\n",
        "sns.countplot('Embarked',hue='Pclass',data=titanic,ax=ax[1,1])\n",
        "ax[1,1].set_title('Embarked vs Pclass')\n",
        "plt.subplots_adjust(wspace=0.2,hspace=0.5)\n",
        "plt.show()"
      ],
      "execution_count": 29,
      "outputs": [
        {
          "output_type": "display_data",
          "data": {
            "image/png": "[encoded data removed]",
            "text/plain": [
              "<Figure size 1440x1080 with 4 Axes>"
            ]
          },
          "metadata": {
            "tags": [],
            "needs_background": "light"
          }
        }
      ]
    },
    {
      "cell_type": "markdown",
      "metadata": {
        "id": "8oNx6SKSRirg"
      },
      "source": [
        "좌상 그래프 : 각 항구별로 탑승한 인원의 수를 나타냄\n",
        "\n",
        "우상 그래프 : 각 항구별로 탑승한 인원을 성별로 나누어 나타냄\n",
        "\n",
        "좌하 그래프 : 각 항구별 탑승 인원에 대해서 살아남은 사람과 살아남지 못한 사람을 나타냄\n",
        "\n",
        "우하 그래프 : 각 항구별 탑승 인원에 대해 각 등석 인원에 대해 나타냄"
      ]
    },
    {
      "cell_type": "code",
      "metadata": {
        "colab": {
          "base_uri": "https://localhost:8080/",
          "height": 385
        },
        "id": "Z-4A3vCGR9vI",
        "outputId": "c9017d5b-53bc-4e18-cba8-8797bad5f6a1"
      },
      "source": [
        "sns.factorplot('Pclass','Survived',hue='Sex',col='Embarked',data=titanic)\n",
        "plt.show()"
      ],
      "execution_count": 30,
      "outputs": [
        {
          "output_type": "display_data",
          "data": {
            "image/png": "[encoded data removed]",
            "text/plain": [
              "<Figure size 1150.5x360 with 3 Axes>"
            ]
          },
          "metadata": {
            "tags": [],
            "needs_background": "light"
          }
        }
      ]
    },
    {
      "cell_type": "markdown",
      "metadata": {
        "id": "g6GSAVi1Sd0T"
      },
      "source": [
        "각 항구별 탑승 인원을 성별로 나누어 살아남은 비율을 나타낼 때, S항구의 여성들은 많이 살아남지 못했음"
      ]
    },
    {
      "cell_type": "code",
      "metadata": {
        "colab": {
          "base_uri": "https://localhost:8080/"
        },
        "id": "BoGXFeGySo0H",
        "outputId": "ef96e1d4-4475-46a9-cd5f-84b820cb3578"
      },
      "source": [
        "# Embarked에 NaN 데이터가 있는데, 대부분의 탑승객들은 S항구에서 탑승했기 때문에 S값으로 채워준다.\n",
        "titanic['Embarked'].fillna('S', inplace=True)\n",
        "titanic['Embarked'].isnull().sum()"
      ],
      "execution_count": 31,
      "outputs": [
        {
          "output_type": "execute_result",
          "data": {
            "text/plain": [
              "0"
            ]
          },
          "metadata": {
            "tags": []
          },
          "execution_count": 31
        }
      ]
    },
    {
      "cell_type": "code",
      "metadata": {
        "colab": {
          "base_uri": "https://localhost:8080/",
          "height": 177
        },
        "id": "fsFswUEZTG63",
        "outputId": "7c41e97a-ea6f-4b8c-99ec-5d736713666e"
      },
      "source": [
        "# 형제, 자매, 배우자 수 합\n",
        "pd.crosstab([titanic.SibSp],titanic.Survived).style.background_gradient(cmap='summer_r')"
      ],
      "execution_count": 32,
      "outputs": [
        {
          "output_type": "execute_result",
          "data": {
            "text/html": [
              "<style  type=\"text/css\" >\n",
              "#T_964231ca_98f0_11eb_90ef_0242ac1c0002row0_col0,#T_964231ca_98f0_11eb_90ef_0242ac1c0002row0_col1{\n",
              "            background-color:  #008066;\n",
              "            color:  #f1f1f1;\n",
              "        }#T_964231ca_98f0_11eb_90ef_0242ac1c0002row1_col0{\n",
              "            background-color:  #c4e266;\n",
              "            color:  #000000;\n",
              "        }#T_964231ca_98f0_11eb_90ef_0242ac1c0002row1_col1{\n",
              "            background-color:  #77bb66;\n",
              "            color:  #000000;\n",
              "        }#T_964231ca_98f0_11eb_90ef_0242ac1c0002row2_col0,#T_964231ca_98f0_11eb_90ef_0242ac1c0002row4_col0{\n",
              "            background-color:  #f9fc66;\n",
              "            color:  #000000;\n",
              "        }#T_964231ca_98f0_11eb_90ef_0242ac1c0002row2_col1{\n",
              "            background-color:  #f0f866;\n",
              "            color:  #000000;\n",
              "        }#T_964231ca_98f0_11eb_90ef_0242ac1c0002row3_col0,#T_964231ca_98f0_11eb_90ef_0242ac1c0002row3_col1{\n",
              "            background-color:  #fbfd66;\n",
              "            color:  #000000;\n",
              "        }#T_964231ca_98f0_11eb_90ef_0242ac1c0002row4_col1{\n",
              "            background-color:  #fcfe66;\n",
              "            color:  #000000;\n",
              "        }#T_964231ca_98f0_11eb_90ef_0242ac1c0002row5_col0,#T_964231ca_98f0_11eb_90ef_0242ac1c0002row5_col1,#T_964231ca_98f0_11eb_90ef_0242ac1c0002row6_col1{\n",
              "            background-color:  #ffff66;\n",
              "            color:  #000000;\n",
              "        }#T_964231ca_98f0_11eb_90ef_0242ac1c0002row6_col0{\n",
              "            background-color:  #fefe66;\n",
              "            color:  #000000;\n",
              "        }</style><table id=\"T_964231ca_98f0_11eb_90ef_0242ac1c0002\" ><thead>    <tr>        <th class=\"index_name level0\" >Survived</th>        <th class=\"col_heading level0 col0\" >0</th>        <th class=\"col_heading level0 col1\" >1</th>    </tr>    <tr>        <th class=\"index_name level0\" >SibSp</th>        <th class=\"blank\" ></th>        <th class=\"blank\" ></th>    </tr></thead><tbody>\n",
              "                <tr>\n",
              "                        <th id=\"T_964231ca_98f0_11eb_90ef_0242ac1c0002level0_row0\" class=\"row_heading level0 row0\" >0</th>\n",
              "                        <td id=\"T_964231ca_98f0_11eb_90ef_0242ac1c0002row0_col0\" class=\"data row0 col0\" >398</td>\n",
              "                        <td id=\"T_964231ca_98f0_11eb_90ef_0242ac1c0002row0_col1\" class=\"data row0 col1\" >210</td>\n",
              "            </tr>\n",
              "            <tr>\n",
              "                        <th id=\"T_964231ca_98f0_11eb_90ef_0242ac1c0002level0_row1\" class=\"row_heading level0 row1\" >1</th>\n",
              "                        <td id=\"T_964231ca_98f0_11eb_90ef_0242ac1c0002row1_col0\" class=\"data row1 col0\" >97</td>\n",
              "                        <td id=\"T_964231ca_98f0_11eb_90ef_0242ac1c0002row1_col1\" class=\"data row1 col1\" >112</td>\n",
              "            </tr>\n",
              "            <tr>\n",
              "                        <th id=\"T_964231ca_98f0_11eb_90ef_0242ac1c0002level0_row2\" class=\"row_heading level0 row2\" >2</th>\n",
              "                        <td id=\"T_964231ca_98f0_11eb_90ef_0242ac1c0002row2_col0\" class=\"data row2 col0\" >15</td>\n",
              "                        <td id=\"T_964231ca_98f0_11eb_90ef_0242ac1c0002row2_col1\" class=\"data row2 col1\" >13</td>\n",
              "            </tr>\n",
              "            <tr>\n",
              "                        <th id=\"T_964231ca_98f0_11eb_90ef_0242ac1c0002level0_row3\" class=\"row_heading level0 row3\" >3</th>\n",
              "                        <td id=\"T_964231ca_98f0_11eb_90ef_0242ac1c0002row3_col0\" class=\"data row3 col0\" >12</td>\n",
              "                        <td id=\"T_964231ca_98f0_11eb_90ef_0242ac1c0002row3_col1\" class=\"data row3 col1\" >4</td>\n",
              "            </tr>\n",
              "            <tr>\n",
              "                        <th id=\"T_964231ca_98f0_11eb_90ef_0242ac1c0002level0_row4\" class=\"row_heading level0 row4\" >4</th>\n",
              "                        <td id=\"T_964231ca_98f0_11eb_90ef_0242ac1c0002row4_col0\" class=\"data row4 col0\" >15</td>\n",
              "                        <td id=\"T_964231ca_98f0_11eb_90ef_0242ac1c0002row4_col1\" class=\"data row4 col1\" >3</td>\n",
              "            </tr>\n",
              "            <tr>\n",
              "                        <th id=\"T_964231ca_98f0_11eb_90ef_0242ac1c0002level0_row5\" class=\"row_heading level0 row5\" >5</th>\n",
              "                        <td id=\"T_964231ca_98f0_11eb_90ef_0242ac1c0002row5_col0\" class=\"data row5 col0\" >5</td>\n",
              "                        <td id=\"T_964231ca_98f0_11eb_90ef_0242ac1c0002row5_col1\" class=\"data row5 col1\" >0</td>\n",
              "            </tr>\n",
              "            <tr>\n",
              "                        <th id=\"T_964231ca_98f0_11eb_90ef_0242ac1c0002level0_row6\" class=\"row_heading level0 row6\" >8</th>\n",
              "                        <td id=\"T_964231ca_98f0_11eb_90ef_0242ac1c0002row6_col0\" class=\"data row6 col0\" >7</td>\n",
              "                        <td id=\"T_964231ca_98f0_11eb_90ef_0242ac1c0002row6_col1\" class=\"data row6 col1\" >0</td>\n",
              "            </tr>\n",
              "    </tbody></table>"
            ],
            "text/plain": [
              "<pandas.io.formats.style.Styler at 0x7f8271cba4d0>"
            ]
          },
          "metadata": {
            "tags": []
          },
          "execution_count": 32
        }
      ]
    },
    {
      "cell_type": "code",
      "metadata": {
        "colab": {
          "base_uri": "https://localhost:8080/",
          "height": 513
        },
        "id": "l8caSA_xTlUR",
        "outputId": "27b78091-a9b4-4c6e-b6a2-51bef2e10dfd"
      },
      "source": [
        "f,ax=plt.subplots(1,2,figsize=(20,8))\n",
        "\n",
        "sns.barplot('SibSp','Survived',data=titanic,ax=ax[0])\n",
        "ax[0].set_title('SibSp vs Survived')\n",
        "\n",
        "sns.factorplot('SibSp','Survived',data=titanic,ax=ax[1])\n",
        "ax[1].set_title('SibSp vs Survived')\n",
        "plt.close(2)\n",
        "plt.show()"
      ],
      "execution_count": 33,
      "outputs": [
        {
          "output_type": "display_data",
          "data": {
            "image/png": "[encoded data removed]",
            "text/plain": [
              "<Figure size 1440x576 with 2 Axes>"
            ]
          },
          "metadata": {
            "tags": [],
            "needs_background": "light"
          }
        }
      ]
    },
    {
      "cell_type": "code",
      "metadata": {
        "colab": {
          "base_uri": "https://localhost:8080/",
          "height": 177
        },
        "id": "RGC68z81VToo",
        "outputId": "a0cca4e1-0b13-403b-bd74-003c7af42a31"
      },
      "source": [
        "pd.crosstab(titanic.SibSp,titanic.Pclass).style.background_gradient(cmap='summer_r')"
      ],
      "execution_count": 34,
      "outputs": [
        {
          "output_type": "execute_result",
          "data": {
            "text/html": [
              "<style  type=\"text/css\" >\n",
              "#T_99c325de_98f0_11eb_90ef_0242ac1c0002row0_col0,#T_99c325de_98f0_11eb_90ef_0242ac1c0002row0_col1,#T_99c325de_98f0_11eb_90ef_0242ac1c0002row0_col2{\n",
              "            background-color:  #008066;\n",
              "            color:  #f1f1f1;\n",
              "        }#T_99c325de_98f0_11eb_90ef_0242ac1c0002row1_col0{\n",
              "            background-color:  #7bbd66;\n",
              "            color:  #000000;\n",
              "        }#T_99c325de_98f0_11eb_90ef_0242ac1c0002row1_col1{\n",
              "            background-color:  #8ac466;\n",
              "            color:  #000000;\n",
              "        }#T_99c325de_98f0_11eb_90ef_0242ac1c0002row1_col2{\n",
              "            background-color:  #c6e266;\n",
              "            color:  #000000;\n",
              "        }#T_99c325de_98f0_11eb_90ef_0242ac1c0002row2_col0,#T_99c325de_98f0_11eb_90ef_0242ac1c0002row4_col2{\n",
              "            background-color:  #f6fa66;\n",
              "            color:  #000000;\n",
              "        }#T_99c325de_98f0_11eb_90ef_0242ac1c0002row2_col1{\n",
              "            background-color:  #eef666;\n",
              "            color:  #000000;\n",
              "        }#T_99c325de_98f0_11eb_90ef_0242ac1c0002row2_col2{\n",
              "            background-color:  #f8fc66;\n",
              "            color:  #000000;\n",
              "        }#T_99c325de_98f0_11eb_90ef_0242ac1c0002row3_col0,#T_99c325de_98f0_11eb_90ef_0242ac1c0002row3_col2{\n",
              "            background-color:  #fafc66;\n",
              "            color:  #000000;\n",
              "        }#T_99c325de_98f0_11eb_90ef_0242ac1c0002row3_col1{\n",
              "            background-color:  #fdfe66;\n",
              "            color:  #000000;\n",
              "        }#T_99c325de_98f0_11eb_90ef_0242ac1c0002row4_col0,#T_99c325de_98f0_11eb_90ef_0242ac1c0002row4_col1,#T_99c325de_98f0_11eb_90ef_0242ac1c0002row5_col0,#T_99c325de_98f0_11eb_90ef_0242ac1c0002row5_col1,#T_99c325de_98f0_11eb_90ef_0242ac1c0002row5_col2,#T_99c325de_98f0_11eb_90ef_0242ac1c0002row6_col0,#T_99c325de_98f0_11eb_90ef_0242ac1c0002row6_col1{\n",
              "            background-color:  #ffff66;\n",
              "            color:  #000000;\n",
              "        }#T_99c325de_98f0_11eb_90ef_0242ac1c0002row6_col2{\n",
              "            background-color:  #fefe66;\n",
              "            color:  #000000;\n",
              "        }</style><table id=\"T_99c325de_98f0_11eb_90ef_0242ac1c0002\" ><thead>    <tr>        <th class=\"index_name level0\" >Pclass</th>        <th class=\"col_heading level0 col0\" >1</th>        <th class=\"col_heading level0 col1\" >2</th>        <th class=\"col_heading level0 col2\" >3</th>    </tr>    <tr>        <th class=\"index_name level0\" >SibSp</th>        <th class=\"blank\" ></th>        <th class=\"blank\" ></th>        <th class=\"blank\" ></th>    </tr></thead><tbody>\n",
              "                <tr>\n",
              "                        <th id=\"T_99c325de_98f0_11eb_90ef_0242ac1c0002level0_row0\" class=\"row_heading level0 row0\" >0</th>\n",
              "                        <td id=\"T_99c325de_98f0_11eb_90ef_0242ac1c0002row0_col0\" class=\"data row0 col0\" >137</td>\n",
              "                        <td id=\"T_99c325de_98f0_11eb_90ef_0242ac1c0002row0_col1\" class=\"data row0 col1\" >120</td>\n",
              "                        <td id=\"T_99c325de_98f0_11eb_90ef_0242ac1c0002row0_col2\" class=\"data row0 col2\" >351</td>\n",
              "            </tr>\n",
              "            <tr>\n",
              "                        <th id=\"T_99c325de_98f0_11eb_90ef_0242ac1c0002level0_row1\" class=\"row_heading level0 row1\" >1</th>\n",
              "                        <td id=\"T_99c325de_98f0_11eb_90ef_0242ac1c0002row1_col0\" class=\"data row1 col0\" >71</td>\n",
              "                        <td id=\"T_99c325de_98f0_11eb_90ef_0242ac1c0002row1_col1\" class=\"data row1 col1\" >55</td>\n",
              "                        <td id=\"T_99c325de_98f0_11eb_90ef_0242ac1c0002row1_col2\" class=\"data row1 col2\" >83</td>\n",
              "            </tr>\n",
              "            <tr>\n",
              "                        <th id=\"T_99c325de_98f0_11eb_90ef_0242ac1c0002level0_row2\" class=\"row_heading level0 row2\" >2</th>\n",
              "                        <td id=\"T_99c325de_98f0_11eb_90ef_0242ac1c0002row2_col0\" class=\"data row2 col0\" >5</td>\n",
              "                        <td id=\"T_99c325de_98f0_11eb_90ef_0242ac1c0002row2_col1\" class=\"data row2 col1\" >8</td>\n",
              "                        <td id=\"T_99c325de_98f0_11eb_90ef_0242ac1c0002row2_col2\" class=\"data row2 col2\" >15</td>\n",
              "            </tr>\n",
              "            <tr>\n",
              "                        <th id=\"T_99c325de_98f0_11eb_90ef_0242ac1c0002level0_row3\" class=\"row_heading level0 row3\" >3</th>\n",
              "                        <td id=\"T_99c325de_98f0_11eb_90ef_0242ac1c0002row3_col0\" class=\"data row3 col0\" >3</td>\n",
              "                        <td id=\"T_99c325de_98f0_11eb_90ef_0242ac1c0002row3_col1\" class=\"data row3 col1\" >1</td>\n",
              "                        <td id=\"T_99c325de_98f0_11eb_90ef_0242ac1c0002row3_col2\" class=\"data row3 col2\" >12</td>\n",
              "            </tr>\n",
              "            <tr>\n",
              "                        <th id=\"T_99c325de_98f0_11eb_90ef_0242ac1c0002level0_row4\" class=\"row_heading level0 row4\" >4</th>\n",
              "                        <td id=\"T_99c325de_98f0_11eb_90ef_0242ac1c0002row4_col0\" class=\"data row4 col0\" >0</td>\n",
              "                        <td id=\"T_99c325de_98f0_11eb_90ef_0242ac1c0002row4_col1\" class=\"data row4 col1\" >0</td>\n",
              "                        <td id=\"T_99c325de_98f0_11eb_90ef_0242ac1c0002row4_col2\" class=\"data row4 col2\" >18</td>\n",
              "            </tr>\n",
              "            <tr>\n",
              "                        <th id=\"T_99c325de_98f0_11eb_90ef_0242ac1c0002level0_row5\" class=\"row_heading level0 row5\" >5</th>\n",
              "                        <td id=\"T_99c325de_98f0_11eb_90ef_0242ac1c0002row5_col0\" class=\"data row5 col0\" >0</td>\n",
              "                        <td id=\"T_99c325de_98f0_11eb_90ef_0242ac1c0002row5_col1\" class=\"data row5 col1\" >0</td>\n",
              "                        <td id=\"T_99c325de_98f0_11eb_90ef_0242ac1c0002row5_col2\" class=\"data row5 col2\" >5</td>\n",
              "            </tr>\n",
              "            <tr>\n",
              "                        <th id=\"T_99c325de_98f0_11eb_90ef_0242ac1c0002level0_row6\" class=\"row_heading level0 row6\" >8</th>\n",
              "                        <td id=\"T_99c325de_98f0_11eb_90ef_0242ac1c0002row6_col0\" class=\"data row6 col0\" >0</td>\n",
              "                        <td id=\"T_99c325de_98f0_11eb_90ef_0242ac1c0002row6_col1\" class=\"data row6 col1\" >0</td>\n",
              "                        <td id=\"T_99c325de_98f0_11eb_90ef_0242ac1c0002row6_col2\" class=\"data row6 col2\" >7</td>\n",
              "            </tr>\n",
              "    </tbody></table>"
            ],
            "text/plain": [
              "<pandas.io.formats.style.Styler at 0x7f8271826f10>"
            ]
          },
          "metadata": {
            "tags": []
          },
          "execution_count": 34
        }
      ]
    },
    {
      "cell_type": "code",
      "metadata": {
        "colab": {
          "base_uri": "https://localhost:8080/",
          "height": 177
        },
        "id": "wbNAuJJJVcMp",
        "outputId": "e02058aa-764b-4aad-ea67-cae40466ab34"
      },
      "source": [
        "pd.crosstab(titanic.Parch,titanic.Pclass).style.background_gradient(cmap='summer_r')"
      ],
      "execution_count": 35,
      "outputs": [
        {
          "output_type": "execute_result",
          "data": {
            "text/html": [
              "<style  type=\"text/css\" >\n",
              "#T_9b030a40_98f0_11eb_90ef_0242ac1c0002row0_col0,#T_9b030a40_98f0_11eb_90ef_0242ac1c0002row0_col1,#T_9b030a40_98f0_11eb_90ef_0242ac1c0002row0_col2{\n",
              "            background-color:  #008066;\n",
              "            color:  #f1f1f1;\n",
              "        }#T_9b030a40_98f0_11eb_90ef_0242ac1c0002row1_col0{\n",
              "            background-color:  #cfe766;\n",
              "            color:  #000000;\n",
              "        }#T_9b030a40_98f0_11eb_90ef_0242ac1c0002row1_col1{\n",
              "            background-color:  #c2e066;\n",
              "            color:  #000000;\n",
              "        }#T_9b030a40_98f0_11eb_90ef_0242ac1c0002row1_col2{\n",
              "            background-color:  #dbed66;\n",
              "            color:  #000000;\n",
              "        }#T_9b030a40_98f0_11eb_90ef_0242ac1c0002row2_col0{\n",
              "            background-color:  #dfef66;\n",
              "            color:  #000000;\n",
              "        }#T_9b030a40_98f0_11eb_90ef_0242ac1c0002row2_col1{\n",
              "            background-color:  #e1f066;\n",
              "            color:  #000000;\n",
              "        }#T_9b030a40_98f0_11eb_90ef_0242ac1c0002row2_col2{\n",
              "            background-color:  #e3f166;\n",
              "            color:  #000000;\n",
              "        }#T_9b030a40_98f0_11eb_90ef_0242ac1c0002row3_col0,#T_9b030a40_98f0_11eb_90ef_0242ac1c0002row4_col1,#T_9b030a40_98f0_11eb_90ef_0242ac1c0002row5_col0,#T_9b030a40_98f0_11eb_90ef_0242ac1c0002row5_col1,#T_9b030a40_98f0_11eb_90ef_0242ac1c0002row6_col0,#T_9b030a40_98f0_11eb_90ef_0242ac1c0002row6_col1,#T_9b030a40_98f0_11eb_90ef_0242ac1c0002row6_col2{\n",
              "            background-color:  #ffff66;\n",
              "            color:  #000000;\n",
              "        }#T_9b030a40_98f0_11eb_90ef_0242ac1c0002row3_col1{\n",
              "            background-color:  #fcfe66;\n",
              "            color:  #000000;\n",
              "        }#T_9b030a40_98f0_11eb_90ef_0242ac1c0002row3_col2,#T_9b030a40_98f0_11eb_90ef_0242ac1c0002row4_col0,#T_9b030a40_98f0_11eb_90ef_0242ac1c0002row4_col2{\n",
              "            background-color:  #fefe66;\n",
              "            color:  #000000;\n",
              "        }#T_9b030a40_98f0_11eb_90ef_0242ac1c0002row5_col2{\n",
              "            background-color:  #fdfe66;\n",
              "            color:  #000000;\n",
              "        }</style><table id=\"T_9b030a40_98f0_11eb_90ef_0242ac1c0002\" ><thead>    <tr>        <th class=\"index_name level0\" >Pclass</th>        <th class=\"col_heading level0 col0\" >1</th>        <th class=\"col_heading level0 col1\" >2</th>        <th class=\"col_heading level0 col2\" >3</th>    </tr>    <tr>        <th class=\"index_name level0\" >Parch</th>        <th class=\"blank\" ></th>        <th class=\"blank\" ></th>        <th class=\"blank\" ></th>    </tr></thead><tbody>\n",
              "                <tr>\n",
              "                        <th id=\"T_9b030a40_98f0_11eb_90ef_0242ac1c0002level0_row0\" class=\"row_heading level0 row0\" >0</th>\n",
              "                        <td id=\"T_9b030a40_98f0_11eb_90ef_0242ac1c0002row0_col0\" class=\"data row0 col0\" >163</td>\n",
              "                        <td id=\"T_9b030a40_98f0_11eb_90ef_0242ac1c0002row0_col1\" class=\"data row0 col1\" >134</td>\n",
              "                        <td id=\"T_9b030a40_98f0_11eb_90ef_0242ac1c0002row0_col2\" class=\"data row0 col2\" >381</td>\n",
              "            </tr>\n",
              "            <tr>\n",
              "                        <th id=\"T_9b030a40_98f0_11eb_90ef_0242ac1c0002level0_row1\" class=\"row_heading level0 row1\" >1</th>\n",
              "                        <td id=\"T_9b030a40_98f0_11eb_90ef_0242ac1c0002row1_col0\" class=\"data row1 col0\" >31</td>\n",
              "                        <td id=\"T_9b030a40_98f0_11eb_90ef_0242ac1c0002row1_col1\" class=\"data row1 col1\" >32</td>\n",
              "                        <td id=\"T_9b030a40_98f0_11eb_90ef_0242ac1c0002row1_col2\" class=\"data row1 col2\" >55</td>\n",
              "            </tr>\n",
              "            <tr>\n",
              "                        <th id=\"T_9b030a40_98f0_11eb_90ef_0242ac1c0002level0_row2\" class=\"row_heading level0 row2\" >2</th>\n",
              "                        <td id=\"T_9b030a40_98f0_11eb_90ef_0242ac1c0002row2_col0\" class=\"data row2 col0\" >21</td>\n",
              "                        <td id=\"T_9b030a40_98f0_11eb_90ef_0242ac1c0002row2_col1\" class=\"data row2 col1\" >16</td>\n",
              "                        <td id=\"T_9b030a40_98f0_11eb_90ef_0242ac1c0002row2_col2\" class=\"data row2 col2\" >43</td>\n",
              "            </tr>\n",
              "            <tr>\n",
              "                        <th id=\"T_9b030a40_98f0_11eb_90ef_0242ac1c0002level0_row3\" class=\"row_heading level0 row3\" >3</th>\n",
              "                        <td id=\"T_9b030a40_98f0_11eb_90ef_0242ac1c0002row3_col0\" class=\"data row3 col0\" >0</td>\n",
              "                        <td id=\"T_9b030a40_98f0_11eb_90ef_0242ac1c0002row3_col1\" class=\"data row3 col1\" >2</td>\n",
              "                        <td id=\"T_9b030a40_98f0_11eb_90ef_0242ac1c0002row3_col2\" class=\"data row3 col2\" >3</td>\n",
              "            </tr>\n",
              "            <tr>\n",
              "                        <th id=\"T_9b030a40_98f0_11eb_90ef_0242ac1c0002level0_row4\" class=\"row_heading level0 row4\" >4</th>\n",
              "                        <td id=\"T_9b030a40_98f0_11eb_90ef_0242ac1c0002row4_col0\" class=\"data row4 col0\" >1</td>\n",
              "                        <td id=\"T_9b030a40_98f0_11eb_90ef_0242ac1c0002row4_col1\" class=\"data row4 col1\" >0</td>\n",
              "                        <td id=\"T_9b030a40_98f0_11eb_90ef_0242ac1c0002row4_col2\" class=\"data row4 col2\" >3</td>\n",
              "            </tr>\n",
              "            <tr>\n",
              "                        <th id=\"T_9b030a40_98f0_11eb_90ef_0242ac1c0002level0_row5\" class=\"row_heading level0 row5\" >5</th>\n",
              "                        <td id=\"T_9b030a40_98f0_11eb_90ef_0242ac1c0002row5_col0\" class=\"data row5 col0\" >0</td>\n",
              "                        <td id=\"T_9b030a40_98f0_11eb_90ef_0242ac1c0002row5_col1\" class=\"data row5 col1\" >0</td>\n",
              "                        <td id=\"T_9b030a40_98f0_11eb_90ef_0242ac1c0002row5_col2\" class=\"data row5 col2\" >5</td>\n",
              "            </tr>\n",
              "            <tr>\n",
              "                        <th id=\"T_9b030a40_98f0_11eb_90ef_0242ac1c0002level0_row6\" class=\"row_heading level0 row6\" >6</th>\n",
              "                        <td id=\"T_9b030a40_98f0_11eb_90ef_0242ac1c0002row6_col0\" class=\"data row6 col0\" >0</td>\n",
              "                        <td id=\"T_9b030a40_98f0_11eb_90ef_0242ac1c0002row6_col1\" class=\"data row6 col1\" >0</td>\n",
              "                        <td id=\"T_9b030a40_98f0_11eb_90ef_0242ac1c0002row6_col2\" class=\"data row6 col2\" >1</td>\n",
              "            </tr>\n",
              "    </tbody></table>"
            ],
            "text/plain": [
              "<pandas.io.formats.style.Styler at 0x7f826748c110>"
            ]
          },
          "metadata": {
            "tags": []
          },
          "execution_count": 35
        }
      ]
    },
    {
      "cell_type": "code",
      "metadata": {
        "colab": {
          "base_uri": "https://localhost:8080/",
          "height": 1000
        },
        "id": "3-W9Zd2MVg9K",
        "outputId": "6a24f4af-804d-4d17-a773-7a1393a8b2ee"
      },
      "source": [
        "# Parch 부모,자녀 수를 나타냄 Parch 부모,자녀 수를 나타냄\n",
        "f,ax=plt.subplots(1,2,figsize=(20,8))\n",
        "sns.barplot('Parch','Survived',data=titanic,ax=ax[0])\n",
        "ax[0].set_title('Parch vs Survived')\n",
        "sns.factorplot('Parch','Survived',data=titanic,ax=ax[1])\n",
        "ax[1].set_title('Parch vs Survived')\n",
        "plt.close(2)\n",
        "plt.show()\n",
        "f,ax=plt.subplots(1,2,figsize=(20,8))\n",
        "sns.barplot('Parch','Survived',data=titanic,ax=ax[0])\n",
        "ax[0].set_title('Parch vs Survived')\n",
        "sns.factorplot('Parch','Survived',data=titanic,ax=ax[1])\n",
        "ax[1].set_title('Parch vs Survived')\n",
        "plt.close(2)\n",
        "plt.show()"
      ],
      "execution_count": 36,
      "outputs": [
        {
          "output_type": "display_data",
          "data": {
            "image/png": "[encoded data removed]",
            "text/plain": [
              "<Figure size 1440x576 with 2 Axes>"
            ]
          },
          "metadata": {
            "tags": [],
            "needs_background": "light"
          }
        },
        {
          "output_type": "display_data",
          "data": {
            "image/png": "[encoded data removed]",
            "text/plain": [
              "<Figure size 1440x576 with 2 Axes>"
            ]
          },
          "metadata": {
            "tags": [],
            "needs_background": "light"
          }
        }
      ]
    },
    {
      "cell_type": "code",
      "metadata": {
        "colab": {
          "base_uri": "https://localhost:8080/"
        },
        "id": "reAA7HVuWQ3G",
        "outputId": "6ab0957b-a719-4afb-fdcb-0b6e02139ea3"
      },
      "source": [
        "# 가격 뽑아내기\n",
        "print('Highest Fare was:',titanic['Fare'].max())\n",
        "print('Lowest Fare was:',titanic['Fare'].min())\n",
        "print('Average Fare was:',titanic['Fare'].mean())"
      ],
      "execution_count": 37,
      "outputs": [
        {
          "output_type": "stream",
          "text": [
            "Highest Fare was: 512.3292\n",
            "Lowest Fare was: 0.0\n",
            "Average Fare was: 32.2042079685746\n"
          ],
          "name": "stdout"
        }
      ]
    },
    {
      "cell_type": "markdown",
      "metadata": {
        "id": "1-oLuZAcWgvm"
      },
      "source": [
        "평균은 32인데 가격차가 많이 나고 있음. 이런 것들은 이상치 데이터라고 하는데 처리해주는 것이 좋다"
      ]
    },
    {
      "cell_type": "code",
      "metadata": {
        "colab": {
          "base_uri": "https://localhost:8080/",
          "height": 513
        },
        "id": "tB0Va7zuWrFB",
        "outputId": "b1e7788e-3c47-464d-8ae2-b8e4d53cd29f"
      },
      "source": [
        "f,ax=plt.subplots(1,3,figsize=(20,8))\n",
        "sns.distplot(titanic[titanic['Pclass']==1].Fare,ax=ax[0])\n",
        "ax[0].set_title('Fares in Pclass 1')\n",
        "sns.distplot(titanic[titanic['Pclass']==2].Fare,ax=ax[1])\n",
        "ax[1].set_title('Fares in Pclass 2')\n",
        "sns.distplot(titanic[titanic['Pclass']==3].Fare,ax=ax[2])\n",
        "ax[2].set_title('Fares in Pclass 3')\n",
        "plt.show()"
      ],
      "execution_count": 38,
      "outputs": [
        {
          "output_type": "display_data",
          "data": {
            "image/png": "[encoded data removed]",
            "text/plain": [
              "<Figure size 1440x576 with 3 Axes>"
            ]
          },
          "metadata": {
            "tags": [],
            "needs_background": "light"
          }
        }
      ]
    },
    {
      "cell_type": "code",
      "metadata": {
        "colab": {
          "base_uri": "https://localhost:8080/",
          "height": 483
        },
        "id": "Ax7QeoZ-XPAi",
        "outputId": "c92cba83-620e-48c0-dce9-d142fd95f082"
      },
      "source": [
        "sns.heatmap(titanic.drop('PassengerId', axis=1).corr(), annot=True,cmap='RdYlGn',linewidths=0.2)\n",
        "fig=plt.gcf()\n",
        "fig.set_size_inches(10,8)\n",
        "plt.show()"
      ],
      "execution_count": 39,
      "outputs": [
        {
          "output_type": "display_data",
          "data": {
            "image/png": "[encoded data removed]",
            "text/plain": [
              "<Figure size 720x576 with 2 Axes>"
            ]
          },
          "metadata": {
            "tags": [],
            "needs_background": "light"
          }
        }
      ]
    },
    {
      "cell_type": "code",
      "metadata": {
        "id": "F_A4EfRXX5Xa",
        "colab": {
          "base_uri": "https://localhost:8080/",
          "height": 161
        },
        "outputId": "e8cd5534-bdd6-41be-891c-6be2907d0f49"
      },
      "source": [
        "del titanic\n"
      ],
      "execution_count": 122,
      "outputs": [
        {
          "output_type": "error",
          "ename": "NameError",
          "evalue": "ignored",
          "traceback": [
            "\u001b[0;31m---------------------------------------------------------------------------\u001b[0m",
            "\u001b[0;31mNameError\u001b[0m                                 Traceback (most recent call last)",
            "\u001b[0;32m<ipython-input-122-c9c5df866b86>\u001b[0m in \u001b[0;36m<module>\u001b[0;34m()\u001b[0m\n\u001b[0;32m----> 1\u001b[0;31m \u001b[0;32mdel\u001b[0m \u001b[0mtitanic\u001b[0m\u001b[0;34m\u001b[0m\u001b[0;34m\u001b[0m\u001b[0m\n\u001b[0m",
            "\u001b[0;31mNameError\u001b[0m: name 'titanic' is not defined"
          ]
        }
      ]
    },
    {
      "cell_type": "code",
      "metadata": {
        "id": "QYzWrRMSa0bq"
      },
      "source": [
        "train = pd.read_csv(\"/gdrive/My Drive/colab/titanic/train.csv\")\n",
        "test = pd.read_csv(\"/gdrive/My Drive/colab/titanic/test.csv\")"
      ],
      "execution_count": 123,
      "outputs": []
    },
    {
      "cell_type": "code",
      "metadata": {
        "id": "UxzdWk8Ba7wg"
      },
      "source": [
        "train_test = [train,test]"
      ],
      "execution_count": 124,
      "outputs": []
    },
    {
      "cell_type": "code",
      "metadata": {
        "colab": {
          "base_uri": "https://localhost:8080/"
        },
        "id": "emF7Gv-La_wP",
        "outputId": "81450978-0115-49fc-ad78-296e3f5433bc"
      },
      "source": [
        "print(train_test[0].shape)\n",
        "print(train_test[1].shape)"
      ],
      "execution_count": 125,
      "outputs": [
        {
          "output_type": "stream",
          "text": [
            "(891, 12)\n",
            "(418, 11)\n"
          ],
          "name": "stdout"
        }
      ]
    },
    {
      "cell_type": "code",
      "metadata": {
        "id": "6GLcfJ_BbFws"
      },
      "source": [
        "import re\n",
        "for data in train_test:\n",
        "        data['Initial'] = ''\n",
        "        init = []\n",
        "        p = re.compile('([A-Za-z]+)\\.')\n",
        "        for value in data['Name']:\n",
        "                init.append(p.search(value).group())\n",
        "        data['Initial'] = init"
      ],
      "execution_count": 126,
      "outputs": []
    },
    {
      "cell_type": "code",
      "metadata": {
        "colab": {
          "base_uri": "https://localhost:8080/",
          "height": 281
        },
        "id": "7cwBedbab9p-",
        "outputId": "d3d799b1-a4c9-4a05-902d-c4017ab1d020"
      },
      "source": [
        "train.head()"
      ],
      "execution_count": 127,
      "outputs": [
        {
          "output_type": "execute_result",
          "data": {
            "text/html": [
              "<div>\n",
              "<style scoped>\n",
              "    .dataframe tbody tr th:only-of-type {\n",
              "        vertical-align: middle;\n",
              "    }\n",
              "\n",
              "    .dataframe tbody tr th {\n",
              "        vertical-align: top;\n",
              "    }\n",
              "\n",
              "    .dataframe thead th {\n",
              "        text-align: right;\n",
              "    }\n",
              "</style>\n",
              "<table border=\"1\" class=\"dataframe\">\n",
              "  <thead>\n",
              "    <tr style=\"text-align: right;\">\n",
              "      <th></th>\n",
              "      <th>PassengerId</th>\n",
              "      <th>Survived</th>\n",
              "      <th>Pclass</th>\n",
              "      <th>Name</th>\n",
              "      <th>Sex</th>\n",
              "      <th>Age</th>\n",
              "      <th>SibSp</th>\n",
              "      <th>Parch</th>\n",
              "      <th>Ticket</th>\n",
              "      <th>Fare</th>\n",
              "      <th>Cabin</th>\n",
              "      <th>Embarked</th>\n",
              "      <th>Initial</th>\n",
              "    </tr>\n",
              "  </thead>\n",
              "  <tbody>\n",
              "    <tr>\n",
              "      <th>0</th>\n",
              "      <td>1</td>\n",
              "      <td>0</td>\n",
              "      <td>3</td>\n",
              "      <td>Braund, Mr. Owen Harris</td>\n",
              "      <td>male</td>\n",
              "      <td>22.0</td>\n",
              "      <td>1</td>\n",
              "      <td>0</td>\n",
              "      <td>A/5 21171</td>\n",
              "      <td>7.2500</td>\n",
              "      <td>NaN</td>\n",
              "      <td>S</td>\n",
              "      <td>Mr.</td>\n",
              "    </tr>\n",
              "    <tr>\n",
              "      <th>1</th>\n",
              "      <td>2</td>\n",
              "      <td>1</td>\n",
              "      <td>1</td>\n",
              "      <td>Cumings, Mrs. John Bradley (Florence Briggs Th...</td>\n",
              "      <td>female</td>\n",
              "      <td>38.0</td>\n",
              "      <td>1</td>\n",
              "      <td>0</td>\n",
              "      <td>PC 17599</td>\n",
              "      <td>71.2833</td>\n",
              "      <td>C85</td>\n",
              "      <td>C</td>\n",
              "      <td>Mrs.</td>\n",
              "    </tr>\n",
              "    <tr>\n",
              "      <th>2</th>\n",
              "      <td>3</td>\n",
              "      <td>1</td>\n",
              "      <td>3</td>\n",
              "      <td>Heikkinen, Miss. Laina</td>\n",
              "      <td>female</td>\n",
              "      <td>26.0</td>\n",
              "      <td>0</td>\n",
              "      <td>0</td>\n",
              "      <td>STON/O2. 3101282</td>\n",
              "      <td>7.9250</td>\n",
              "      <td>NaN</td>\n",
              "      <td>S</td>\n",
              "      <td>Miss.</td>\n",
              "    </tr>\n",
              "    <tr>\n",
              "      <th>3</th>\n",
              "      <td>4</td>\n",
              "      <td>1</td>\n",
              "      <td>1</td>\n",
              "      <td>Futrelle, Mrs. Jacques Heath (Lily May Peel)</td>\n",
              "      <td>female</td>\n",
              "      <td>35.0</td>\n",
              "      <td>1</td>\n",
              "      <td>0</td>\n",
              "      <td>113803</td>\n",
              "      <td>53.1000</td>\n",
              "      <td>C123</td>\n",
              "      <td>S</td>\n",
              "      <td>Mrs.</td>\n",
              "    </tr>\n",
              "    <tr>\n",
              "      <th>4</th>\n",
              "      <td>5</td>\n",
              "      <td>0</td>\n",
              "      <td>3</td>\n",
              "      <td>Allen, Mr. William Henry</td>\n",
              "      <td>male</td>\n",
              "      <td>35.0</td>\n",
              "      <td>0</td>\n",
              "      <td>0</td>\n",
              "      <td>373450</td>\n",
              "      <td>8.0500</td>\n",
              "      <td>NaN</td>\n",
              "      <td>S</td>\n",
              "      <td>Mr.</td>\n",
              "    </tr>\n",
              "  </tbody>\n",
              "</table>\n",
              "</div>"
            ],
            "text/plain": [
              "   PassengerId  Survived  Pclass  ... Cabin Embarked  Initial\n",
              "0            1         0       3  ...   NaN        S      Mr.\n",
              "1            2         1       1  ...   C85        C     Mrs.\n",
              "2            3         1       3  ...   NaN        S    Miss.\n",
              "3            4         1       1  ...  C123        S     Mrs.\n",
              "4            5         0       3  ...   NaN        S      Mr.\n",
              "\n",
              "[5 rows x 13 columns]"
            ]
          },
          "metadata": {
            "tags": []
          },
          "execution_count": 127
        }
      ]
    },
    {
      "cell_type": "code",
      "metadata": {
        "colab": {
          "base_uri": "https://localhost:8080/"
        },
        "id": "6YzI4uLYdDEW",
        "outputId": "3341066a-6821-486d-d77c-943eee2a3a31"
      },
      "source": [
        "train['Initial'].value_counts()"
      ],
      "execution_count": 128,
      "outputs": [
        {
          "output_type": "execute_result",
          "data": {
            "text/plain": [
              "Mr.          517\n",
              "Miss.        182\n",
              "Mrs.         125\n",
              "Master.       40\n",
              "Dr.            7\n",
              "Rev.           6\n",
              "Major.         2\n",
              "Mlle.          2\n",
              "Col.           2\n",
              "Sir.           1\n",
              "Jonkheer.      1\n",
              "Countess.      1\n",
              "Mme.           1\n",
              "Ms.            1\n",
              "Don.           1\n",
              "Capt.          1\n",
              "Lady.          1\n",
              "Name: Initial, dtype: int64"
            ]
          },
          "metadata": {
            "tags": []
          },
          "execution_count": 128
        }
      ]
    },
    {
      "cell_type": "code",
      "metadata": {
        "id": "5AKyfG7bb0qy"
      },
      "source": [
        "pre = ['Mr','Miss','Mrs','Master','Mlle','Mme','Ms','Dr','Major','Lady','Countess','Jonkheer','Col','Rev','Capt','Sir','Don','Dona']\n",
        "aft =  ['Mr','Miss','Mrs','Master','Miss','Miss','Miss','Mr','Mr','Mrs','Mrs','Other','Other','Other','Mr','Mr','Mr','Other']\n",
        "for data in train_test:\n",
        "        data['Initial'].replace(['Mr.','Miss.','Mrs.','Master.','Mlle.','Mme.','Ms.','Dr.','Major.','Lady.','Countess.','Jonkheer.','Col.','Rev.','Capt.','Sir.','Don.','Dona.'],\n",
        "                             ['Mr','Miss','Mrs','Master','Miss','Miss','Miss','Mr','Mr','Mrs','Mrs','Other','Other','Other','Mr','Mr','Mr','Other'],inplace=True)"
      ],
      "execution_count": 129,
      "outputs": []
    },
    {
      "cell_type": "code",
      "metadata": {
        "colab": {
          "base_uri": "https://localhost:8080/",
          "height": 531
        },
        "id": "mk00iVFodrOV",
        "outputId": "6fd5733f-ac7f-49a0-cb09-dd00bd7f74cb"
      },
      "source": [
        "train.head(10)"
      ],
      "execution_count": 130,
      "outputs": [
        {
          "output_type": "execute_result",
          "data": {
            "text/html": [
              "<div>\n",
              "<style scoped>\n",
              "    .dataframe tbody tr th:only-of-type {\n",
              "        vertical-align: middle;\n",
              "    }\n",
              "\n",
              "    .dataframe tbody tr th {\n",
              "        vertical-align: top;\n",
              "    }\n",
              "\n",
              "    .dataframe thead th {\n",
              "        text-align: right;\n",
              "    }\n",
              "</style>\n",
              "<table border=\"1\" class=\"dataframe\">\n",
              "  <thead>\n",
              "    <tr style=\"text-align: right;\">\n",
              "      <th></th>\n",
              "      <th>PassengerId</th>\n",
              "      <th>Survived</th>\n",
              "      <th>Pclass</th>\n",
              "      <th>Name</th>\n",
              "      <th>Sex</th>\n",
              "      <th>Age</th>\n",
              "      <th>SibSp</th>\n",
              "      <th>Parch</th>\n",
              "      <th>Ticket</th>\n",
              "      <th>Fare</th>\n",
              "      <th>Cabin</th>\n",
              "      <th>Embarked</th>\n",
              "      <th>Initial</th>\n",
              "    </tr>\n",
              "  </thead>\n",
              "  <tbody>\n",
              "    <tr>\n",
              "      <th>0</th>\n",
              "      <td>1</td>\n",
              "      <td>0</td>\n",
              "      <td>3</td>\n",
              "      <td>Braund, Mr. Owen Harris</td>\n",
              "      <td>male</td>\n",
              "      <td>22.0</td>\n",
              "      <td>1</td>\n",
              "      <td>0</td>\n",
              "      <td>A/5 21171</td>\n",
              "      <td>7.2500</td>\n",
              "      <td>NaN</td>\n",
              "      <td>S</td>\n",
              "      <td>Mr</td>\n",
              "    </tr>\n",
              "    <tr>\n",
              "      <th>1</th>\n",
              "      <td>2</td>\n",
              "      <td>1</td>\n",
              "      <td>1</td>\n",
              "      <td>Cumings, Mrs. John Bradley (Florence Briggs Th...</td>\n",
              "      <td>female</td>\n",
              "      <td>38.0</td>\n",
              "      <td>1</td>\n",
              "      <td>0</td>\n",
              "      <td>PC 17599</td>\n",
              "      <td>71.2833</td>\n",
              "      <td>C85</td>\n",
              "      <td>C</td>\n",
              "      <td>Mrs</td>\n",
              "    </tr>\n",
              "    <tr>\n",
              "      <th>2</th>\n",
              "      <td>3</td>\n",
              "      <td>1</td>\n",
              "      <td>3</td>\n",
              "      <td>Heikkinen, Miss. Laina</td>\n",
              "      <td>female</td>\n",
              "      <td>26.0</td>\n",
              "      <td>0</td>\n",
              "      <td>0</td>\n",
              "      <td>STON/O2. 3101282</td>\n",
              "      <td>7.9250</td>\n",
              "      <td>NaN</td>\n",
              "      <td>S</td>\n",
              "      <td>Miss</td>\n",
              "    </tr>\n",
              "    <tr>\n",
              "      <th>3</th>\n",
              "      <td>4</td>\n",
              "      <td>1</td>\n",
              "      <td>1</td>\n",
              "      <td>Futrelle, Mrs. Jacques Heath (Lily May Peel)</td>\n",
              "      <td>female</td>\n",
              "      <td>35.0</td>\n",
              "      <td>1</td>\n",
              "      <td>0</td>\n",
              "      <td>113803</td>\n",
              "      <td>53.1000</td>\n",
              "      <td>C123</td>\n",
              "      <td>S</td>\n",
              "      <td>Mrs</td>\n",
              "    </tr>\n",
              "    <tr>\n",
              "      <th>4</th>\n",
              "      <td>5</td>\n",
              "      <td>0</td>\n",
              "      <td>3</td>\n",
              "      <td>Allen, Mr. William Henry</td>\n",
              "      <td>male</td>\n",
              "      <td>35.0</td>\n",
              "      <td>0</td>\n",
              "      <td>0</td>\n",
              "      <td>373450</td>\n",
              "      <td>8.0500</td>\n",
              "      <td>NaN</td>\n",
              "      <td>S</td>\n",
              "      <td>Mr</td>\n",
              "    </tr>\n",
              "    <tr>\n",
              "      <th>5</th>\n",
              "      <td>6</td>\n",
              "      <td>0</td>\n",
              "      <td>3</td>\n",
              "      <td>Moran, Mr. James</td>\n",
              "      <td>male</td>\n",
              "      <td>NaN</td>\n",
              "      <td>0</td>\n",
              "      <td>0</td>\n",
              "      <td>330877</td>\n",
              "      <td>8.4583</td>\n",
              "      <td>NaN</td>\n",
              "      <td>Q</td>\n",
              "      <td>Mr</td>\n",
              "    </tr>\n",
              "    <tr>\n",
              "      <th>6</th>\n",
              "      <td>7</td>\n",
              "      <td>0</td>\n",
              "      <td>1</td>\n",
              "      <td>McCarthy, Mr. Timothy J</td>\n",
              "      <td>male</td>\n",
              "      <td>54.0</td>\n",
              "      <td>0</td>\n",
              "      <td>0</td>\n",
              "      <td>17463</td>\n",
              "      <td>51.8625</td>\n",
              "      <td>E46</td>\n",
              "      <td>S</td>\n",
              "      <td>Mr</td>\n",
              "    </tr>\n",
              "    <tr>\n",
              "      <th>7</th>\n",
              "      <td>8</td>\n",
              "      <td>0</td>\n",
              "      <td>3</td>\n",
              "      <td>Palsson, Master. Gosta Leonard</td>\n",
              "      <td>male</td>\n",
              "      <td>2.0</td>\n",
              "      <td>3</td>\n",
              "      <td>1</td>\n",
              "      <td>349909</td>\n",
              "      <td>21.0750</td>\n",
              "      <td>NaN</td>\n",
              "      <td>S</td>\n",
              "      <td>Master</td>\n",
              "    </tr>\n",
              "    <tr>\n",
              "      <th>8</th>\n",
              "      <td>9</td>\n",
              "      <td>1</td>\n",
              "      <td>3</td>\n",
              "      <td>Johnson, Mrs. Oscar W (Elisabeth Vilhelmina Berg)</td>\n",
              "      <td>female</td>\n",
              "      <td>27.0</td>\n",
              "      <td>0</td>\n",
              "      <td>2</td>\n",
              "      <td>347742</td>\n",
              "      <td>11.1333</td>\n",
              "      <td>NaN</td>\n",
              "      <td>S</td>\n",
              "      <td>Mrs</td>\n",
              "    </tr>\n",
              "    <tr>\n",
              "      <th>9</th>\n",
              "      <td>10</td>\n",
              "      <td>1</td>\n",
              "      <td>2</td>\n",
              "      <td>Nasser, Mrs. Nicholas (Adele Achem)</td>\n",
              "      <td>female</td>\n",
              "      <td>14.0</td>\n",
              "      <td>1</td>\n",
              "      <td>0</td>\n",
              "      <td>237736</td>\n",
              "      <td>30.0708</td>\n",
              "      <td>NaN</td>\n",
              "      <td>C</td>\n",
              "      <td>Mrs</td>\n",
              "    </tr>\n",
              "  </tbody>\n",
              "</table>\n",
              "</div>"
            ],
            "text/plain": [
              "   PassengerId  Survived  Pclass  ... Cabin Embarked  Initial\n",
              "0            1         0       3  ...   NaN        S       Mr\n",
              "1            2         1       1  ...   C85        C      Mrs\n",
              "2            3         1       3  ...   NaN        S     Miss\n",
              "3            4         1       1  ...  C123        S      Mrs\n",
              "4            5         0       3  ...   NaN        S       Mr\n",
              "5            6         0       3  ...   NaN        Q       Mr\n",
              "6            7         0       1  ...   E46        S       Mr\n",
              "7            8         0       3  ...   NaN        S   Master\n",
              "8            9         1       3  ...   NaN        S      Mrs\n",
              "9           10         1       2  ...   NaN        C      Mrs\n",
              "\n",
              "[10 rows x 13 columns]"
            ]
          },
          "metadata": {
            "tags": []
          },
          "execution_count": 130
        }
      ]
    },
    {
      "cell_type": "code",
      "metadata": {
        "colab": {
          "base_uri": "https://localhost:8080/"
        },
        "id": "sm78aEzcd0Ua",
        "outputId": "d728f09b-d9c3-423a-f233-f7729750d1fa"
      },
      "source": [
        "train.groupby('Initial')['Age'].mean()"
      ],
      "execution_count": 131,
      "outputs": [
        {
          "output_type": "execute_result",
          "data": {
            "text/plain": [
              "Initial\n",
              "Master     4.574167\n",
              "Miss      21.860000\n",
              "Mr        32.739609\n",
              "Mrs       35.981818\n",
              "Other     45.888889\n",
              "Name: Age, dtype: float64"
            ]
          },
          "metadata": {
            "tags": []
          },
          "execution_count": 131
        }
      ]
    },
    {
      "cell_type": "code",
      "metadata": {
        "id": "KLXGJ19Metm_"
      },
      "source": [
        "# Age 빈데이터를 채워준다\n",
        "for data in train_test:\n",
        "  data.loc[(data['Age'].isnull())&(data['Initial'] =='Master'),'Age']=5\n",
        "  data.loc[(data['Age'].isnull())&(data['Initial'] =='Miss'),'Age']=22\n",
        "  data.loc[(data['Age'].isnull())&(data['Initial'] =='Mr'),'Age']=33\n",
        "  data.loc[(data['Age'].isnull())&(data['Initial'] =='Mrs'),'Age']=36\n",
        "  data.loc[(data['Age'].isnull())&(data['Initial'] =='other'),'Age']=46"
      ],
      "execution_count": 132,
      "outputs": []
    },
    {
      "cell_type": "code",
      "metadata": {
        "colab": {
          "base_uri": "https://localhost:8080/"
        },
        "id": "r3p-DjMUfNFx",
        "outputId": "176876dd-8e6c-400b-fe3f-0bc404bf7f32"
      },
      "source": [
        "print(train['Age'].isnull().sum())\n",
        "print(test['Age'].isnull().sum())"
      ],
      "execution_count": 133,
      "outputs": [
        {
          "output_type": "stream",
          "text": [
            "0\n",
            "0\n"
          ],
          "name": "stdout"
        }
      ]
    },
    {
      "cell_type": "code",
      "metadata": {
        "colab": {
          "base_uri": "https://localhost:8080/",
          "height": 531
        },
        "id": "hGVw_e8mBH5U",
        "outputId": "5b81dea8-8194-4f79-80ff-f0fe2e70d377"
      },
      "source": [
        "train.head(10)"
      ],
      "execution_count": 134,
      "outputs": [
        {
          "output_type": "execute_result",
          "data": {
            "text/html": [
              "<div>\n",
              "<style scoped>\n",
              "    .dataframe tbody tr th:only-of-type {\n",
              "        vertical-align: middle;\n",
              "    }\n",
              "\n",
              "    .dataframe tbody tr th {\n",
              "        vertical-align: top;\n",
              "    }\n",
              "\n",
              "    .dataframe thead th {\n",
              "        text-align: right;\n",
              "    }\n",
              "</style>\n",
              "<table border=\"1\" class=\"dataframe\">\n",
              "  <thead>\n",
              "    <tr style=\"text-align: right;\">\n",
              "      <th></th>\n",
              "      <th>PassengerId</th>\n",
              "      <th>Survived</th>\n",
              "      <th>Pclass</th>\n",
              "      <th>Name</th>\n",
              "      <th>Sex</th>\n",
              "      <th>Age</th>\n",
              "      <th>SibSp</th>\n",
              "      <th>Parch</th>\n",
              "      <th>Ticket</th>\n",
              "      <th>Fare</th>\n",
              "      <th>Cabin</th>\n",
              "      <th>Embarked</th>\n",
              "      <th>Initial</th>\n",
              "    </tr>\n",
              "  </thead>\n",
              "  <tbody>\n",
              "    <tr>\n",
              "      <th>0</th>\n",
              "      <td>1</td>\n",
              "      <td>0</td>\n",
              "      <td>3</td>\n",
              "      <td>Braund, Mr. Owen Harris</td>\n",
              "      <td>male</td>\n",
              "      <td>22.0</td>\n",
              "      <td>1</td>\n",
              "      <td>0</td>\n",
              "      <td>A/5 21171</td>\n",
              "      <td>7.2500</td>\n",
              "      <td>NaN</td>\n",
              "      <td>S</td>\n",
              "      <td>Mr</td>\n",
              "    </tr>\n",
              "    <tr>\n",
              "      <th>1</th>\n",
              "      <td>2</td>\n",
              "      <td>1</td>\n",
              "      <td>1</td>\n",
              "      <td>Cumings, Mrs. John Bradley (Florence Briggs Th...</td>\n",
              "      <td>female</td>\n",
              "      <td>38.0</td>\n",
              "      <td>1</td>\n",
              "      <td>0</td>\n",
              "      <td>PC 17599</td>\n",
              "      <td>71.2833</td>\n",
              "      <td>C85</td>\n",
              "      <td>C</td>\n",
              "      <td>Mrs</td>\n",
              "    </tr>\n",
              "    <tr>\n",
              "      <th>2</th>\n",
              "      <td>3</td>\n",
              "      <td>1</td>\n",
              "      <td>3</td>\n",
              "      <td>Heikkinen, Miss. Laina</td>\n",
              "      <td>female</td>\n",
              "      <td>26.0</td>\n",
              "      <td>0</td>\n",
              "      <td>0</td>\n",
              "      <td>STON/O2. 3101282</td>\n",
              "      <td>7.9250</td>\n",
              "      <td>NaN</td>\n",
              "      <td>S</td>\n",
              "      <td>Miss</td>\n",
              "    </tr>\n",
              "    <tr>\n",
              "      <th>3</th>\n",
              "      <td>4</td>\n",
              "      <td>1</td>\n",
              "      <td>1</td>\n",
              "      <td>Futrelle, Mrs. Jacques Heath (Lily May Peel)</td>\n",
              "      <td>female</td>\n",
              "      <td>35.0</td>\n",
              "      <td>1</td>\n",
              "      <td>0</td>\n",
              "      <td>113803</td>\n",
              "      <td>53.1000</td>\n",
              "      <td>C123</td>\n",
              "      <td>S</td>\n",
              "      <td>Mrs</td>\n",
              "    </tr>\n",
              "    <tr>\n",
              "      <th>4</th>\n",
              "      <td>5</td>\n",
              "      <td>0</td>\n",
              "      <td>3</td>\n",
              "      <td>Allen, Mr. William Henry</td>\n",
              "      <td>male</td>\n",
              "      <td>35.0</td>\n",
              "      <td>0</td>\n",
              "      <td>0</td>\n",
              "      <td>373450</td>\n",
              "      <td>8.0500</td>\n",
              "      <td>NaN</td>\n",
              "      <td>S</td>\n",
              "      <td>Mr</td>\n",
              "    </tr>\n",
              "    <tr>\n",
              "      <th>5</th>\n",
              "      <td>6</td>\n",
              "      <td>0</td>\n",
              "      <td>3</td>\n",
              "      <td>Moran, Mr. James</td>\n",
              "      <td>male</td>\n",
              "      <td>33.0</td>\n",
              "      <td>0</td>\n",
              "      <td>0</td>\n",
              "      <td>330877</td>\n",
              "      <td>8.4583</td>\n",
              "      <td>NaN</td>\n",
              "      <td>Q</td>\n",
              "      <td>Mr</td>\n",
              "    </tr>\n",
              "    <tr>\n",
              "      <th>6</th>\n",
              "      <td>7</td>\n",
              "      <td>0</td>\n",
              "      <td>1</td>\n",
              "      <td>McCarthy, Mr. Timothy J</td>\n",
              "      <td>male</td>\n",
              "      <td>54.0</td>\n",
              "      <td>0</td>\n",
              "      <td>0</td>\n",
              "      <td>17463</td>\n",
              "      <td>51.8625</td>\n",
              "      <td>E46</td>\n",
              "      <td>S</td>\n",
              "      <td>Mr</td>\n",
              "    </tr>\n",
              "    <tr>\n",
              "      <th>7</th>\n",
              "      <td>8</td>\n",
              "      <td>0</td>\n",
              "      <td>3</td>\n",
              "      <td>Palsson, Master. Gosta Leonard</td>\n",
              "      <td>male</td>\n",
              "      <td>2.0</td>\n",
              "      <td>3</td>\n",
              "      <td>1</td>\n",
              "      <td>349909</td>\n",
              "      <td>21.0750</td>\n",
              "      <td>NaN</td>\n",
              "      <td>S</td>\n",
              "      <td>Master</td>\n",
              "    </tr>\n",
              "    <tr>\n",
              "      <th>8</th>\n",
              "      <td>9</td>\n",
              "      <td>1</td>\n",
              "      <td>3</td>\n",
              "      <td>Johnson, Mrs. Oscar W (Elisabeth Vilhelmina Berg)</td>\n",
              "      <td>female</td>\n",
              "      <td>27.0</td>\n",
              "      <td>0</td>\n",
              "      <td>2</td>\n",
              "      <td>347742</td>\n",
              "      <td>11.1333</td>\n",
              "      <td>NaN</td>\n",
              "      <td>S</td>\n",
              "      <td>Mrs</td>\n",
              "    </tr>\n",
              "    <tr>\n",
              "      <th>9</th>\n",
              "      <td>10</td>\n",
              "      <td>1</td>\n",
              "      <td>2</td>\n",
              "      <td>Nasser, Mrs. Nicholas (Adele Achem)</td>\n",
              "      <td>female</td>\n",
              "      <td>14.0</td>\n",
              "      <td>1</td>\n",
              "      <td>0</td>\n",
              "      <td>237736</td>\n",
              "      <td>30.0708</td>\n",
              "      <td>NaN</td>\n",
              "      <td>C</td>\n",
              "      <td>Mrs</td>\n",
              "    </tr>\n",
              "  </tbody>\n",
              "</table>\n",
              "</div>"
            ],
            "text/plain": [
              "   PassengerId  Survived  Pclass  ... Cabin Embarked  Initial\n",
              "0            1         0       3  ...   NaN        S       Mr\n",
              "1            2         1       1  ...   C85        C      Mrs\n",
              "2            3         1       3  ...   NaN        S     Miss\n",
              "3            4         1       1  ...  C123        S      Mrs\n",
              "4            5         0       3  ...   NaN        S       Mr\n",
              "5            6         0       3  ...   NaN        Q       Mr\n",
              "6            7         0       1  ...   E46        S       Mr\n",
              "7            8         0       3  ...   NaN        S   Master\n",
              "8            9         1       3  ...   NaN        S      Mrs\n",
              "9           10         1       2  ...   NaN        C      Mrs\n",
              "\n",
              "[10 rows x 13 columns]"
            ]
          },
          "metadata": {
            "tags": []
          },
          "execution_count": 134
        }
      ]
    },
    {
      "cell_type": "code",
      "metadata": {
        "id": "0uMLVu-hgfoV"
      },
      "source": [
        "mapping = {\n",
        "    'Mr' : 1,\n",
        "    'Miss' : 2,\n",
        "    'Mrs' : 3,\n",
        "    'Master' : 4,\n",
        "    'Other' : 5\n",
        "}"
      ],
      "execution_count": 135,
      "outputs": []
    },
    {
      "cell_type": "code",
      "metadata": {
        "id": "WtZ50fMigpJJ"
      },
      "source": [
        "# 이니셜을 숫자로 매핑 해준다 기계학습은 숫자로 이루어짐 이니셜을 숫자로 매핑 해준다 기계학습은 숫자로 이루어짐\n",
        "\n",
        "for data in train_test:\n",
        "  data['Initial'] = data['Initial'].map(mapping).astype(int)"
      ],
      "execution_count": 136,
      "outputs": []
    },
    {
      "cell_type": "code",
      "metadata": {
        "colab": {
          "base_uri": "https://localhost:8080/",
          "height": 1000
        },
        "id": "-RnRAIZiic1c",
        "outputId": "397bf326-5f61-45e0-920a-2452c5b571c7"
      },
      "source": [
        "train.head(30)"
      ],
      "execution_count": 137,
      "outputs": [
        {
          "output_type": "execute_result",
          "data": {
            "text/html": [
              "<div>\n",
              "<style scoped>\n",
              "    .dataframe tbody tr th:only-of-type {\n",
              "        vertical-align: middle;\n",
              "    }\n",
              "\n",
              "    .dataframe tbody tr th {\n",
              "        vertical-align: top;\n",
              "    }\n",
              "\n",
              "    .dataframe thead th {\n",
              "        text-align: right;\n",
              "    }\n",
              "</style>\n",
              "<table border=\"1\" class=\"dataframe\">\n",
              "  <thead>\n",
              "    <tr style=\"text-align: right;\">\n",
              "      <th></th>\n",
              "      <th>PassengerId</th>\n",
              "      <th>Survived</th>\n",
              "      <th>Pclass</th>\n",
              "      <th>Name</th>\n",
              "      <th>Sex</th>\n",
              "      <th>Age</th>\n",
              "      <th>SibSp</th>\n",
              "      <th>Parch</th>\n",
              "      <th>Ticket</th>\n",
              "      <th>Fare</th>\n",
              "      <th>Cabin</th>\n",
              "      <th>Embarked</th>\n",
              "      <th>Initial</th>\n",
              "    </tr>\n",
              "  </thead>\n",
              "  <tbody>\n",
              "    <tr>\n",
              "      <th>0</th>\n",
              "      <td>1</td>\n",
              "      <td>0</td>\n",
              "      <td>3</td>\n",
              "      <td>Braund, Mr. Owen Harris</td>\n",
              "      <td>male</td>\n",
              "      <td>22.0</td>\n",
              "      <td>1</td>\n",
              "      <td>0</td>\n",
              "      <td>A/5 21171</td>\n",
              "      <td>7.2500</td>\n",
              "      <td>NaN</td>\n",
              "      <td>S</td>\n",
              "      <td>1</td>\n",
              "    </tr>\n",
              "    <tr>\n",
              "      <th>1</th>\n",
              "      <td>2</td>\n",
              "      <td>1</td>\n",
              "      <td>1</td>\n",
              "      <td>Cumings, Mrs. John Bradley (Florence Briggs Th...</td>\n",
              "      <td>female</td>\n",
              "      <td>38.0</td>\n",
              "      <td>1</td>\n",
              "      <td>0</td>\n",
              "      <td>PC 17599</td>\n",
              "      <td>71.2833</td>\n",
              "      <td>C85</td>\n",
              "      <td>C</td>\n",
              "      <td>3</td>\n",
              "    </tr>\n",
              "    <tr>\n",
              "      <th>2</th>\n",
              "      <td>3</td>\n",
              "      <td>1</td>\n",
              "      <td>3</td>\n",
              "      <td>Heikkinen, Miss. Laina</td>\n",
              "      <td>female</td>\n",
              "      <td>26.0</td>\n",
              "      <td>0</td>\n",
              "      <td>0</td>\n",
              "      <td>STON/O2. 3101282</td>\n",
              "      <td>7.9250</td>\n",
              "      <td>NaN</td>\n",
              "      <td>S</td>\n",
              "      <td>2</td>\n",
              "    </tr>\n",
              "    <tr>\n",
              "      <th>3</th>\n",
              "      <td>4</td>\n",
              "      <td>1</td>\n",
              "      <td>1</td>\n",
              "      <td>Futrelle, Mrs. Jacques Heath (Lily May Peel)</td>\n",
              "      <td>female</td>\n",
              "      <td>35.0</td>\n",
              "      <td>1</td>\n",
              "      <td>0</td>\n",
              "      <td>113803</td>\n",
              "      <td>53.1000</td>\n",
              "      <td>C123</td>\n",
              "      <td>S</td>\n",
              "      <td>3</td>\n",
              "    </tr>\n",
              "    <tr>\n",
              "      <th>4</th>\n",
              "      <td>5</td>\n",
              "      <td>0</td>\n",
              "      <td>3</td>\n",
              "      <td>Allen, Mr. William Henry</td>\n",
              "      <td>male</td>\n",
              "      <td>35.0</td>\n",
              "      <td>0</td>\n",
              "      <td>0</td>\n",
              "      <td>373450</td>\n",
              "      <td>8.0500</td>\n",
              "      <td>NaN</td>\n",
              "      <td>S</td>\n",
              "      <td>1</td>\n",
              "    </tr>\n",
              "    <tr>\n",
              "      <th>5</th>\n",
              "      <td>6</td>\n",
              "      <td>0</td>\n",
              "      <td>3</td>\n",
              "      <td>Moran, Mr. James</td>\n",
              "      <td>male</td>\n",
              "      <td>33.0</td>\n",
              "      <td>0</td>\n",
              "      <td>0</td>\n",
              "      <td>330877</td>\n",
              "      <td>8.4583</td>\n",
              "      <td>NaN</td>\n",
              "      <td>Q</td>\n",
              "      <td>1</td>\n",
              "    </tr>\n",
              "    <tr>\n",
              "      <th>6</th>\n",
              "      <td>7</td>\n",
              "      <td>0</td>\n",
              "      <td>1</td>\n",
              "      <td>McCarthy, Mr. Timothy J</td>\n",
              "      <td>male</td>\n",
              "      <td>54.0</td>\n",
              "      <td>0</td>\n",
              "      <td>0</td>\n",
              "      <td>17463</td>\n",
              "      <td>51.8625</td>\n",
              "      <td>E46</td>\n",
              "      <td>S</td>\n",
              "      <td>1</td>\n",
              "    </tr>\n",
              "    <tr>\n",
              "      <th>7</th>\n",
              "      <td>8</td>\n",
              "      <td>0</td>\n",
              "      <td>3</td>\n",
              "      <td>Palsson, Master. Gosta Leonard</td>\n",
              "      <td>male</td>\n",
              "      <td>2.0</td>\n",
              "      <td>3</td>\n",
              "      <td>1</td>\n",
              "      <td>349909</td>\n",
              "      <td>21.0750</td>\n",
              "      <td>NaN</td>\n",
              "      <td>S</td>\n",
              "      <td>4</td>\n",
              "    </tr>\n",
              "    <tr>\n",
              "      <th>8</th>\n",
              "      <td>9</td>\n",
              "      <td>1</td>\n",
              "      <td>3</td>\n",
              "      <td>Johnson, Mrs. Oscar W (Elisabeth Vilhelmina Berg)</td>\n",
              "      <td>female</td>\n",
              "      <td>27.0</td>\n",
              "      <td>0</td>\n",
              "      <td>2</td>\n",
              "      <td>347742</td>\n",
              "      <td>11.1333</td>\n",
              "      <td>NaN</td>\n",
              "      <td>S</td>\n",
              "      <td>3</td>\n",
              "    </tr>\n",
              "    <tr>\n",
              "      <th>9</th>\n",
              "      <td>10</td>\n",
              "      <td>1</td>\n",
              "      <td>2</td>\n",
              "      <td>Nasser, Mrs. Nicholas (Adele Achem)</td>\n",
              "      <td>female</td>\n",
              "      <td>14.0</td>\n",
              "      <td>1</td>\n",
              "      <td>0</td>\n",
              "      <td>237736</td>\n",
              "      <td>30.0708</td>\n",
              "      <td>NaN</td>\n",
              "      <td>C</td>\n",
              "      <td>3</td>\n",
              "    </tr>\n",
              "    <tr>\n",
              "      <th>10</th>\n",
              "      <td>11</td>\n",
              "      <td>1</td>\n",
              "      <td>3</td>\n",
              "      <td>Sandstrom, Miss. Marguerite Rut</td>\n",
              "      <td>female</td>\n",
              "      <td>4.0</td>\n",
              "      <td>1</td>\n",
              "      <td>1</td>\n",
              "      <td>PP 9549</td>\n",
              "      <td>16.7000</td>\n",
              "      <td>G6</td>\n",
              "      <td>S</td>\n",
              "      <td>2</td>\n",
              "    </tr>\n",
              "    <tr>\n",
              "      <th>11</th>\n",
              "      <td>12</td>\n",
              "      <td>1</td>\n",
              "      <td>1</td>\n",
              "      <td>Bonnell, Miss. Elizabeth</td>\n",
              "      <td>female</td>\n",
              "      <td>58.0</td>\n",
              "      <td>0</td>\n",
              "      <td>0</td>\n",
              "      <td>113783</td>\n",
              "      <td>26.5500</td>\n",
              "      <td>C103</td>\n",
              "      <td>S</td>\n",
              "      <td>2</td>\n",
              "    </tr>\n",
              "    <tr>\n",
              "      <th>12</th>\n",
              "      <td>13</td>\n",
              "      <td>0</td>\n",
              "      <td>3</td>\n",
              "      <td>Saundercock, Mr. William Henry</td>\n",
              "      <td>male</td>\n",
              "      <td>20.0</td>\n",
              "      <td>0</td>\n",
              "      <td>0</td>\n",
              "      <td>A/5. 2151</td>\n",
              "      <td>8.0500</td>\n",
              "      <td>NaN</td>\n",
              "      <td>S</td>\n",
              "      <td>1</td>\n",
              "    </tr>\n",
              "    <tr>\n",
              "      <th>13</th>\n",
              "      <td>14</td>\n",
              "      <td>0</td>\n",
              "      <td>3</td>\n",
              "      <td>Andersson, Mr. Anders Johan</td>\n",
              "      <td>male</td>\n",
              "      <td>39.0</td>\n",
              "      <td>1</td>\n",
              "      <td>5</td>\n",
              "      <td>347082</td>\n",
              "      <td>31.2750</td>\n",
              "      <td>NaN</td>\n",
              "      <td>S</td>\n",
              "      <td>1</td>\n",
              "    </tr>\n",
              "    <tr>\n",
              "      <th>14</th>\n",
              "      <td>15</td>\n",
              "      <td>0</td>\n",
              "      <td>3</td>\n",
              "      <td>Vestrom, Miss. Hulda Amanda Adolfina</td>\n",
              "      <td>female</td>\n",
              "      <td>14.0</td>\n",
              "      <td>0</td>\n",
              "      <td>0</td>\n",
              "      <td>350406</td>\n",
              "      <td>7.8542</td>\n",
              "      <td>NaN</td>\n",
              "      <td>S</td>\n",
              "      <td>2</td>\n",
              "    </tr>\n",
              "    <tr>\n",
              "      <th>15</th>\n",
              "      <td>16</td>\n",
              "      <td>1</td>\n",
              "      <td>2</td>\n",
              "      <td>Hewlett, Mrs. (Mary D Kingcome)</td>\n",
              "      <td>female</td>\n",
              "      <td>55.0</td>\n",
              "      <td>0</td>\n",
              "      <td>0</td>\n",
              "      <td>248706</td>\n",
              "      <td>16.0000</td>\n",
              "      <td>NaN</td>\n",
              "      <td>S</td>\n",
              "      <td>3</td>\n",
              "    </tr>\n",
              "    <tr>\n",
              "      <th>16</th>\n",
              "      <td>17</td>\n",
              "      <td>0</td>\n",
              "      <td>3</td>\n",
              "      <td>Rice, Master. Eugene</td>\n",
              "      <td>male</td>\n",
              "      <td>2.0</td>\n",
              "      <td>4</td>\n",
              "      <td>1</td>\n",
              "      <td>382652</td>\n",
              "      <td>29.1250</td>\n",
              "      <td>NaN</td>\n",
              "      <td>Q</td>\n",
              "      <td>4</td>\n",
              "    </tr>\n",
              "    <tr>\n",
              "      <th>17</th>\n",
              "      <td>18</td>\n",
              "      <td>1</td>\n",
              "      <td>2</td>\n",
              "      <td>Williams, Mr. Charles Eugene</td>\n",
              "      <td>male</td>\n",
              "      <td>33.0</td>\n",
              "      <td>0</td>\n",
              "      <td>0</td>\n",
              "      <td>244373</td>\n",
              "      <td>13.0000</td>\n",
              "      <td>NaN</td>\n",
              "      <td>S</td>\n",
              "      <td>1</td>\n",
              "    </tr>\n",
              "    <tr>\n",
              "      <th>18</th>\n",
              "      <td>19</td>\n",
              "      <td>0</td>\n",
              "      <td>3</td>\n",
              "      <td>Vander Planke, Mrs. Julius (Emelia Maria Vande...</td>\n",
              "      <td>female</td>\n",
              "      <td>31.0</td>\n",
              "      <td>1</td>\n",
              "      <td>0</td>\n",
              "      <td>345763</td>\n",
              "      <td>18.0000</td>\n",
              "      <td>NaN</td>\n",
              "      <td>S</td>\n",
              "      <td>3</td>\n",
              "    </tr>\n",
              "    <tr>\n",
              "      <th>19</th>\n",
              "      <td>20</td>\n",
              "      <td>1</td>\n",
              "      <td>3</td>\n",
              "      <td>Masselmani, Mrs. Fatima</td>\n",
              "      <td>female</td>\n",
              "      <td>36.0</td>\n",
              "      <td>0</td>\n",
              "      <td>0</td>\n",
              "      <td>2649</td>\n",
              "      <td>7.2250</td>\n",
              "      <td>NaN</td>\n",
              "      <td>C</td>\n",
              "      <td>3</td>\n",
              "    </tr>\n",
              "    <tr>\n",
              "      <th>20</th>\n",
              "      <td>21</td>\n",
              "      <td>0</td>\n",
              "      <td>2</td>\n",
              "      <td>Fynney, Mr. Joseph J</td>\n",
              "      <td>male</td>\n",
              "      <td>35.0</td>\n",
              "      <td>0</td>\n",
              "      <td>0</td>\n",
              "      <td>239865</td>\n",
              "      <td>26.0000</td>\n",
              "      <td>NaN</td>\n",
              "      <td>S</td>\n",
              "      <td>1</td>\n",
              "    </tr>\n",
              "    <tr>\n",
              "      <th>21</th>\n",
              "      <td>22</td>\n",
              "      <td>1</td>\n",
              "      <td>2</td>\n",
              "      <td>Beesley, Mr. Lawrence</td>\n",
              "      <td>male</td>\n",
              "      <td>34.0</td>\n",
              "      <td>0</td>\n",
              "      <td>0</td>\n",
              "      <td>248698</td>\n",
              "      <td>13.0000</td>\n",
              "      <td>D56</td>\n",
              "      <td>S</td>\n",
              "      <td>1</td>\n",
              "    </tr>\n",
              "    <tr>\n",
              "      <th>22</th>\n",
              "      <td>23</td>\n",
              "      <td>1</td>\n",
              "      <td>3</td>\n",
              "      <td>McGowan, Miss. Anna \"Annie\"</td>\n",
              "      <td>female</td>\n",
              "      <td>15.0</td>\n",
              "      <td>0</td>\n",
              "      <td>0</td>\n",
              "      <td>330923</td>\n",
              "      <td>8.0292</td>\n",
              "      <td>NaN</td>\n",
              "      <td>Q</td>\n",
              "      <td>2</td>\n",
              "    </tr>\n",
              "    <tr>\n",
              "      <th>23</th>\n",
              "      <td>24</td>\n",
              "      <td>1</td>\n",
              "      <td>1</td>\n",
              "      <td>Sloper, Mr. William Thompson</td>\n",
              "      <td>male</td>\n",
              "      <td>28.0</td>\n",
              "      <td>0</td>\n",
              "      <td>0</td>\n",
              "      <td>113788</td>\n",
              "      <td>35.5000</td>\n",
              "      <td>A6</td>\n",
              "      <td>S</td>\n",
              "      <td>1</td>\n",
              "    </tr>\n",
              "    <tr>\n",
              "      <th>24</th>\n",
              "      <td>25</td>\n",
              "      <td>0</td>\n",
              "      <td>3</td>\n",
              "      <td>Palsson, Miss. Torborg Danira</td>\n",
              "      <td>female</td>\n",
              "      <td>8.0</td>\n",
              "      <td>3</td>\n",
              "      <td>1</td>\n",
              "      <td>349909</td>\n",
              "      <td>21.0750</td>\n",
              "      <td>NaN</td>\n",
              "      <td>S</td>\n",
              "      <td>2</td>\n",
              "    </tr>\n",
              "    <tr>\n",
              "      <th>25</th>\n",
              "      <td>26</td>\n",
              "      <td>1</td>\n",
              "      <td>3</td>\n",
              "      <td>Asplund, Mrs. Carl Oscar (Selma Augusta Emilia...</td>\n",
              "      <td>female</td>\n",
              "      <td>38.0</td>\n",
              "      <td>1</td>\n",
              "      <td>5</td>\n",
              "      <td>347077</td>\n",
              "      <td>31.3875</td>\n",
              "      <td>NaN</td>\n",
              "      <td>S</td>\n",
              "      <td>3</td>\n",
              "    </tr>\n",
              "    <tr>\n",
              "      <th>26</th>\n",
              "      <td>27</td>\n",
              "      <td>0</td>\n",
              "      <td>3</td>\n",
              "      <td>Emir, Mr. Farred Chehab</td>\n",
              "      <td>male</td>\n",
              "      <td>33.0</td>\n",
              "      <td>0</td>\n",
              "      <td>0</td>\n",
              "      <td>2631</td>\n",
              "      <td>7.2250</td>\n",
              "      <td>NaN</td>\n",
              "      <td>C</td>\n",
              "      <td>1</td>\n",
              "    </tr>\n",
              "    <tr>\n",
              "      <th>27</th>\n",
              "      <td>28</td>\n",
              "      <td>0</td>\n",
              "      <td>1</td>\n",
              "      <td>Fortune, Mr. Charles Alexander</td>\n",
              "      <td>male</td>\n",
              "      <td>19.0</td>\n",
              "      <td>3</td>\n",
              "      <td>2</td>\n",
              "      <td>19950</td>\n",
              "      <td>263.0000</td>\n",
              "      <td>C23 C25 C27</td>\n",
              "      <td>S</td>\n",
              "      <td>1</td>\n",
              "    </tr>\n",
              "    <tr>\n",
              "      <th>28</th>\n",
              "      <td>29</td>\n",
              "      <td>1</td>\n",
              "      <td>3</td>\n",
              "      <td>O'Dwyer, Miss. Ellen \"Nellie\"</td>\n",
              "      <td>female</td>\n",
              "      <td>22.0</td>\n",
              "      <td>0</td>\n",
              "      <td>0</td>\n",
              "      <td>330959</td>\n",
              "      <td>7.8792</td>\n",
              "      <td>NaN</td>\n",
              "      <td>Q</td>\n",
              "      <td>2</td>\n",
              "    </tr>\n",
              "    <tr>\n",
              "      <th>29</th>\n",
              "      <td>30</td>\n",
              "      <td>0</td>\n",
              "      <td>3</td>\n",
              "      <td>Todoroff, Mr. Lalio</td>\n",
              "      <td>male</td>\n",
              "      <td>33.0</td>\n",
              "      <td>0</td>\n",
              "      <td>0</td>\n",
              "      <td>349216</td>\n",
              "      <td>7.8958</td>\n",
              "      <td>NaN</td>\n",
              "      <td>S</td>\n",
              "      <td>1</td>\n",
              "    </tr>\n",
              "  </tbody>\n",
              "</table>\n",
              "</div>"
            ],
            "text/plain": [
              "    PassengerId  Survived  Pclass  ...        Cabin Embarked  Initial\n",
              "0             1         0       3  ...          NaN        S        1\n",
              "1             2         1       1  ...          C85        C        3\n",
              "2             3         1       3  ...          NaN        S        2\n",
              "3             4         1       1  ...         C123        S        3\n",
              "4             5         0       3  ...          NaN        S        1\n",
              "5             6         0       3  ...          NaN        Q        1\n",
              "6             7         0       1  ...          E46        S        1\n",
              "7             8         0       3  ...          NaN        S        4\n",
              "8             9         1       3  ...          NaN        S        3\n",
              "9            10         1       2  ...          NaN        C        3\n",
              "10           11         1       3  ...           G6        S        2\n",
              "11           12         1       1  ...         C103        S        2\n",
              "12           13         0       3  ...          NaN        S        1\n",
              "13           14         0       3  ...          NaN        S        1\n",
              "14           15         0       3  ...          NaN        S        2\n",
              "15           16         1       2  ...          NaN        S        3\n",
              "16           17         0       3  ...          NaN        Q        4\n",
              "17           18         1       2  ...          NaN        S        1\n",
              "18           19         0       3  ...          NaN        S        3\n",
              "19           20         1       3  ...          NaN        C        3\n",
              "20           21         0       2  ...          NaN        S        1\n",
              "21           22         1       2  ...          D56        S        1\n",
              "22           23         1       3  ...          NaN        Q        2\n",
              "23           24         1       1  ...           A6        S        1\n",
              "24           25         0       3  ...          NaN        S        2\n",
              "25           26         1       3  ...          NaN        S        3\n",
              "26           27         0       3  ...          NaN        C        1\n",
              "27           28         0       1  ...  C23 C25 C27        S        1\n",
              "28           29         1       3  ...          NaN        Q        2\n",
              "29           30         0       3  ...          NaN        S        1\n",
              "\n",
              "[30 rows x 13 columns]"
            ]
          },
          "metadata": {
            "tags": []
          },
          "execution_count": 137
        }
      ]
    },
    {
      "cell_type": "code",
      "metadata": {
        "colab": {
          "base_uri": "https://localhost:8080/"
        },
        "id": "6EuoaXS8j0l6",
        "outputId": "f051290e-731a-46af-8bfb-d5751d6837de"
      },
      "source": [
        "train['Sex'].value_counts()"
      ],
      "execution_count": 138,
      "outputs": [
        {
          "output_type": "execute_result",
          "data": {
            "text/plain": [
              "male      577\n",
              "female    314\n",
              "Name: Sex, dtype: int64"
            ]
          },
          "metadata": {
            "tags": []
          },
          "execution_count": 138
        }
      ]
    },
    {
      "cell_type": "code",
      "metadata": {
        "id": "y7ELZPySi4CD"
      },
      "source": [
        "mapping1 = {\n",
        "    'female' : 1,\n",
        "    'male' : 0\n",
        "}"
      ],
      "execution_count": 139,
      "outputs": []
    },
    {
      "cell_type": "code",
      "metadata": {
        "id": "TVTipdMQi_Jj"
      },
      "source": [
        "for data in train_test:\n",
        "  data['Sex'] = data['Sex'].map(mapping1).astype(int)"
      ],
      "execution_count": 140,
      "outputs": []
    },
    {
      "cell_type": "code",
      "metadata": {
        "colab": {
          "base_uri": "https://localhost:8080/"
        },
        "id": "PceykQ9KkPlS",
        "outputId": "10dc3232-e87e-4db1-8dbb-de50b5a51ddb"
      },
      "source": [
        "train['Sex'].value_counts()"
      ],
      "execution_count": 141,
      "outputs": [
        {
          "output_type": "execute_result",
          "data": {
            "text/plain": [
              "0    577\n",
              "1    314\n",
              "Name: Sex, dtype: int64"
            ]
          },
          "metadata": {
            "tags": []
          },
          "execution_count": 141
        }
      ]
    },
    {
      "cell_type": "code",
      "metadata": {
        "colab": {
          "base_uri": "https://localhost:8080/"
        },
        "id": "R4XmC3Iyohq4",
        "outputId": "a8f27ace-2bb4-4475-b22c-73cb9d99a826"
      },
      "source": [
        "test['Sex'].value_counts()"
      ],
      "execution_count": 142,
      "outputs": [
        {
          "output_type": "execute_result",
          "data": {
            "text/plain": [
              "0    266\n",
              "1    152\n",
              "Name: Sex, dtype: int64"
            ]
          },
          "metadata": {
            "tags": []
          },
          "execution_count": 142
        }
      ]
    },
    {
      "cell_type": "code",
      "metadata": {
        "id": "_loFd6MxonK9"
      },
      "source": [
        "for data in train_test:\n",
        "  data['Embarked'].fillna('S', inplace=True)"
      ],
      "execution_count": 143,
      "outputs": []
    },
    {
      "cell_type": "code",
      "metadata": {
        "colab": {
          "base_uri": "https://localhost:8080/"
        },
        "id": "KDsnsI2tov6H",
        "outputId": "1baae9e7-423b-4b8f-ce6f-97f3b2bbce78"
      },
      "source": [
        "print(train['Embarked'].isnull().sum())\n",
        "print(test.Embarked.isnull().sum())"
      ],
      "execution_count": 144,
      "outputs": [
        {
          "output_type": "stream",
          "text": [
            "0\n",
            "0\n"
          ],
          "name": "stdout"
        }
      ]
    },
    {
      "cell_type": "code",
      "metadata": {
        "id": "RO6Xaxbio6Nc"
      },
      "source": [
        "mapping_E = {\n",
        "    'S' : 0, \n",
        "    'C' : 1,\n",
        "    'Q' : 2\n",
        "}\n",
        "for data in train_test:\n",
        "  data['Embarked'] = data['Embarked'].map(mapping_E).astype(int)"
      ],
      "execution_count": 145,
      "outputs": []
    },
    {
      "cell_type": "code",
      "metadata": {
        "colab": {
          "base_uri": "https://localhost:8080/",
          "height": 1000
        },
        "id": "7I4Hws3_C3Pd",
        "outputId": "cca08e7c-b38b-4e90-e706-e4c0b5bbcf98"
      },
      "source": [
        "train.head(50)"
      ],
      "execution_count": 146,
      "outputs": [
        {
          "output_type": "execute_result",
          "data": {
            "text/html": [
              "<div>\n",
              "<style scoped>\n",
              "    .dataframe tbody tr th:only-of-type {\n",
              "        vertical-align: middle;\n",
              "    }\n",
              "\n",
              "    .dataframe tbody tr th {\n",
              "        vertical-align: top;\n",
              "    }\n",
              "\n",
              "    .dataframe thead th {\n",
              "        text-align: right;\n",
              "    }\n",
              "</style>\n",
              "<table border=\"1\" class=\"dataframe\">\n",
              "  <thead>\n",
              "    <tr style=\"text-align: right;\">\n",
              "      <th></th>\n",
              "      <th>PassengerId</th>\n",
              "      <th>Survived</th>\n",
              "      <th>Pclass</th>\n",
              "      <th>Name</th>\n",
              "      <th>Sex</th>\n",
              "      <th>Age</th>\n",
              "      <th>SibSp</th>\n",
              "      <th>Parch</th>\n",
              "      <th>Ticket</th>\n",
              "      <th>Fare</th>\n",
              "      <th>Cabin</th>\n",
              "      <th>Embarked</th>\n",
              "      <th>Initial</th>\n",
              "    </tr>\n",
              "  </thead>\n",
              "  <tbody>\n",
              "    <tr>\n",
              "      <th>0</th>\n",
              "      <td>1</td>\n",
              "      <td>0</td>\n",
              "      <td>3</td>\n",
              "      <td>Braund, Mr. Owen Harris</td>\n",
              "      <td>0</td>\n",
              "      <td>22.0</td>\n",
              "      <td>1</td>\n",
              "      <td>0</td>\n",
              "      <td>A/5 21171</td>\n",
              "      <td>7.2500</td>\n",
              "      <td>NaN</td>\n",
              "      <td>0</td>\n",
              "      <td>1</td>\n",
              "    </tr>\n",
              "    <tr>\n",
              "      <th>1</th>\n",
              "      <td>2</td>\n",
              "      <td>1</td>\n",
              "      <td>1</td>\n",
              "      <td>Cumings, Mrs. John Bradley (Florence Briggs Th...</td>\n",
              "      <td>1</td>\n",
              "      <td>38.0</td>\n",
              "      <td>1</td>\n",
              "      <td>0</td>\n",
              "      <td>PC 17599</td>\n",
              "      <td>71.2833</td>\n",
              "      <td>C85</td>\n",
              "      <td>1</td>\n",
              "      <td>3</td>\n",
              "    </tr>\n",
              "    <tr>\n",
              "      <th>2</th>\n",
              "      <td>3</td>\n",
              "      <td>1</td>\n",
              "      <td>3</td>\n",
              "      <td>Heikkinen, Miss. Laina</td>\n",
              "      <td>1</td>\n",
              "      <td>26.0</td>\n",
              "      <td>0</td>\n",
              "      <td>0</td>\n",
              "      <td>STON/O2. 3101282</td>\n",
              "      <td>7.9250</td>\n",
              "      <td>NaN</td>\n",
              "      <td>0</td>\n",
              "      <td>2</td>\n",
              "    </tr>\n",
              "    <tr>\n",
              "      <th>3</th>\n",
              "      <td>4</td>\n",
              "      <td>1</td>\n",
              "      <td>1</td>\n",
              "      <td>Futrelle, Mrs. Jacques Heath (Lily May Peel)</td>\n",
              "      <td>1</td>\n",
              "      <td>35.0</td>\n",
              "      <td>1</td>\n",
              "      <td>0</td>\n",
              "      <td>113803</td>\n",
              "      <td>53.1000</td>\n",
              "      <td>C123</td>\n",
              "      <td>0</td>\n",
              "      <td>3</td>\n",
              "    </tr>\n",
              "    <tr>\n",
              "      <th>4</th>\n",
              "      <td>5</td>\n",
              "      <td>0</td>\n",
              "      <td>3</td>\n",
              "      <td>Allen, Mr. William Henry</td>\n",
              "      <td>0</td>\n",
              "      <td>35.0</td>\n",
              "      <td>0</td>\n",
              "      <td>0</td>\n",
              "      <td>373450</td>\n",
              "      <td>8.0500</td>\n",
              "      <td>NaN</td>\n",
              "      <td>0</td>\n",
              "      <td>1</td>\n",
              "    </tr>\n",
              "    <tr>\n",
              "      <th>5</th>\n",
              "      <td>6</td>\n",
              "      <td>0</td>\n",
              "      <td>3</td>\n",
              "      <td>Moran, Mr. James</td>\n",
              "      <td>0</td>\n",
              "      <td>33.0</td>\n",
              "      <td>0</td>\n",
              "      <td>0</td>\n",
              "      <td>330877</td>\n",
              "      <td>8.4583</td>\n",
              "      <td>NaN</td>\n",
              "      <td>2</td>\n",
              "      <td>1</td>\n",
              "    </tr>\n",
              "    <tr>\n",
              "      <th>6</th>\n",
              "      <td>7</td>\n",
              "      <td>0</td>\n",
              "      <td>1</td>\n",
              "      <td>McCarthy, Mr. Timothy J</td>\n",
              "      <td>0</td>\n",
              "      <td>54.0</td>\n",
              "      <td>0</td>\n",
              "      <td>0</td>\n",
              "      <td>17463</td>\n",
              "      <td>51.8625</td>\n",
              "      <td>E46</td>\n",
              "      <td>0</td>\n",
              "      <td>1</td>\n",
              "    </tr>\n",
              "    <tr>\n",
              "      <th>7</th>\n",
              "      <td>8</td>\n",
              "      <td>0</td>\n",
              "      <td>3</td>\n",
              "      <td>Palsson, Master. Gosta Leonard</td>\n",
              "      <td>0</td>\n",
              "      <td>2.0</td>\n",
              "      <td>3</td>\n",
              "      <td>1</td>\n",
              "      <td>349909</td>\n",
              "      <td>21.0750</td>\n",
              "      <td>NaN</td>\n",
              "      <td>0</td>\n",
              "      <td>4</td>\n",
              "    </tr>\n",
              "    <tr>\n",
              "      <th>8</th>\n",
              "      <td>9</td>\n",
              "      <td>1</td>\n",
              "      <td>3</td>\n",
              "      <td>Johnson, Mrs. Oscar W (Elisabeth Vilhelmina Berg)</td>\n",
              "      <td>1</td>\n",
              "      <td>27.0</td>\n",
              "      <td>0</td>\n",
              "      <td>2</td>\n",
              "      <td>347742</td>\n",
              "      <td>11.1333</td>\n",
              "      <td>NaN</td>\n",
              "      <td>0</td>\n",
              "      <td>3</td>\n",
              "    </tr>\n",
              "    <tr>\n",
              "      <th>9</th>\n",
              "      <td>10</td>\n",
              "      <td>1</td>\n",
              "      <td>2</td>\n",
              "      <td>Nasser, Mrs. Nicholas (Adele Achem)</td>\n",
              "      <td>1</td>\n",
              "      <td>14.0</td>\n",
              "      <td>1</td>\n",
              "      <td>0</td>\n",
              "      <td>237736</td>\n",
              "      <td>30.0708</td>\n",
              "      <td>NaN</td>\n",
              "      <td>1</td>\n",
              "      <td>3</td>\n",
              "    </tr>\n",
              "    <tr>\n",
              "      <th>10</th>\n",
              "      <td>11</td>\n",
              "      <td>1</td>\n",
              "      <td>3</td>\n",
              "      <td>Sandstrom, Miss. Marguerite Rut</td>\n",
              "      <td>1</td>\n",
              "      <td>4.0</td>\n",
              "      <td>1</td>\n",
              "      <td>1</td>\n",
              "      <td>PP 9549</td>\n",
              "      <td>16.7000</td>\n",
              "      <td>G6</td>\n",
              "      <td>0</td>\n",
              "      <td>2</td>\n",
              "    </tr>\n",
              "    <tr>\n",
              "      <th>11</th>\n",
              "      <td>12</td>\n",
              "      <td>1</td>\n",
              "      <td>1</td>\n",
              "      <td>Bonnell, Miss. Elizabeth</td>\n",
              "      <td>1</td>\n",
              "      <td>58.0</td>\n",
              "      <td>0</td>\n",
              "      <td>0</td>\n",
              "      <td>113783</td>\n",
              "      <td>26.5500</td>\n",
              "      <td>C103</td>\n",
              "      <td>0</td>\n",
              "      <td>2</td>\n",
              "    </tr>\n",
              "    <tr>\n",
              "      <th>12</th>\n",
              "      <td>13</td>\n",
              "      <td>0</td>\n",
              "      <td>3</td>\n",
              "      <td>Saundercock, Mr. William Henry</td>\n",
              "      <td>0</td>\n",
              "      <td>20.0</td>\n",
              "      <td>0</td>\n",
              "      <td>0</td>\n",
              "      <td>A/5. 2151</td>\n",
              "      <td>8.0500</td>\n",
              "      <td>NaN</td>\n",
              "      <td>0</td>\n",
              "      <td>1</td>\n",
              "    </tr>\n",
              "    <tr>\n",
              "      <th>13</th>\n",
              "      <td>14</td>\n",
              "      <td>0</td>\n",
              "      <td>3</td>\n",
              "      <td>Andersson, Mr. Anders Johan</td>\n",
              "      <td>0</td>\n",
              "      <td>39.0</td>\n",
              "      <td>1</td>\n",
              "      <td>5</td>\n",
              "      <td>347082</td>\n",
              "      <td>31.2750</td>\n",
              "      <td>NaN</td>\n",
              "      <td>0</td>\n",
              "      <td>1</td>\n",
              "    </tr>\n",
              "    <tr>\n",
              "      <th>14</th>\n",
              "      <td>15</td>\n",
              "      <td>0</td>\n",
              "      <td>3</td>\n",
              "      <td>Vestrom, Miss. Hulda Amanda Adolfina</td>\n",
              "      <td>1</td>\n",
              "      <td>14.0</td>\n",
              "      <td>0</td>\n",
              "      <td>0</td>\n",
              "      <td>350406</td>\n",
              "      <td>7.8542</td>\n",
              "      <td>NaN</td>\n",
              "      <td>0</td>\n",
              "      <td>2</td>\n",
              "    </tr>\n",
              "    <tr>\n",
              "      <th>15</th>\n",
              "      <td>16</td>\n",
              "      <td>1</td>\n",
              "      <td>2</td>\n",
              "      <td>Hewlett, Mrs. (Mary D Kingcome)</td>\n",
              "      <td>1</td>\n",
              "      <td>55.0</td>\n",
              "      <td>0</td>\n",
              "      <td>0</td>\n",
              "      <td>248706</td>\n",
              "      <td>16.0000</td>\n",
              "      <td>NaN</td>\n",
              "      <td>0</td>\n",
              "      <td>3</td>\n",
              "    </tr>\n",
              "    <tr>\n",
              "      <th>16</th>\n",
              "      <td>17</td>\n",
              "      <td>0</td>\n",
              "      <td>3</td>\n",
              "      <td>Rice, Master. Eugene</td>\n",
              "      <td>0</td>\n",
              "      <td>2.0</td>\n",
              "      <td>4</td>\n",
              "      <td>1</td>\n",
              "      <td>382652</td>\n",
              "      <td>29.1250</td>\n",
              "      <td>NaN</td>\n",
              "      <td>2</td>\n",
              "      <td>4</td>\n",
              "    </tr>\n",
              "    <tr>\n",
              "      <th>17</th>\n",
              "      <td>18</td>\n",
              "      <td>1</td>\n",
              "      <td>2</td>\n",
              "      <td>Williams, Mr. Charles Eugene</td>\n",
              "      <td>0</td>\n",
              "      <td>33.0</td>\n",
              "      <td>0</td>\n",
              "      <td>0</td>\n",
              "      <td>244373</td>\n",
              "      <td>13.0000</td>\n",
              "      <td>NaN</td>\n",
              "      <td>0</td>\n",
              "      <td>1</td>\n",
              "    </tr>\n",
              "    <tr>\n",
              "      <th>18</th>\n",
              "      <td>19</td>\n",
              "      <td>0</td>\n",
              "      <td>3</td>\n",
              "      <td>Vander Planke, Mrs. Julius (Emelia Maria Vande...</td>\n",
              "      <td>1</td>\n",
              "      <td>31.0</td>\n",
              "      <td>1</td>\n",
              "      <td>0</td>\n",
              "      <td>345763</td>\n",
              "      <td>18.0000</td>\n",
              "      <td>NaN</td>\n",
              "      <td>0</td>\n",
              "      <td>3</td>\n",
              "    </tr>\n",
              "    <tr>\n",
              "      <th>19</th>\n",
              "      <td>20</td>\n",
              "      <td>1</td>\n",
              "      <td>3</td>\n",
              "      <td>Masselmani, Mrs. Fatima</td>\n",
              "      <td>1</td>\n",
              "      <td>36.0</td>\n",
              "      <td>0</td>\n",
              "      <td>0</td>\n",
              "      <td>2649</td>\n",
              "      <td>7.2250</td>\n",
              "      <td>NaN</td>\n",
              "      <td>1</td>\n",
              "      <td>3</td>\n",
              "    </tr>\n",
              "    <tr>\n",
              "      <th>20</th>\n",
              "      <td>21</td>\n",
              "      <td>0</td>\n",
              "      <td>2</td>\n",
              "      <td>Fynney, Mr. Joseph J</td>\n",
              "      <td>0</td>\n",
              "      <td>35.0</td>\n",
              "      <td>0</td>\n",
              "      <td>0</td>\n",
              "      <td>239865</td>\n",
              "      <td>26.0000</td>\n",
              "      <td>NaN</td>\n",
              "      <td>0</td>\n",
              "      <td>1</td>\n",
              "    </tr>\n",
              "    <tr>\n",
              "      <th>21</th>\n",
              "      <td>22</td>\n",
              "      <td>1</td>\n",
              "      <td>2</td>\n",
              "      <td>Beesley, Mr. Lawrence</td>\n",
              "      <td>0</td>\n",
              "      <td>34.0</td>\n",
              "      <td>0</td>\n",
              "      <td>0</td>\n",
              "      <td>248698</td>\n",
              "      <td>13.0000</td>\n",
              "      <td>D56</td>\n",
              "      <td>0</td>\n",
              "      <td>1</td>\n",
              "    </tr>\n",
              "    <tr>\n",
              "      <th>22</th>\n",
              "      <td>23</td>\n",
              "      <td>1</td>\n",
              "      <td>3</td>\n",
              "      <td>McGowan, Miss. Anna \"Annie\"</td>\n",
              "      <td>1</td>\n",
              "      <td>15.0</td>\n",
              "      <td>0</td>\n",
              "      <td>0</td>\n",
              "      <td>330923</td>\n",
              "      <td>8.0292</td>\n",
              "      <td>NaN</td>\n",
              "      <td>2</td>\n",
              "      <td>2</td>\n",
              "    </tr>\n",
              "    <tr>\n",
              "      <th>23</th>\n",
              "      <td>24</td>\n",
              "      <td>1</td>\n",
              "      <td>1</td>\n",
              "      <td>Sloper, Mr. William Thompson</td>\n",
              "      <td>0</td>\n",
              "      <td>28.0</td>\n",
              "      <td>0</td>\n",
              "      <td>0</td>\n",
              "      <td>113788</td>\n",
              "      <td>35.5000</td>\n",
              "      <td>A6</td>\n",
              "      <td>0</td>\n",
              "      <td>1</td>\n",
              "    </tr>\n",
              "    <tr>\n",
              "      <th>24</th>\n",
              "      <td>25</td>\n",
              "      <td>0</td>\n",
              "      <td>3</td>\n",
              "      <td>Palsson, Miss. Torborg Danira</td>\n",
              "      <td>1</td>\n",
              "      <td>8.0</td>\n",
              "      <td>3</td>\n",
              "      <td>1</td>\n",
              "      <td>349909</td>\n",
              "      <td>21.0750</td>\n",
              "      <td>NaN</td>\n",
              "      <td>0</td>\n",
              "      <td>2</td>\n",
              "    </tr>\n",
              "    <tr>\n",
              "      <th>25</th>\n",
              "      <td>26</td>\n",
              "      <td>1</td>\n",
              "      <td>3</td>\n",
              "      <td>Asplund, Mrs. Carl Oscar (Selma Augusta Emilia...</td>\n",
              "      <td>1</td>\n",
              "      <td>38.0</td>\n",
              "      <td>1</td>\n",
              "      <td>5</td>\n",
              "      <td>347077</td>\n",
              "      <td>31.3875</td>\n",
              "      <td>NaN</td>\n",
              "      <td>0</td>\n",
              "      <td>3</td>\n",
              "    </tr>\n",
              "    <tr>\n",
              "      <th>26</th>\n",
              "      <td>27</td>\n",
              "      <td>0</td>\n",
              "      <td>3</td>\n",
              "      <td>Emir, Mr. Farred Chehab</td>\n",
              "      <td>0</td>\n",
              "      <td>33.0</td>\n",
              "      <td>0</td>\n",
              "      <td>0</td>\n",
              "      <td>2631</td>\n",
              "      <td>7.2250</td>\n",
              "      <td>NaN</td>\n",
              "      <td>1</td>\n",
              "      <td>1</td>\n",
              "    </tr>\n",
              "    <tr>\n",
              "      <th>27</th>\n",
              "      <td>28</td>\n",
              "      <td>0</td>\n",
              "      <td>1</td>\n",
              "      <td>Fortune, Mr. Charles Alexander</td>\n",
              "      <td>0</td>\n",
              "      <td>19.0</td>\n",
              "      <td>3</td>\n",
              "      <td>2</td>\n",
              "      <td>19950</td>\n",
              "      <td>263.0000</td>\n",
              "      <td>C23 C25 C27</td>\n",
              "      <td>0</td>\n",
              "      <td>1</td>\n",
              "    </tr>\n",
              "    <tr>\n",
              "      <th>28</th>\n",
              "      <td>29</td>\n",
              "      <td>1</td>\n",
              "      <td>3</td>\n",
              "      <td>O'Dwyer, Miss. Ellen \"Nellie\"</td>\n",
              "      <td>1</td>\n",
              "      <td>22.0</td>\n",
              "      <td>0</td>\n",
              "      <td>0</td>\n",
              "      <td>330959</td>\n",
              "      <td>7.8792</td>\n",
              "      <td>NaN</td>\n",
              "      <td>2</td>\n",
              "      <td>2</td>\n",
              "    </tr>\n",
              "    <tr>\n",
              "      <th>29</th>\n",
              "      <td>30</td>\n",
              "      <td>0</td>\n",
              "      <td>3</td>\n",
              "      <td>Todoroff, Mr. Lalio</td>\n",
              "      <td>0</td>\n",
              "      <td>33.0</td>\n",
              "      <td>0</td>\n",
              "      <td>0</td>\n",
              "      <td>349216</td>\n",
              "      <td>7.8958</td>\n",
              "      <td>NaN</td>\n",
              "      <td>0</td>\n",
              "      <td>1</td>\n",
              "    </tr>\n",
              "    <tr>\n",
              "      <th>30</th>\n",
              "      <td>31</td>\n",
              "      <td>0</td>\n",
              "      <td>1</td>\n",
              "      <td>Uruchurtu, Don. Manuel E</td>\n",
              "      <td>0</td>\n",
              "      <td>40.0</td>\n",
              "      <td>0</td>\n",
              "      <td>0</td>\n",
              "      <td>PC 17601</td>\n",
              "      <td>27.7208</td>\n",
              "      <td>NaN</td>\n",
              "      <td>1</td>\n",
              "      <td>1</td>\n",
              "    </tr>\n",
              "    <tr>\n",
              "      <th>31</th>\n",
              "      <td>32</td>\n",
              "      <td>1</td>\n",
              "      <td>1</td>\n",
              "      <td>Spencer, Mrs. William Augustus (Marie Eugenie)</td>\n",
              "      <td>1</td>\n",
              "      <td>36.0</td>\n",
              "      <td>1</td>\n",
              "      <td>0</td>\n",
              "      <td>PC 17569</td>\n",
              "      <td>146.5208</td>\n",
              "      <td>B78</td>\n",
              "      <td>1</td>\n",
              "      <td>3</td>\n",
              "    </tr>\n",
              "    <tr>\n",
              "      <th>32</th>\n",
              "      <td>33</td>\n",
              "      <td>1</td>\n",
              "      <td>3</td>\n",
              "      <td>Glynn, Miss. Mary Agatha</td>\n",
              "      <td>1</td>\n",
              "      <td>22.0</td>\n",
              "      <td>0</td>\n",
              "      <td>0</td>\n",
              "      <td>335677</td>\n",
              "      <td>7.7500</td>\n",
              "      <td>NaN</td>\n",
              "      <td>2</td>\n",
              "      <td>2</td>\n",
              "    </tr>\n",
              "    <tr>\n",
              "      <th>33</th>\n",
              "      <td>34</td>\n",
              "      <td>0</td>\n",
              "      <td>2</td>\n",
              "      <td>Wheadon, Mr. Edward H</td>\n",
              "      <td>0</td>\n",
              "      <td>66.0</td>\n",
              "      <td>0</td>\n",
              "      <td>0</td>\n",
              "      <td>C.A. 24579</td>\n",
              "      <td>10.5000</td>\n",
              "      <td>NaN</td>\n",
              "      <td>0</td>\n",
              "      <td>1</td>\n",
              "    </tr>\n",
              "    <tr>\n",
              "      <th>34</th>\n",
              "      <td>35</td>\n",
              "      <td>0</td>\n",
              "      <td>1</td>\n",
              "      <td>Meyer, Mr. Edgar Joseph</td>\n",
              "      <td>0</td>\n",
              "      <td>28.0</td>\n",
              "      <td>1</td>\n",
              "      <td>0</td>\n",
              "      <td>PC 17604</td>\n",
              "      <td>82.1708</td>\n",
              "      <td>NaN</td>\n",
              "      <td>1</td>\n",
              "      <td>1</td>\n",
              "    </tr>\n",
              "    <tr>\n",
              "      <th>35</th>\n",
              "      <td>36</td>\n",
              "      <td>0</td>\n",
              "      <td>1</td>\n",
              "      <td>Holverson, Mr. Alexander Oskar</td>\n",
              "      <td>0</td>\n",
              "      <td>42.0</td>\n",
              "      <td>1</td>\n",
              "      <td>0</td>\n",
              "      <td>113789</td>\n",
              "      <td>52.0000</td>\n",
              "      <td>NaN</td>\n",
              "      <td>0</td>\n",
              "      <td>1</td>\n",
              "    </tr>\n",
              "    <tr>\n",
              "      <th>36</th>\n",
              "      <td>37</td>\n",
              "      <td>1</td>\n",
              "      <td>3</td>\n",
              "      <td>Mamee, Mr. Hanna</td>\n",
              "      <td>0</td>\n",
              "      <td>33.0</td>\n",
              "      <td>0</td>\n",
              "      <td>0</td>\n",
              "      <td>2677</td>\n",
              "      <td>7.2292</td>\n",
              "      <td>NaN</td>\n",
              "      <td>1</td>\n",
              "      <td>1</td>\n",
              "    </tr>\n",
              "    <tr>\n",
              "      <th>37</th>\n",
              "      <td>38</td>\n",
              "      <td>0</td>\n",
              "      <td>3</td>\n",
              "      <td>Cann, Mr. Ernest Charles</td>\n",
              "      <td>0</td>\n",
              "      <td>21.0</td>\n",
              "      <td>0</td>\n",
              "      <td>0</td>\n",
              "      <td>A./5. 2152</td>\n",
              "      <td>8.0500</td>\n",
              "      <td>NaN</td>\n",
              "      <td>0</td>\n",
              "      <td>1</td>\n",
              "    </tr>\n",
              "    <tr>\n",
              "      <th>38</th>\n",
              "      <td>39</td>\n",
              "      <td>0</td>\n",
              "      <td>3</td>\n",
              "      <td>Vander Planke, Miss. Augusta Maria</td>\n",
              "      <td>1</td>\n",
              "      <td>18.0</td>\n",
              "      <td>2</td>\n",
              "      <td>0</td>\n",
              "      <td>345764</td>\n",
              "      <td>18.0000</td>\n",
              "      <td>NaN</td>\n",
              "      <td>0</td>\n",
              "      <td>2</td>\n",
              "    </tr>\n",
              "    <tr>\n",
              "      <th>39</th>\n",
              "      <td>40</td>\n",
              "      <td>1</td>\n",
              "      <td>3</td>\n",
              "      <td>Nicola-Yarred, Miss. Jamila</td>\n",
              "      <td>1</td>\n",
              "      <td>14.0</td>\n",
              "      <td>1</td>\n",
              "      <td>0</td>\n",
              "      <td>2651</td>\n",
              "      <td>11.2417</td>\n",
              "      <td>NaN</td>\n",
              "      <td>1</td>\n",
              "      <td>2</td>\n",
              "    </tr>\n",
              "    <tr>\n",
              "      <th>40</th>\n",
              "      <td>41</td>\n",
              "      <td>0</td>\n",
              "      <td>3</td>\n",
              "      <td>Ahlin, Mrs. Johan (Johanna Persdotter Larsson)</td>\n",
              "      <td>1</td>\n",
              "      <td>40.0</td>\n",
              "      <td>1</td>\n",
              "      <td>0</td>\n",
              "      <td>7546</td>\n",
              "      <td>9.4750</td>\n",
              "      <td>NaN</td>\n",
              "      <td>0</td>\n",
              "      <td>3</td>\n",
              "    </tr>\n",
              "    <tr>\n",
              "      <th>41</th>\n",
              "      <td>42</td>\n",
              "      <td>0</td>\n",
              "      <td>2</td>\n",
              "      <td>Turpin, Mrs. William John Robert (Dorothy Ann ...</td>\n",
              "      <td>1</td>\n",
              "      <td>27.0</td>\n",
              "      <td>1</td>\n",
              "      <td>0</td>\n",
              "      <td>11668</td>\n",
              "      <td>21.0000</td>\n",
              "      <td>NaN</td>\n",
              "      <td>0</td>\n",
              "      <td>3</td>\n",
              "    </tr>\n",
              "    <tr>\n",
              "      <th>42</th>\n",
              "      <td>43</td>\n",
              "      <td>0</td>\n",
              "      <td>3</td>\n",
              "      <td>Kraeff, Mr. Theodor</td>\n",
              "      <td>0</td>\n",
              "      <td>33.0</td>\n",
              "      <td>0</td>\n",
              "      <td>0</td>\n",
              "      <td>349253</td>\n",
              "      <td>7.8958</td>\n",
              "      <td>NaN</td>\n",
              "      <td>1</td>\n",
              "      <td>1</td>\n",
              "    </tr>\n",
              "    <tr>\n",
              "      <th>43</th>\n",
              "      <td>44</td>\n",
              "      <td>1</td>\n",
              "      <td>2</td>\n",
              "      <td>Laroche, Miss. Simonne Marie Anne Andree</td>\n",
              "      <td>1</td>\n",
              "      <td>3.0</td>\n",
              "      <td>1</td>\n",
              "      <td>2</td>\n",
              "      <td>SC/Paris 2123</td>\n",
              "      <td>41.5792</td>\n",
              "      <td>NaN</td>\n",
              "      <td>1</td>\n",
              "      <td>2</td>\n",
              "    </tr>\n",
              "    <tr>\n",
              "      <th>44</th>\n",
              "      <td>45</td>\n",
              "      <td>1</td>\n",
              "      <td>3</td>\n",
              "      <td>Devaney, Miss. Margaret Delia</td>\n",
              "      <td>1</td>\n",
              "      <td>19.0</td>\n",
              "      <td>0</td>\n",
              "      <td>0</td>\n",
              "      <td>330958</td>\n",
              "      <td>7.8792</td>\n",
              "      <td>NaN</td>\n",
              "      <td>2</td>\n",
              "      <td>2</td>\n",
              "    </tr>\n",
              "    <tr>\n",
              "      <th>45</th>\n",
              "      <td>46</td>\n",
              "      <td>0</td>\n",
              "      <td>3</td>\n",
              "      <td>Rogers, Mr. William John</td>\n",
              "      <td>0</td>\n",
              "      <td>33.0</td>\n",
              "      <td>0</td>\n",
              "      <td>0</td>\n",
              "      <td>S.C./A.4. 23567</td>\n",
              "      <td>8.0500</td>\n",
              "      <td>NaN</td>\n",
              "      <td>0</td>\n",
              "      <td>1</td>\n",
              "    </tr>\n",
              "    <tr>\n",
              "      <th>46</th>\n",
              "      <td>47</td>\n",
              "      <td>0</td>\n",
              "      <td>3</td>\n",
              "      <td>Lennon, Mr. Denis</td>\n",
              "      <td>0</td>\n",
              "      <td>33.0</td>\n",
              "      <td>1</td>\n",
              "      <td>0</td>\n",
              "      <td>370371</td>\n",
              "      <td>15.5000</td>\n",
              "      <td>NaN</td>\n",
              "      <td>2</td>\n",
              "      <td>1</td>\n",
              "    </tr>\n",
              "    <tr>\n",
              "      <th>47</th>\n",
              "      <td>48</td>\n",
              "      <td>1</td>\n",
              "      <td>3</td>\n",
              "      <td>O'Driscoll, Miss. Bridget</td>\n",
              "      <td>1</td>\n",
              "      <td>22.0</td>\n",
              "      <td>0</td>\n",
              "      <td>0</td>\n",
              "      <td>14311</td>\n",
              "      <td>7.7500</td>\n",
              "      <td>NaN</td>\n",
              "      <td>2</td>\n",
              "      <td>2</td>\n",
              "    </tr>\n",
              "    <tr>\n",
              "      <th>48</th>\n",
              "      <td>49</td>\n",
              "      <td>0</td>\n",
              "      <td>3</td>\n",
              "      <td>Samaan, Mr. Youssef</td>\n",
              "      <td>0</td>\n",
              "      <td>33.0</td>\n",
              "      <td>2</td>\n",
              "      <td>0</td>\n",
              "      <td>2662</td>\n",
              "      <td>21.6792</td>\n",
              "      <td>NaN</td>\n",
              "      <td>1</td>\n",
              "      <td>1</td>\n",
              "    </tr>\n",
              "    <tr>\n",
              "      <th>49</th>\n",
              "      <td>50</td>\n",
              "      <td>0</td>\n",
              "      <td>3</td>\n",
              "      <td>Arnold-Franchi, Mrs. Josef (Josefine Franchi)</td>\n",
              "      <td>1</td>\n",
              "      <td>18.0</td>\n",
              "      <td>1</td>\n",
              "      <td>0</td>\n",
              "      <td>349237</td>\n",
              "      <td>17.8000</td>\n",
              "      <td>NaN</td>\n",
              "      <td>0</td>\n",
              "      <td>3</td>\n",
              "    </tr>\n",
              "  </tbody>\n",
              "</table>\n",
              "</div>"
            ],
            "text/plain": [
              "    PassengerId  Survived  Pclass  ...        Cabin  Embarked  Initial\n",
              "0             1         0       3  ...          NaN         0        1\n",
              "1             2         1       1  ...          C85         1        3\n",
              "2             3         1       3  ...          NaN         0        2\n",
              "3             4         1       1  ...         C123         0        3\n",
              "4             5         0       3  ...          NaN         0        1\n",
              "5             6         0       3  ...          NaN         2        1\n",
              "6             7         0       1  ...          E46         0        1\n",
              "7             8         0       3  ...          NaN         0        4\n",
              "8             9         1       3  ...          NaN         0        3\n",
              "9            10         1       2  ...          NaN         1        3\n",
              "10           11         1       3  ...           G6         0        2\n",
              "11           12         1       1  ...         C103         0        2\n",
              "12           13         0       3  ...          NaN         0        1\n",
              "13           14         0       3  ...          NaN         0        1\n",
              "14           15         0       3  ...          NaN         0        2\n",
              "15           16         1       2  ...          NaN         0        3\n",
              "16           17         0       3  ...          NaN         2        4\n",
              "17           18         1       2  ...          NaN         0        1\n",
              "18           19         0       3  ...          NaN         0        3\n",
              "19           20         1       3  ...          NaN         1        3\n",
              "20           21         0       2  ...          NaN         0        1\n",
              "21           22         1       2  ...          D56         0        1\n",
              "22           23         1       3  ...          NaN         2        2\n",
              "23           24         1       1  ...           A6         0        1\n",
              "24           25         0       3  ...          NaN         0        2\n",
              "25           26         1       3  ...          NaN         0        3\n",
              "26           27         0       3  ...          NaN         1        1\n",
              "27           28         0       1  ...  C23 C25 C27         0        1\n",
              "28           29         1       3  ...          NaN         2        2\n",
              "29           30         0       3  ...          NaN         0        1\n",
              "30           31         0       1  ...          NaN         1        1\n",
              "31           32         1       1  ...          B78         1        3\n",
              "32           33         1       3  ...          NaN         2        2\n",
              "33           34         0       2  ...          NaN         0        1\n",
              "34           35         0       1  ...          NaN         1        1\n",
              "35           36         0       1  ...          NaN         0        1\n",
              "36           37         1       3  ...          NaN         1        1\n",
              "37           38         0       3  ...          NaN         0        1\n",
              "38           39         0       3  ...          NaN         0        2\n",
              "39           40         1       3  ...          NaN         1        2\n",
              "40           41         0       3  ...          NaN         0        3\n",
              "41           42         0       2  ...          NaN         0        3\n",
              "42           43         0       3  ...          NaN         1        1\n",
              "43           44         1       2  ...          NaN         1        2\n",
              "44           45         1       3  ...          NaN         2        2\n",
              "45           46         0       3  ...          NaN         0        1\n",
              "46           47         0       3  ...          NaN         2        1\n",
              "47           48         1       3  ...          NaN         2        2\n",
              "48           49         0       3  ...          NaN         1        1\n",
              "49           50         0       3  ...          NaN         0        3\n",
              "\n",
              "[50 rows x 13 columns]"
            ]
          },
          "metadata": {
            "tags": []
          },
          "execution_count": 146
        }
      ]
    },
    {
      "cell_type": "code",
      "metadata": {
        "id": "fO_hv-CAFpvW"
      },
      "source": [
        "for data in train_test:\n",
        "  data.loc[data['Age'] <= 16, 'Age'] = 0\n",
        "  data.loc[(data['Age'] > 16) & (data['Age'] <= 32), 'Age'] = 1\n",
        "  data.loc[(data['Age'] > 32) & (data['Age'] <= 48), 'Age'] = 2\n",
        "  data.loc[(data['Age'] > 48) & (data['Age'] <= 64), 'Age'] = 3\n",
        "  data.loc[data['Age'] > 64, 'Age'] = 4"
      ],
      "execution_count": 147,
      "outputs": []
    },
    {
      "cell_type": "code",
      "metadata": {
        "colab": {
          "base_uri": "https://localhost:8080/",
          "height": 481
        },
        "id": "05F316f8GP1U",
        "outputId": "16ec3054-fb61-4871-b98f-9dbb25713e96"
      },
      "source": [
        "train.head(10)"
      ],
      "execution_count": 148,
      "outputs": [
        {
          "output_type": "execute_result",
          "data": {
            "text/html": [
              "<div>\n",
              "<style scoped>\n",
              "    .dataframe tbody tr th:only-of-type {\n",
              "        vertical-align: middle;\n",
              "    }\n",
              "\n",
              "    .dataframe tbody tr th {\n",
              "        vertical-align: top;\n",
              "    }\n",
              "\n",
              "    .dataframe thead th {\n",
              "        text-align: right;\n",
              "    }\n",
              "</style>\n",
              "<table border=\"1\" class=\"dataframe\">\n",
              "  <thead>\n",
              "    <tr style=\"text-align: right;\">\n",
              "      <th></th>\n",
              "      <th>PassengerId</th>\n",
              "      <th>Survived</th>\n",
              "      <th>Pclass</th>\n",
              "      <th>Name</th>\n",
              "      <th>Sex</th>\n",
              "      <th>Age</th>\n",
              "      <th>SibSp</th>\n",
              "      <th>Parch</th>\n",
              "      <th>Ticket</th>\n",
              "      <th>Fare</th>\n",
              "      <th>Cabin</th>\n",
              "      <th>Embarked</th>\n",
              "      <th>Initial</th>\n",
              "    </tr>\n",
              "  </thead>\n",
              "  <tbody>\n",
              "    <tr>\n",
              "      <th>0</th>\n",
              "      <td>1</td>\n",
              "      <td>0</td>\n",
              "      <td>3</td>\n",
              "      <td>Braund, Mr. Owen Harris</td>\n",
              "      <td>0</td>\n",
              "      <td>1.0</td>\n",
              "      <td>1</td>\n",
              "      <td>0</td>\n",
              "      <td>A/5 21171</td>\n",
              "      <td>7.2500</td>\n",
              "      <td>NaN</td>\n",
              "      <td>0</td>\n",
              "      <td>1</td>\n",
              "    </tr>\n",
              "    <tr>\n",
              "      <th>1</th>\n",
              "      <td>2</td>\n",
              "      <td>1</td>\n",
              "      <td>1</td>\n",
              "      <td>Cumings, Mrs. John Bradley (Florence Briggs Th...</td>\n",
              "      <td>1</td>\n",
              "      <td>2.0</td>\n",
              "      <td>1</td>\n",
              "      <td>0</td>\n",
              "      <td>PC 17599</td>\n",
              "      <td>71.2833</td>\n",
              "      <td>C85</td>\n",
              "      <td>1</td>\n",
              "      <td>3</td>\n",
              "    </tr>\n",
              "    <tr>\n",
              "      <th>2</th>\n",
              "      <td>3</td>\n",
              "      <td>1</td>\n",
              "      <td>3</td>\n",
              "      <td>Heikkinen, Miss. Laina</td>\n",
              "      <td>1</td>\n",
              "      <td>1.0</td>\n",
              "      <td>0</td>\n",
              "      <td>0</td>\n",
              "      <td>STON/O2. 3101282</td>\n",
              "      <td>7.9250</td>\n",
              "      <td>NaN</td>\n",
              "      <td>0</td>\n",
              "      <td>2</td>\n",
              "    </tr>\n",
              "    <tr>\n",
              "      <th>3</th>\n",
              "      <td>4</td>\n",
              "      <td>1</td>\n",
              "      <td>1</td>\n",
              "      <td>Futrelle, Mrs. Jacques Heath (Lily May Peel)</td>\n",
              "      <td>1</td>\n",
              "      <td>2.0</td>\n",
              "      <td>1</td>\n",
              "      <td>0</td>\n",
              "      <td>113803</td>\n",
              "      <td>53.1000</td>\n",
              "      <td>C123</td>\n",
              "      <td>0</td>\n",
              "      <td>3</td>\n",
              "    </tr>\n",
              "    <tr>\n",
              "      <th>4</th>\n",
              "      <td>5</td>\n",
              "      <td>0</td>\n",
              "      <td>3</td>\n",
              "      <td>Allen, Mr. William Henry</td>\n",
              "      <td>0</td>\n",
              "      <td>2.0</td>\n",
              "      <td>0</td>\n",
              "      <td>0</td>\n",
              "      <td>373450</td>\n",
              "      <td>8.0500</td>\n",
              "      <td>NaN</td>\n",
              "      <td>0</td>\n",
              "      <td>1</td>\n",
              "    </tr>\n",
              "    <tr>\n",
              "      <th>5</th>\n",
              "      <td>6</td>\n",
              "      <td>0</td>\n",
              "      <td>3</td>\n",
              "      <td>Moran, Mr. James</td>\n",
              "      <td>0</td>\n",
              "      <td>2.0</td>\n",
              "      <td>0</td>\n",
              "      <td>0</td>\n",
              "      <td>330877</td>\n",
              "      <td>8.4583</td>\n",
              "      <td>NaN</td>\n",
              "      <td>2</td>\n",
              "      <td>1</td>\n",
              "    </tr>\n",
              "    <tr>\n",
              "      <th>6</th>\n",
              "      <td>7</td>\n",
              "      <td>0</td>\n",
              "      <td>1</td>\n",
              "      <td>McCarthy, Mr. Timothy J</td>\n",
              "      <td>0</td>\n",
              "      <td>3.0</td>\n",
              "      <td>0</td>\n",
              "      <td>0</td>\n",
              "      <td>17463</td>\n",
              "      <td>51.8625</td>\n",
              "      <td>E46</td>\n",
              "      <td>0</td>\n",
              "      <td>1</td>\n",
              "    </tr>\n",
              "    <tr>\n",
              "      <th>7</th>\n",
              "      <td>8</td>\n",
              "      <td>0</td>\n",
              "      <td>3</td>\n",
              "      <td>Palsson, Master. Gosta Leonard</td>\n",
              "      <td>0</td>\n",
              "      <td>0.0</td>\n",
              "      <td>3</td>\n",
              "      <td>1</td>\n",
              "      <td>349909</td>\n",
              "      <td>21.0750</td>\n",
              "      <td>NaN</td>\n",
              "      <td>0</td>\n",
              "      <td>4</td>\n",
              "    </tr>\n",
              "    <tr>\n",
              "      <th>8</th>\n",
              "      <td>9</td>\n",
              "      <td>1</td>\n",
              "      <td>3</td>\n",
              "      <td>Johnson, Mrs. Oscar W (Elisabeth Vilhelmina Berg)</td>\n",
              "      <td>1</td>\n",
              "      <td>1.0</td>\n",
              "      <td>0</td>\n",
              "      <td>2</td>\n",
              "      <td>347742</td>\n",
              "      <td>11.1333</td>\n",
              "      <td>NaN</td>\n",
              "      <td>0</td>\n",
              "      <td>3</td>\n",
              "    </tr>\n",
              "    <tr>\n",
              "      <th>9</th>\n",
              "      <td>10</td>\n",
              "      <td>1</td>\n",
              "      <td>2</td>\n",
              "      <td>Nasser, Mrs. Nicholas (Adele Achem)</td>\n",
              "      <td>1</td>\n",
              "      <td>0.0</td>\n",
              "      <td>1</td>\n",
              "      <td>0</td>\n",
              "      <td>237736</td>\n",
              "      <td>30.0708</td>\n",
              "      <td>NaN</td>\n",
              "      <td>1</td>\n",
              "      <td>3</td>\n",
              "    </tr>\n",
              "  </tbody>\n",
              "</table>\n",
              "</div>"
            ],
            "text/plain": [
              "   PassengerId  Survived  Pclass  ... Cabin  Embarked  Initial\n",
              "0            1         0       3  ...   NaN         0        1\n",
              "1            2         1       1  ...   C85         1        3\n",
              "2            3         1       3  ...   NaN         0        2\n",
              "3            4         1       1  ...  C123         0        3\n",
              "4            5         0       3  ...   NaN         0        1\n",
              "5            6         0       3  ...   NaN         2        1\n",
              "6            7         0       1  ...   E46         0        1\n",
              "7            8         0       3  ...   NaN         0        4\n",
              "8            9         1       3  ...   NaN         0        3\n",
              "9           10         1       2  ...   NaN         1        3\n",
              "\n",
              "[10 rows x 13 columns]"
            ]
          },
          "metadata": {
            "tags": []
          },
          "execution_count": 148
        }
      ]
    },
    {
      "cell_type": "code",
      "metadata": {
        "colab": {
          "base_uri": "https://localhost:8080/"
        },
        "id": "P5oRCC8cGUz6",
        "outputId": "dbe7ede3-1d29-4669-e8b4-49b43a89c05f"
      },
      "source": [
        "print(train['Age'].unique())\n",
        "print(test['Age'].unique())"
      ],
      "execution_count": 149,
      "outputs": [
        {
          "output_type": "stream",
          "text": [
            "[1. 2. 3. 0. 4.]\n",
            "[2. 3. 1. 0. 4.]\n"
          ],
          "name": "stdout"
        }
      ]
    },
    {
      "cell_type": "code",
      "metadata": {
        "id": "QtXE_iaiGgQP"
      },
      "source": [
        "train['Age'] = train['Age'].astype(int)\n",
        "test['Age'] = test['Age'].astype(int)"
      ],
      "execution_count": 150,
      "outputs": []
    },
    {
      "cell_type": "code",
      "metadata": {
        "colab": {
          "base_uri": "https://localhost:8080/"
        },
        "id": "d88t_xylGnKs",
        "outputId": "6bc9847c-4016-4d4f-952c-d3b7d03ecd4e"
      },
      "source": [
        "print(train['Fare'].isnull().sum())\n",
        "print(test['Fare'].isnull().sum())"
      ],
      "execution_count": 151,
      "outputs": [
        {
          "output_type": "stream",
          "text": [
            "0\n",
            "1\n"
          ],
          "name": "stdout"
        }
      ]
    },
    {
      "cell_type": "code",
      "metadata": {
        "id": "XSn6JW69GvTP"
      },
      "source": [
        "for data in train_test:\n",
        "  data['Fare'].fillna(train['Fare'].median(), inplace=True)"
      ],
      "execution_count": 152,
      "outputs": []
    },
    {
      "cell_type": "code",
      "metadata": {
        "id": "AT0qDHVOG5JD"
      },
      "source": [
        "#pd.qcut = 동일 개수로 나누어 범주를 만든후에 그룹별로 통계량 구하기\n",
        "#pd.cut = 동일 길이로 나누어 범주를 만든후에 그룹별로 통계량 구하기\n",
        "train['FareBand'] = pd.qcut(train['Fare'],4)"
      ],
      "execution_count": 153,
      "outputs": []
    },
    {
      "cell_type": "code",
      "metadata": {
        "colab": {
          "base_uri": "https://localhost:8080/",
          "height": 108
        },
        "id": "006muwHmG_3N",
        "outputId": "c2a96dc6-76f3-4f0f-bfdf-e0f77e0ca158"
      },
      "source": [
        "#to_frame() 파라미터로 컬럼명 지정to_frame() 파라미터로 컬럼명 지정\n",
        "train.groupby(['FareBand'])['Survived'].mean().to_frame('').style.background_gradient('winter')"
      ],
      "execution_count": 154,
      "outputs": [
        {
          "output_type": "execute_result",
          "data": {
            "text/html": [
              "<style  type=\"text/css\" >\n",
              "#T_256b6a94_98f9_11eb_90ef_0242ac1c0002row0_col0{\n",
              "            background-color:  #0000ff;\n",
              "            color:  #f1f1f1;\n",
              "        }#T_256b6a94_98f9_11eb_90ef_0242ac1c0002row1_col0{\n",
              "            background-color:  #0046dc;\n",
              "            color:  #f1f1f1;\n",
              "        }#T_256b6a94_98f9_11eb_90ef_0242ac1c0002row2_col0{\n",
              "            background-color:  #00abaa;\n",
              "            color:  #000000;\n",
              "        }#T_256b6a94_98f9_11eb_90ef_0242ac1c0002row3_col0{\n",
              "            background-color:  #00ff80;\n",
              "            color:  #000000;\n",
              "        }</style><table id=\"T_256b6a94_98f9_11eb_90ef_0242ac1c0002\" ><thead>    <tr>        <th class=\"blank level0\" ></th>        <th class=\"col_heading level0 col0\" ></th>    </tr>    <tr>        <th class=\"index_name level0\" >FareBand</th>        <th class=\"blank\" ></th>    </tr></thead><tbody>\n",
              "                <tr>\n",
              "                        <th id=\"T_256b6a94_98f9_11eb_90ef_0242ac1c0002level0_row0\" class=\"row_heading level0 row0\" >(-0.001, 7.91]</th>\n",
              "                        <td id=\"T_256b6a94_98f9_11eb_90ef_0242ac1c0002row0_col0\" class=\"data row0 col0\" >0.197309</td>\n",
              "            </tr>\n",
              "            <tr>\n",
              "                        <th id=\"T_256b6a94_98f9_11eb_90ef_0242ac1c0002level0_row1\" class=\"row_heading level0 row1\" >(7.91, 14.454]</th>\n",
              "                        <td id=\"T_256b6a94_98f9_11eb_90ef_0242ac1c0002row1_col0\" class=\"data row1 col0\" >0.303571</td>\n",
              "            </tr>\n",
              "            <tr>\n",
              "                        <th id=\"T_256b6a94_98f9_11eb_90ef_0242ac1c0002level0_row2\" class=\"row_heading level0 row2\" >(14.454, 31.0]</th>\n",
              "                        <td id=\"T_256b6a94_98f9_11eb_90ef_0242ac1c0002row2_col0\" class=\"data row2 col0\" >0.454955</td>\n",
              "            </tr>\n",
              "            <tr>\n",
              "                        <th id=\"T_256b6a94_98f9_11eb_90ef_0242ac1c0002level0_row3\" class=\"row_heading level0 row3\" >(31.0, 512.329]</th>\n",
              "                        <td id=\"T_256b6a94_98f9_11eb_90ef_0242ac1c0002row3_col0\" class=\"data row3 col0\" >0.581081</td>\n",
              "            </tr>\n",
              "    </tbody></table>"
            ],
            "text/plain": [
              "<pandas.io.formats.style.Styler at 0x7f82626e9c90>"
            ]
          },
          "metadata": {
            "tags": []
          },
          "execution_count": 154
        }
      ]
    },
    {
      "cell_type": "code",
      "metadata": {
        "id": "I_tA87SBIdlE"
      },
      "source": [
        "for data in train_test:\n",
        "  data.loc[data['Fare'] <= 7.91, 'Fare'] = 0\n",
        "  data.loc[(data['Fare'] > 7.91) & (data['Fare'] <= 14.454), 'Fare'] = 1\n",
        "  data.loc[(data['Fare'] > 14.454) & (data['Fare'] <= 31), 'Fare'] = 2\n",
        "  data.loc[data['Fare'] > 31, 'Fare'] = 3"
      ],
      "execution_count": 155,
      "outputs": []
    },
    {
      "cell_type": "code",
      "metadata": {
        "id": "Oiq4r0RyKgfm"
      },
      "source": [
        "train['Fare'] = train['Fare'].astype(int)\n",
        "test['Fare'] = test['Fare'].astype(int)"
      ],
      "execution_count": 156,
      "outputs": []
    },
    {
      "cell_type": "code",
      "metadata": {
        "colab": {
          "base_uri": "https://localhost:8080/"
        },
        "id": "IA6GAiSlKoUb",
        "outputId": "880b0d82-15c9-4d5c-d11c-ba8172016189"
      },
      "source": [
        "print(train['Fare'].unique())\n",
        "print(test['Fare'].unique())"
      ],
      "execution_count": 157,
      "outputs": [
        {
          "output_type": "stream",
          "text": [
            "[0 3 1 2]\n",
            "[0 1 2 3]\n"
          ],
          "name": "stdout"
        }
      ]
    },
    {
      "cell_type": "code",
      "metadata": {
        "id": "ZDRJvGceKvNO"
      },
      "source": [
        "for data in train_test:\n",
        "  data['Family'] = data['SibSp'] + data['Parch']"
      ],
      "execution_count": 158,
      "outputs": []
    },
    {
      "cell_type": "code",
      "metadata": {
        "colab": {
          "base_uri": "https://localhost:8080/",
          "height": 347
        },
        "id": "wuXHONIkLCJQ",
        "outputId": "af38a85b-fae0-4f36-9ec0-a417a78273a1"
      },
      "source": [
        "  train[['Family', 'Survived']].groupby('Family').mean()"
      ],
      "execution_count": 159,
      "outputs": [
        {
          "output_type": "execute_result",
          "data": {
            "text/html": [
              "<div>\n",
              "<style scoped>\n",
              "    .dataframe tbody tr th:only-of-type {\n",
              "        vertical-align: middle;\n",
              "    }\n",
              "\n",
              "    .dataframe tbody tr th {\n",
              "        vertical-align: top;\n",
              "    }\n",
              "\n",
              "    .dataframe thead th {\n",
              "        text-align: right;\n",
              "    }\n",
              "</style>\n",
              "<table border=\"1\" class=\"dataframe\">\n",
              "  <thead>\n",
              "    <tr style=\"text-align: right;\">\n",
              "      <th></th>\n",
              "      <th>Survived</th>\n",
              "    </tr>\n",
              "    <tr>\n",
              "      <th>Family</th>\n",
              "      <th></th>\n",
              "    </tr>\n",
              "  </thead>\n",
              "  <tbody>\n",
              "    <tr>\n",
              "      <th>0</th>\n",
              "      <td>0.303538</td>\n",
              "    </tr>\n",
              "    <tr>\n",
              "      <th>1</th>\n",
              "      <td>0.552795</td>\n",
              "    </tr>\n",
              "    <tr>\n",
              "      <th>2</th>\n",
              "      <td>0.578431</td>\n",
              "    </tr>\n",
              "    <tr>\n",
              "      <th>3</th>\n",
              "      <td>0.724138</td>\n",
              "    </tr>\n",
              "    <tr>\n",
              "      <th>4</th>\n",
              "      <td>0.200000</td>\n",
              "    </tr>\n",
              "    <tr>\n",
              "      <th>5</th>\n",
              "      <td>0.136364</td>\n",
              "    </tr>\n",
              "    <tr>\n",
              "      <th>6</th>\n",
              "      <td>0.333333</td>\n",
              "    </tr>\n",
              "    <tr>\n",
              "      <th>7</th>\n",
              "      <td>0.000000</td>\n",
              "    </tr>\n",
              "    <tr>\n",
              "      <th>10</th>\n",
              "      <td>0.000000</td>\n",
              "    </tr>\n",
              "  </tbody>\n",
              "</table>\n",
              "</div>"
            ],
            "text/plain": [
              "        Survived\n",
              "Family          \n",
              "0       0.303538\n",
              "1       0.552795\n",
              "2       0.578431\n",
              "3       0.724138\n",
              "4       0.200000\n",
              "5       0.136364\n",
              "6       0.333333\n",
              "7       0.000000\n",
              "10      0.000000"
            ]
          },
          "metadata": {
            "tags": []
          },
          "execution_count": 159
        }
      ]
    },
    {
      "cell_type": "code",
      "metadata": {
        "id": "cPT3-7MBMkkG"
      },
      "source": [
        "for data in train_test:\n",
        "  data.loc[data['Family'] == 0,'Family'] = 0\n",
        "  data.loc[(data['Family'] >= 1) & (data['Family'] < 4 ), 'Family'] = 1\n",
        "  data.loc[(data['Family'] >= 4) & (data['Family'] < 7 ), 'Family'] = 2\n",
        "  data.loc[(data['Family'] >= 7) ,'Family'] = 3"
      ],
      "execution_count": 160,
      "outputs": []
    },
    {
      "cell_type": "code",
      "metadata": {
        "colab": {
          "base_uri": "https://localhost:8080/"
        },
        "id": "bWffYHiRNDVO",
        "outputId": "951cc8c0-12a9-4b08-be3e-87ec0783f8f2"
      },
      "source": [
        "train.Family.unique()"
      ],
      "execution_count": 161,
      "outputs": [
        {
          "output_type": "execute_result",
          "data": {
            "text/plain": [
              "array([1, 0, 2, 3])"
            ]
          },
          "metadata": {
            "tags": []
          },
          "execution_count": 161
        }
      ]
    },
    {
      "cell_type": "code",
      "metadata": {
        "colab": {
          "base_uri": "https://localhost:8080/",
          "height": 197
        },
        "id": "ld-huXW7OiKW",
        "outputId": "17155945-c2f6-411b-c4a9-dc524fa867f7"
      },
      "source": [
        "train[['Family','Survived']].groupby(['Family']).mean()"
      ],
      "execution_count": 162,
      "outputs": [
        {
          "output_type": "execute_result",
          "data": {
            "text/html": [
              "<div>\n",
              "<style scoped>\n",
              "    .dataframe tbody tr th:only-of-type {\n",
              "        vertical-align: middle;\n",
              "    }\n",
              "\n",
              "    .dataframe tbody tr th {\n",
              "        vertical-align: top;\n",
              "    }\n",
              "\n",
              "    .dataframe thead th {\n",
              "        text-align: right;\n",
              "    }\n",
              "</style>\n",
              "<table border=\"1\" class=\"dataframe\">\n",
              "  <thead>\n",
              "    <tr style=\"text-align: right;\">\n",
              "      <th></th>\n",
              "      <th>Survived</th>\n",
              "    </tr>\n",
              "    <tr>\n",
              "      <th>Family</th>\n",
              "      <th></th>\n",
              "    </tr>\n",
              "  </thead>\n",
              "  <tbody>\n",
              "    <tr>\n",
              "      <th>0</th>\n",
              "      <td>0.303538</td>\n",
              "    </tr>\n",
              "    <tr>\n",
              "      <th>1</th>\n",
              "      <td>0.578767</td>\n",
              "    </tr>\n",
              "    <tr>\n",
              "      <th>2</th>\n",
              "      <td>0.204082</td>\n",
              "    </tr>\n",
              "    <tr>\n",
              "      <th>3</th>\n",
              "      <td>0.000000</td>\n",
              "    </tr>\n",
              "  </tbody>\n",
              "</table>\n",
              "</div>"
            ],
            "text/plain": [
              "        Survived\n",
              "Family          \n",
              "0       0.303538\n",
              "1       0.578767\n",
              "2       0.204082\n",
              "3       0.000000"
            ]
          },
          "metadata": {
            "tags": []
          },
          "execution_count": 162
        }
      ]
    },
    {
      "cell_type": "code",
      "metadata": {
        "id": "IvqkV1KtLOfL"
      },
      "source": [
        "drop_list = [ 'Name', 'SibSp', 'Parch', 'Ticket', 'Cabin' ]\n",
        "train = train.drop(drop_list, axis=1)\n",
        "test = test.drop(drop_list, axis=1)"
      ],
      "execution_count": 163,
      "outputs": []
    },
    {
      "cell_type": "code",
      "metadata": {
        "id": "Wi0bW-9EOsSR"
      },
      "source": [
        "train = train.drop(['PassengerId','FareBand'], axis= 1)"
      ],
      "execution_count": 164,
      "outputs": []
    },
    {
      "cell_type": "code",
      "metadata": {
        "colab": {
          "base_uri": "https://localhost:8080/",
          "height": 197
        },
        "id": "jCfEduTCOzDk",
        "outputId": "4108577e-3759-4814-98fb-eb36ae3c87a6"
      },
      "source": [
        "train.head()"
      ],
      "execution_count": 165,
      "outputs": [
        {
          "output_type": "execute_result",
          "data": {
            "text/html": [
              "<div>\n",
              "<style scoped>\n",
              "    .dataframe tbody tr th:only-of-type {\n",
              "        vertical-align: middle;\n",
              "    }\n",
              "\n",
              "    .dataframe tbody tr th {\n",
              "        vertical-align: top;\n",
              "    }\n",
              "\n",
              "    .dataframe thead th {\n",
              "        text-align: right;\n",
              "    }\n",
              "</style>\n",
              "<table border=\"1\" class=\"dataframe\">\n",
              "  <thead>\n",
              "    <tr style=\"text-align: right;\">\n",
              "      <th></th>\n",
              "      <th>Survived</th>\n",
              "      <th>Pclass</th>\n",
              "      <th>Sex</th>\n",
              "      <th>Age</th>\n",
              "      <th>Fare</th>\n",
              "      <th>Embarked</th>\n",
              "      <th>Initial</th>\n",
              "      <th>Family</th>\n",
              "    </tr>\n",
              "  </thead>\n",
              "  <tbody>\n",
              "    <tr>\n",
              "      <th>0</th>\n",
              "      <td>0</td>\n",
              "      <td>3</td>\n",
              "      <td>0</td>\n",
              "      <td>1</td>\n",
              "      <td>0</td>\n",
              "      <td>0</td>\n",
              "      <td>1</td>\n",
              "      <td>1</td>\n",
              "    </tr>\n",
              "    <tr>\n",
              "      <th>1</th>\n",
              "      <td>1</td>\n",
              "      <td>1</td>\n",
              "      <td>1</td>\n",
              "      <td>2</td>\n",
              "      <td>3</td>\n",
              "      <td>1</td>\n",
              "      <td>3</td>\n",
              "      <td>1</td>\n",
              "    </tr>\n",
              "    <tr>\n",
              "      <th>2</th>\n",
              "      <td>1</td>\n",
              "      <td>3</td>\n",
              "      <td>1</td>\n",
              "      <td>1</td>\n",
              "      <td>1</td>\n",
              "      <td>0</td>\n",
              "      <td>2</td>\n",
              "      <td>0</td>\n",
              "    </tr>\n",
              "    <tr>\n",
              "      <th>3</th>\n",
              "      <td>1</td>\n",
              "      <td>1</td>\n",
              "      <td>1</td>\n",
              "      <td>2</td>\n",
              "      <td>3</td>\n",
              "      <td>0</td>\n",
              "      <td>3</td>\n",
              "      <td>1</td>\n",
              "    </tr>\n",
              "    <tr>\n",
              "      <th>4</th>\n",
              "      <td>0</td>\n",
              "      <td>3</td>\n",
              "      <td>0</td>\n",
              "      <td>2</td>\n",
              "      <td>1</td>\n",
              "      <td>0</td>\n",
              "      <td>1</td>\n",
              "      <td>0</td>\n",
              "    </tr>\n",
              "  </tbody>\n",
              "</table>\n",
              "</div>"
            ],
            "text/plain": [
              "   Survived  Pclass  Sex  Age  Fare  Embarked  Initial  Family\n",
              "0         0       3    0    1     0         0        1       1\n",
              "1         1       1    1    2     3         1        3       1\n",
              "2         1       3    1    1     1         0        2       0\n",
              "3         1       1    1    2     3         0        3       1\n",
              "4         0       3    0    2     1         0        1       0"
            ]
          },
          "metadata": {
            "tags": []
          },
          "execution_count": 165
        }
      ]
    },
    {
      "cell_type": "code",
      "metadata": {
        "colab": {
          "base_uri": "https://localhost:8080/",
          "height": 197
        },
        "id": "uFEk0NWQO1ab",
        "outputId": "b9ebb45d-2d67-40f3-c747-f5c0cdd7bcce"
      },
      "source": [
        "test.head()"
      ],
      "execution_count": 166,
      "outputs": [
        {
          "output_type": "execute_result",
          "data": {
            "text/html": [
              "<div>\n",
              "<style scoped>\n",
              "    .dataframe tbody tr th:only-of-type {\n",
              "        vertical-align: middle;\n",
              "    }\n",
              "\n",
              "    .dataframe tbody tr th {\n",
              "        vertical-align: top;\n",
              "    }\n",
              "\n",
              "    .dataframe thead th {\n",
              "        text-align: right;\n",
              "    }\n",
              "</style>\n",
              "<table border=\"1\" class=\"dataframe\">\n",
              "  <thead>\n",
              "    <tr style=\"text-align: right;\">\n",
              "      <th></th>\n",
              "      <th>PassengerId</th>\n",
              "      <th>Pclass</th>\n",
              "      <th>Sex</th>\n",
              "      <th>Age</th>\n",
              "      <th>Fare</th>\n",
              "      <th>Embarked</th>\n",
              "      <th>Initial</th>\n",
              "      <th>Family</th>\n",
              "    </tr>\n",
              "  </thead>\n",
              "  <tbody>\n",
              "    <tr>\n",
              "      <th>0</th>\n",
              "      <td>892</td>\n",
              "      <td>3</td>\n",
              "      <td>0</td>\n",
              "      <td>2</td>\n",
              "      <td>0</td>\n",
              "      <td>2</td>\n",
              "      <td>1</td>\n",
              "      <td>0</td>\n",
              "    </tr>\n",
              "    <tr>\n",
              "      <th>1</th>\n",
              "      <td>893</td>\n",
              "      <td>3</td>\n",
              "      <td>1</td>\n",
              "      <td>2</td>\n",
              "      <td>0</td>\n",
              "      <td>0</td>\n",
              "      <td>3</td>\n",
              "      <td>1</td>\n",
              "    </tr>\n",
              "    <tr>\n",
              "      <th>2</th>\n",
              "      <td>894</td>\n",
              "      <td>2</td>\n",
              "      <td>0</td>\n",
              "      <td>3</td>\n",
              "      <td>1</td>\n",
              "      <td>2</td>\n",
              "      <td>1</td>\n",
              "      <td>0</td>\n",
              "    </tr>\n",
              "    <tr>\n",
              "      <th>3</th>\n",
              "      <td>895</td>\n",
              "      <td>3</td>\n",
              "      <td>0</td>\n",
              "      <td>1</td>\n",
              "      <td>1</td>\n",
              "      <td>0</td>\n",
              "      <td>1</td>\n",
              "      <td>0</td>\n",
              "    </tr>\n",
              "    <tr>\n",
              "      <th>4</th>\n",
              "      <td>896</td>\n",
              "      <td>3</td>\n",
              "      <td>1</td>\n",
              "      <td>1</td>\n",
              "      <td>1</td>\n",
              "      <td>0</td>\n",
              "      <td>3</td>\n",
              "      <td>1</td>\n",
              "    </tr>\n",
              "  </tbody>\n",
              "</table>\n",
              "</div>"
            ],
            "text/plain": [
              "   PassengerId  Pclass  Sex  Age  Fare  Embarked  Initial  Family\n",
              "0          892       3    0    2     0         2        1       0\n",
              "1          893       3    1    2     0         0        3       1\n",
              "2          894       2    0    3     1         2        1       0\n",
              "3          895       3    0    1     1         0        1       0\n",
              "4          896       3    1    1     1         0        3       1"
            ]
          },
          "metadata": {
            "tags": []
          },
          "execution_count": 166
        }
      ]
    },
    {
      "cell_type": "code",
      "metadata": {
        "id": "AHcpJW0MQ1VO"
      },
      "source": [
        "x_train = train.drop('Survived', axis = 1)\n",
        "y_train = train['Survived']\n",
        "x_test = test.drop('PassengerId', axis=1).copy()"
      ],
      "execution_count": 174,
      "outputs": []
    },
    {
      "cell_type": "code",
      "metadata": {
        "colab": {
          "base_uri": "https://localhost:8080/"
        },
        "id": "aHEmea6zRN0n",
        "outputId": "71b8a3a1-51e6-412b-eae1-179d48b82446"
      },
      "source": [
        "x_train.shape"
      ],
      "execution_count": 175,
      "outputs": [
        {
          "output_type": "execute_result",
          "data": {
            "text/plain": [
              "(891, 7)"
            ]
          },
          "metadata": {
            "tags": []
          },
          "execution_count": 175
        }
      ]
    },
    {
      "cell_type": "code",
      "metadata": {
        "colab": {
          "base_uri": "https://localhost:8080/"
        },
        "id": "chnYQFByRRL2",
        "outputId": "125d1455-55f4-4c9f-e1ef-e252596657d9"
      },
      "source": [
        "x_test.shape"
      ],
      "execution_count": 176,
      "outputs": [
        {
          "output_type": "execute_result",
          "data": {
            "text/plain": [
              "(418, 7)"
            ]
          },
          "metadata": {
            "tags": []
          },
          "execution_count": 176
        }
      ]
    },
    {
      "cell_type": "code",
      "metadata": {
        "id": "cXUpWuYgRU1Z"
      },
      "source": [
        "from sklearn.linear_model import LogisticRegression\n",
        "from sklearn.svm import SVC, LinearSVC\n",
        "from sklearn.neighbors import KNeighborsClassifier\n",
        "from sklearn.tree import DecisionTreeClassifier\n",
        "from sklearn.ensemble import RandomForestClassifier\n",
        "from sklearn.naive_bayes import GaussianNB\n",
        "from sklearn.linear_model import Perceptron\n",
        "from sklearn.linear_model import SGDClassifier"
      ],
      "execution_count": 177,
      "outputs": []
    },
    {
      "cell_type": "code",
      "metadata": {
        "colab": {
          "base_uri": "https://localhost:8080/"
        },
        "id": "aUpEVC_XR0LI",
        "outputId": "9322d20b-6ffb-499f-8f7e-7377e406fc96"
      },
      "source": [
        "clf = LogisticRegression()\n",
        "clf.fit(x_train, y_train)\n",
        "y_pred_log_reg = clf.predict(x_test)\n",
        "print('acc', clf.score(x_train, y_train))"
      ],
      "execution_count": 178,
      "outputs": [
        {
          "output_type": "stream",
          "text": [
            "acc 0.8215488215488216\n"
          ],
          "name": "stdout"
        }
      ]
    },
    {
      "cell_type": "code",
      "metadata": {
        "colab": {
          "base_uri": "https://localhost:8080/"
        },
        "id": "_Vj2sajqSM6C",
        "outputId": "7bd3c5e1-4f16-49e7-a68c-6e288091b775"
      },
      "source": [
        "clf = DecisionTreeClassifier()\n",
        "clf.fit(x_train, y_train)\n",
        "y_pred_decision_tree = clf.predict(x_test)\n",
        "print('acc', clf.score(x_train, y_train))"
      ],
      "execution_count": 180,
      "outputs": [
        {
          "output_type": "stream",
          "text": [
            "acc 0.8754208754208754\n"
          ],
          "name": "stdout"
        }
      ]
    },
    {
      "cell_type": "code",
      "metadata": {
        "colab": {
          "base_uri": "https://localhost:8080/"
        },
        "id": "3dh0w-maSVay",
        "outputId": "f0baf666-1eab-4a7f-d74c-746dfb8f6fd1"
      },
      "source": [
        "clf = RandomForestClassifier(n_estimators=100)\n",
        "clf.fit(x_train, y_train)\n",
        "y_pred_random_forest = clf.predict(x_test)\n",
        "print('acc', clf.score(x_train, y_train))"
      ],
      "execution_count": 181,
      "outputs": [
        {
          "output_type": "stream",
          "text": [
            "acc 0.8754208754208754\n"
          ],
          "name": "stdout"
        }
      ]
    }
  ]
}